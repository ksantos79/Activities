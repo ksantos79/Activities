{
 "cells": [
  {
   "cell_type": "markdown",
   "metadata": {},
   "source": [
    "# Instructor Turn Activity 1\n"
   ]
  },
  {
   "cell_type": "markdown",
   "metadata": {},
   "source": [
    "# Students Turn Activity 2\n",
    "### Work through some of the introductory Python scripts and translate them into JavaScript code. Notice to point out the similarities/differences between these two programming languages."
   ]
  },
  {
   "cell_type": "markdown",
   "metadata": {},
   "source": [
    "# Pair Students Activity 3\n",
    "# JavaScript Loan Approver\n",
    "\n",
    "In this activity, you will use JavaScript to make a loan decision for a variety of conditions.\n",
    "\n",
    "![loan-tree.png](Images/loan-tree.png)\n",
    "\n",
    "## Instructions\n",
    "\n",
    "* Use the starter files and complete the logic to calculate a loan decision.\n",
    "\n",
    "* Use the decision tree above to code the JavaScript conditional statements needed to make a loan decision.\n",
    "\n",
    "## BONUS\n",
    "\n",
    "* Use the advanced decision tree and write the logic to make a loan decision.\n",
    "\n",
    "  ![bonus-loan-tree.png](Images/bonus-loan-tree.png)\n",
    "\n",
    "## HINTS\n",
    "\n",
    "* Start at the top of the tree and write the `if, else if, else` statement for income level. Then, fill in each of those with the `if, else` statements needed for the final decisions.\n",
    "\n",
    "* Consider writing the code in Python first and then translate it to JavaScript.\n",
    "\n",
    "* If time allows, begin looking into how a ternary operator works in JavaScript: [https://developer.mozilla.org/en-US/docs/Web/JavaScript/Reference/Operators/Conditional_Operator](https://developer.mozilla.org/en-US/docs/Web/JavaScript/Reference/Operators/Conditional_Operator)."
   ]
  },
  {
   "cell_type": "markdown",
   "metadata": {},
   "source": [
    "# Instructor Turn Activity 4"
   ]
  },
  {
   "cell_type": "markdown",
   "metadata": {},
   "source": [
    "# Instructor Turn Activity 5"
   ]
  },
  {
   "cell_type": "markdown",
   "metadata": {},
   "source": [
    "# Students Turn Activity 6\n",
    "# Movie Score Looping\n",
    "\n",
    "## Instructions\n",
    "\n",
    "* Given a list of movie scores, determine how many good, ok and bad movies were there.\n",
    "\n",
    "* Create a for loop to go through the `movieScore` list.\n",
    "\n",
    "* Add scores over 7 to the `goodMovies` array.\n",
    "\n",
    "* Add scores between 5 and 7 to the `okMovies` array.\n",
    "\n",
    "* Add the rest of the scores to the the `badMovies` array.\n",
    "\n",
    "* Also, calculate the average rating for all of the movies.\n",
    "\n",
    "* Finally, print out how many good, ok and bad movies there were and what the overall total score was.\n",
    "\n",
    "## Hints\n",
    "\n",
    "* You will need to research how to push elements to an empty array.\n",
    "\n",
    "* Check the [documentation](https://www.w3schools.com/jsref/jsref_length_array.asp) to find the length of the array."
   ]
  },
  {
   "cell_type": "markdown",
   "metadata": {},
   "source": [
    "# Instructor Turn Activity 7"
   ]
  },
  {
   "cell_type": "markdown",
   "metadata": {},
   "source": [
    "# Students Turn Activity 8\n",
    "# Statistical Functions\n",
    "\n",
    "## Instructions\n",
    "\n",
    "* Using the movie array from earlier as a starting point, create functions that will return statistical values from any given array of data.\n",
    "\n",
    "* Create functions that will find the following:\n",
    "\n",
    "  * Mean\n",
    "  * Variance\n",
    "  * Standard Deviation\n",
    "\n",
    "* Each function should `console.log` both the name of the statistic used and its value. For example \"The Mean is: 33.3\".\n",
    "\n",
    "* The functions should be able to take any array of numbers and return the statistical value.\n",
    "\n",
    "* After you have the functions working with movie data set run them on the following additional data points:\n",
    "\n",
    "  * `monthlyAvgRainFall = [3.03, 2.48, 3.23, 3.15, 4.13, 3.23]`\n",
    "  * `mileRunTimes = [5.06, 4.54, 5.56, 4.40, 7.10]`\n",
    "\n",
    "## Hints\n",
    "\n",
    "* Use the Javascript Math library to handle calculations needing exponents or square roots.\n",
    "\n",
    "* If you need to refresh how to calculate variance and standard deviation, here are some pages to consult:\n",
    "\n",
    "  * [variance](https://stats.stackexchange.com/questions/212650/variance-explanation)\n",
    "\n",
    "  * [standard deviation](https://www.mathsisfun.com/data/standard-deviation.html)"
   ]
  },
  {
   "cell_type": "code",
   "execution_count": null,
   "metadata": {},
   "outputs": [],
   "source": []
  }
 ],
 "metadata": {
  "kernelspec": {
   "display_name": "Python 3",
   "language": "python",
   "name": "python3"
  },
  "language_info": {
   "codemirror_mode": {
    "name": "ipython",
    "version": 3
   },
   "file_extension": ".py",
   "mimetype": "text/x-python",
   "name": "python",
   "nbconvert_exporter": "python",
   "pygments_lexer": "ipython3",
   "version": "3.6.4"
  }
 },
 "nbformat": 4,
 "nbformat_minor": 2
}
