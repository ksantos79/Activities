{
 "cells": [
  {
   "cell_type": "markdown",
   "metadata": {},
   "source": [
    "# Everyone Do Activity 1"
   ]
  },
  {
   "cell_type": "markdown",
   "metadata": {},
   "source": [
    "# Student Activity 2 D3 Select\n",
    "\n",
    "In this activity, you will use D3 to add a new row of data to a table.\n",
    "\n",
    "## Instructions\n",
    "\n",
    "* Use D3 to convert the Bootstrap table into a striped table.\n",
    "\n",
    "* Use D3 to select the table body and append a new row and cells for the new student name and grade.\n",
    "\n",
    "## Hints\n",
    "\n",
    "* [Bootstrap Striped Tables](http://getbootstrap.com/docs/3.3/css/#tables-striped)"
   ]
  },
  {
   "cell_type": "markdown",
   "metadata": {},
   "source": [
    "# Everyone Do Activity 3: D3 Table"
   ]
  },
  {
   "cell_type": "markdown",
   "metadata": {},
   "source": [
    "# Instructor Turn Activity 4"
   ]
  },
  {
   "cell_type": "markdown",
   "metadata": {},
   "source": [
    "# Students turn Activity 5 \n",
    "# Reverse a String\n",
    "\n",
    "In this activity, you will use d3 to reverse the input text and display it on the page.\n",
    "\n",
    "![reverse-text.gif](Images/reverse-text.gif)\n",
    "\n",
    "## Instructions\n",
    "\n",
    "* Use d3 to select the input (`#text`) and output (`.output`) elements from the page.\n",
    "\n",
    "* Use d3 to attach an event listener to the input field. This event should call the `handleChange` function any time that the input text changes.\n",
    "\n",
    "* Finally, complete the `handleChange` function to select the text from the input field and reverse the string. This function will use d3 to set the output element to the value of the reversed string.\n",
    "\n",
    "## Bonus\n",
    "\n",
    "* Instead of reversing the string, try to calculate the number of characters in the string.\n",
    "\n",
    "* Edit the `index.html` file to change the `h1` tag to an unordered list `ul`. Append each `word: count` as a `li` element.\n",
    "\n",
    "* Hint: You may need to iterate through the object using `Object.entries` and `forEach`. You can find examples [here](https://developer.mozilla.org/en-US/docs/Web/JavaScript/Reference/Global_Objects/Object/entries)."
   ]
  },
  {
   "cell_type": "markdown",
   "metadata": {},
   "source": [
    "# Students Activity 6 Vote Star Wars\n",
    "\n",
    "In this activity, you will use d3 to create click handlers for upvotes and downvotes.\n",
    "\n",
    "![vote-star-wars.gif](Images/vote-star-wars.gif)\n",
    "\n",
    "## Instructions\n",
    "\n",
    "* Use d3 to select the `upvote` and `downvote` buttons on the page.\n",
    "\n",
    "* Create click handlers for the upvote and downvote buttons.\n",
    "\n",
    "* The click handlers should do the following:\n",
    "\n",
    "  * Select the current vote count from the h1 tag.\n",
    "\n",
    "  * Increment or decrement the count depending on which button was selected.\n",
    "\n",
    "  * Update the vote count h1 tag using d3.\n",
    "\n",
    "## BONUS\n",
    "\n",
    "* Use an array to save information about each vote:\n",
    "\n",
    "  * Store whether it was an \"upvote\" or \"downvote\".\n",
    "\n",
    "  * Store the current count at each click.\n",
    "\n",
    "  * Use an array of arrays or an array of objects to store the data.\n",
    "\n",
    "## HINTS\n",
    "\n",
    "* Don't forget to use the `.on` function to attach the click handlers to the buttons.\n",
    "\n",
    "* You will need one click handler for each button.\n",
    "\n",
    "* You will need to use `parseInt` to convert the h1 vote count to a number before you can add or subtract from it."
   ]
  },
  {
   "cell_type": "markdown",
   "metadata": {},
   "source": [
    "# Instructor Turn Activity 7 \n",
    "```javascript\n",
    "d3.selectAll(\"button\").on(\"click\", function() {\n",
    "  // What will be logged out? What is `this` in this case?\n",
    "  console.log(this);\n",
    "  // Answer: It will console log the `button` element.\n",
    "});\n",
    "\n",
    "d3.selectAll(\"li\").on(\"click\", function() {\n",
    "  // you can select the element just like any other selection\n",
    "  var listItem = d3.select(this);\n",
    "  listItem.style(\"color\", \"blue\");\n",
    "\n",
    "  var listItemText = listItem.text();\n",
    "  console.log(listItemText);\n",
    "});\n",
    "\n",
    "```\n",
    "\n",
    "\n",
    " <h1>\"this\"</h1> can have any value. The value of this within any given function call is determined by how the function is called (not where the function is defined, as in languages like C# or Java). The most common way to set up this when calling a function is by calling the function via a property on the object:\n",
    "\n",
    "```javascript \n",
    "var obj = {};\n",
    "obj.foo = function() {\n",
    "    alert(this.firstName);\n",
    "};\n",
    "obj.firstName = \"Fred\";\n",
    "obj.foo(); // alerts \"Fred\"\n",
    "```\n",
    "There, because we called foo via a property on obj, this was set to obj for the duration of the call. But don't get the impression that foo is in any way married to obj, this works just fine:"
   ]
  },
  {
   "cell_type": "markdown",
   "metadata": {},
   "source": [
    "# Instructor Turn Activity 8"
   ]
  },
  {
   "cell_type": "markdown",
   "metadata": {},
   "source": [
    "# Pair Turn Activity 9 \n",
    "# Filter Blood Types\n",
    "\n",
    "In this activity, you will use a form to filter data by blood type.\n",
    "\n",
    "![form-filter.gif](Images/form-filter.gif)\n",
    "\n",
    "## Instructions\n",
    "\n",
    "* Use d3 to add an event listener to the form button that does the following:\n",
    "\n",
    "  * Selects the value of the input element.\n",
    "\n",
    "  * Uses the form input to filter the data by bloodType.\n",
    "\n",
    "## Bonus\n",
    "\n",
    "* Use the [math.js](http://mathjs.org/docs/reference/functions/mean.html) library to calculate the mean, median, mode, variance, and standard deviation for the age field in the filtered data.\n",
    "\n",
    "* Populate the unordered list `ul` with `li` elements for each summary statistic.\n",
    "\n",
    "## Hints\n",
    "\n",
    "* Use `filter()` to filter the data by bloodType.\n",
    "\n",
    "* Use `map()` to create an array of age values from the filtered data.\n",
    "\n",
    "* Use the math.js library to calculate the summary statistics."
   ]
  },
  {
   "cell_type": "code",
   "execution_count": null,
   "metadata": {},
   "outputs": [],
   "source": []
  }
 ],
 "metadata": {
  "kernelspec": {
   "display_name": "Python 3",
   "language": "python",
   "name": "python3"
  },
  "language_info": {
   "codemirror_mode": {
    "name": "ipython",
    "version": 3
   },
   "file_extension": ".py",
   "mimetype": "text/x-python",
   "name": "python",
   "nbconvert_exporter": "python",
   "pygments_lexer": "ipython3",
   "version": "3.6.4"
  }
 },
 "nbformat": 4,
 "nbformat_minor": 2
}
