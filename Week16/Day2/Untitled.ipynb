{
 "cells": [
  {
   "cell_type": "markdown",
   "metadata": {},
   "source": [
    "# Activity 1 Pair Review \n",
    "```javascript\n",
    "// Answer the following questions after discussing with a partner.\n",
    "\n",
    "/* 1. What does SVG stand for? How are they used with D3? */\n",
    "\n",
    "/* 2. What is data binding? */\n",
    "\n",
    "/* 3. Given the following and an HTML page with no elements currently in the body,\n",
    "use the enter() pattern to render three <li> elements to the page with text matching\n",
    "the integers in the array. */\n",
    "\n",
    "var arr = [1, 2, 3];\n",
    "var ul = d3.select(\"body\").append(\"ul\");\n",
    "// YOUR CODE HERE//\n",
    "\n",
    "\n",
    "/* 4. Imagine three <li> elements already exist on the page.  Create code to update the text of those elements while also adding three new elements to match the array below. */\n",
    "var arr = [1, 1, 2, 3, 5, 8];\n",
    "var ul = d3.select(\"ul\");\n",
    "// YOUR CODE HERE //\n",
    "\n",
    "\n",
    "/* Bonus - Refactor your solution to number 4 above using the ES6 syntax for arrow functions. Then, modify the code to set the text of each\n",
    "element to \"<index in the array>: <item from the array>\" */\n",
    "// YOUR CODE HERE //\n",
    "```\n"
   ]
  },
  {
   "cell_type": "markdown",
   "metadata": {},
   "source": [
    "# Activity 2 Instructor Loading Data\n"
   ]
  },
  {
   "cell_type": "markdown",
   "metadata": {},
   "source": [
    "# Activity 3 Pair Bar Chart"
   ]
  },
  {
   "cell_type": "markdown",
   "metadata": {},
   "source": [
    "# Activity 4 Everyone Scale "
   ]
  },
  {
   "cell_type": "markdown",
   "metadata": {},
   "source": [
    "# Activity 5 Intro to Axis"
   ]
  },
  {
   "cell_type": "markdown",
   "metadata": {},
   "source": [
    "# Activity 6 Complete Chart \n",
    "# Complete Bar Chart\n",
    "\n",
    "## Instructions\n",
    "\n",
    "* From the command line, start a Python server to serve the csv and web files: `python -m http.server`\n",
    "\n",
    "* Load the data from the `hours-of-tv-watched.csv` using `d3.csv`.\n",
    "\n",
    "Within the `d3.csv` method callback, do the following:\n",
    "\n",
    "* Cast the hours as numbers.\n",
    "\n",
    "* Create scale functions for your x and y values.\n",
    "\n",
    "* Create functions to generate your x and y axes.\n",
    "\n",
    "* Render your axes to the page.\n",
    "\n",
    "* Render rectangles to the page to create your bar chart and give them hover effects.\n",
    "\n",
    "## Hints\n",
    "\n",
    "* Use prior activities for reference.\n",
    "\n",
    "* Checkout this reference material on [D3 Scales](http://d3indepth.com/scales/).\n",
    "\n",
    "* See this example of create [D3 Band Scales & Bottom Axes](https://bl.ocks.org/biovisualize/9c0d30d0539914ecdb15). Remember that the domain and range must both be arrays.\n",
    "\n",
    "* For assistance with axis creation with D3, see the [d3-axis documentation](https://github.com/d3/d3-axis)."
   ]
  },
  {
   "cell_type": "markdown",
   "metadata": {},
   "source": [
    "# Activity 7 Instructor Turn to Line Generators Intro"
   ]
  },
  {
   "cell_type": "markdown",
   "metadata": {},
   "source": [
    "# Activity 8 Student Generate Lines\n",
    "# Generating Lines\n",
    "\n",
    "In this activity, we will utilize the data retrieved from a csv to generate a line charting life expectancy over time.\n",
    "\n",
    "## Instructions\n",
    "\n",
    "* First, take a few minutes to review the code.\n",
    "\n",
    "* Note that we cast `year` as a number here. This is for demonstration purposes and will normally be cast as a date object.  You will see this in the next activity.\n",
    "\n",
    "* Create scales for x and y so that your line fits the SVG properly.\n",
    "\n",
    "* Create and store a line generator function using the scale functions for x and y.\n",
    "\n",
    "* Append a path element to the SVG using the line generator and add styling attributes.\n",
    "\n",
    "* Test your code by running a server and viewing in the browser. Refine as needed.\n",
    "\n",
    "## Hints\n",
    "\n",
    "* Check out [D3 in Depth - Line Generator](http://d3indepth.com/shapes/#line-generator)."
   ]
  },
  {
   "cell_type": "markdown",
   "metadata": {},
   "source": [
    "# Activity 9 Instructor Turn  Line Chart"
   ]
  },
  {
   "cell_type": "code",
   "execution_count": null,
   "metadata": {},
   "outputs": [],
   "source": [
    "# Activity 10 Students Turn \n",
    "# Line Chart\n",
    "\n",
    "Create a line chart to demonstrate the number of miles per month the user of a fitness application has walked since they started using the app.\n",
    "\n",
    "## Instructions\n",
    "\n",
    "1. Take a moment to study the new data set `miles-walked-this-month.csv`.\n",
    "\n",
    "2. Define the dimensions for chartWidth and chartHeight.\n",
    "\n",
    "3. Append an SVG to the body, and then append a group element to it and translate it to adhere to the margins.\n",
    "\n",
    "4. Load the data from the CSV.  Remember that you will need to run a server to check your page.\n",
    "\n",
    "5. Use the `d3.timeParse` method in order to create a new function to parse the month from the CSV data and save the function to a variable.  You will need to pass the `%B` token as an argument into the `d3.timeParse` method in order to properly configure the new function to create a `Date` object from a string month.\n",
    "\n",
    "6. Run a `forEach` loop on the `milesData`. Cast the `miles` property of each element in the `milesData` array to a number. Use the time parser function created in the last step to convert the `month` for each element into a `Date` object.\n",
    "\n",
    "7. Configure your x and y scales as `xTimeScale` and `yLinearScale`.\n",
    "\n",
    "8. Create your axes generator functions.\n",
    "\n",
    "9. Run the `d3.line` method to create and save a new line generator function. Configure this function to plot the x-axis using `xTimeScale` function, passing in the `date` value for each element in the data set. Then, configure this function to plot the y-axis using the `yLinearScale` function, passing in the `miles` property for each element in the data set.\n",
    "\n",
    "10. Append an SVG `path` to the SVG group element. Set the `d` attribute of the new SVG `path` using the line generator function created in the last step. Pass `milesData` into the line generator as an argument.  Give this element a class of \"line\".\n",
    "\n",
    "11. Append two `<g>` elements and use the axes generator functions you created in step 7 to append an axis to each.  Make sure to place these elements to correctly display your axes.\n",
    "\n",
    "## Hints\n",
    "\n",
    "* See D3 documentation for [local.parse](https://github.com/d3/d3-time-format/blob/master/README.md#locale_parse) to better understand the `d3.timeParse` method.\n",
    "\n",
    "* See D3 documentation for [local.format](https://github.com/d3/d3-time-format/blob/master/README.md#locale_format) to better understand the tokens used with the `d3.timeParse` method.\n",
    "\n",
    "* See D3 documentation for [d3.line](https://github.com/d3/d3-shape#line) to better understand the steps for creating a line generator function.\n",
    "\n",
    "* Check out a [basic line chart example](https://bl.ocks.org/mbostock/3883245) made by D3 creator, Mike Bostock.\n",
    "\n",
    "* Check the browser often, print any values you're unsure about to the console."
   ]
  }
 ],
 "metadata": {
  "kernelspec": {
   "display_name": "Python 3",
   "language": "python",
   "name": "python3"
  },
  "language_info": {
   "codemirror_mode": {
    "name": "ipython",
    "version": 3
   },
   "file_extension": ".py",
   "mimetype": "text/x-python",
   "name": "python",
   "nbconvert_exporter": "python",
   "pygments_lexer": "ipython3",
   "version": "3.6.4"
  }
 },
 "nbformat": 4,
 "nbformat_minor": 2
}
