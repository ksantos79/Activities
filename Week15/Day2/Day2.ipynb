{
 "cells": [
  {
   "cell_type": "markdown",
   "metadata": {},
   "source": [
    "# Students Turn Activity 2 Dynamic Pie Chart with Dropdown\n",
    "\n",
    "In this activity, you will use a dropdown selector to choose from one of three datasets to update the pie chart.\n",
    "\n",
    "## Instructions\n",
    "\n",
    "* Review the drop down select element in the `index.html` file to see what options will be sent to the `getData` function.\n",
    "\n",
    "* Complete the `getData` function to choose a new data array depending on which dataset was selected. You can choose the new data values. Write a switch statement to choose between the datasets based on the value selected from the html dropdown select element.\n",
    "\n",
    "* Complete the `updatePlotly` function to use `Plotly.restyle` to update the chart data with a new data array.\n",
    "\n",
    "## Hints\n",
    "\n",
    "* Remember that `Plotly.restyle` requires an extra set of square brackets around the data arrays."
   ]
  },
  {
   "cell_type": "markdown",
   "metadata": {},
   "source": [
    "# Students Activity 4 Stock Time Series\n",
    "\n",
    "In this activity, we use a [Quandl api](https://www.quandl.com/) to fetch stock data and then build a time-series financial plot for the closing stock prices.\n",
    "\n",
    "## Instructions\n",
    "\n",
    "* Use the starter code provided and complete the function `buildPlots`\n",
    "\n",
    "* Use `Plotly.d3.json` to fetch data from the Quandl api. Note that you will need to register for a free api key and then add that key to your url.\n",
    "\n",
    "```javascript\n",
    "var api_key = YOUR_API_KEY\n",
    "var url = `https://www.quandl.com/api/v3/datasets/WIKI/AMZN.json?start_date=2016-10-01&end_date=2017-10-01&api_key=${api_key}`\n",
    "```\n",
    "\n",
    "* Use the `unpack` helper function to select the data that you need from the json response object. See the comments for additional documentation.\n",
    "\n",
    "* Use the code examples from the plotly.js documentation to build your basic time series plot\n",
    "\n",
    "## Bonus\n",
    "\n",
    "* Add a [Range Slider](https://plot.ly/python/range-slider/) to the time series plot to dynamically select the view range.\n",
    "\n",
    "- - -\n"
   ]
  },
  {
   "cell_type": "markdown",
   "metadata": {},
   "source": [
    "# Student Activity 5 Stock Time Series Dynamic\n",
    "\n",
    "In this activity, we expand on our previous time series plot with a dynamic plot that reads the stock from the user form.\n",
    "\n",
    "## Instructions\n",
    "\n",
    "* Use the starter code provided and complete the function `handleSubmit`\n",
    "\n",
    "* Add an event listener to the submit button that will take the input value and search quandl for a particular stock.\n",
    "\n",
    "## Hints\n",
    "\n",
    "* To select the input value from the form, select the input element containing the user's desired stock; use the [node](https://github.com/d3/d3-selection#selection_node) function on your selection; and use dot notation to retrieve the [value](https://developer.mozilla.org/en-US/docs/Web/HTML/Attributes) attribute from the result.\n",
    "\n",
    "* To clear the input value, set the above `value` equal to the empty string.\n",
    "\n",
    "- - -"
   ]
  },
  {
   "cell_type": "markdown",
   "metadata": {},
   "source": [
    "# Students Activity 6 Stock CandleStick Chart\n",
    "\n",
    "In this activity, we will add a candlestick plot to our time series financial plot to highlight the positive and negative changes in a stock over time.\n",
    "\n",
    "## Instructions\n",
    "\n",
    "* Use the starter code provided and complete the code for trace2. Note: You will also need to extract additional information for this trace. Use the plotly documentation to determine the additional fields.\n",
    "\n",
    "- - -"
   ]
  },
  {
   "cell_type": "markdown",
   "metadata": {},
   "source": [
    "# Students Activity 7 Stock Time Series Rolling Averages\n",
    "\n",
    "In this activity, we will add a trace containing a 30 day rolling average for the stock closing price.\n",
    "\n",
    "## Instructions\n",
    "\n",
    "* Use the starter code provided and complete the function `rollingAverage`.\n",
    "\n",
    "* The array passed to this function will the closing price data for the stock.\n",
    "\n",
    "* Inside the function, loop through the stock closing price array and calculate the average for a sliding window of 30 days.\n",
    "\n",
    "- - -"
   ]
  },
  {
   "cell_type": "markdown",
   "metadata": {},
   "source": [
    "# Students Turn Activity 8 Stock Time Series HTML Report\n",
    "\n",
    "In this activity, we will complete our financial time series project by building an HTML report page for our visualizations.\n",
    "\n",
    "## Instructions\n",
    "\n",
    "* Use Bootstrap to build a financial report HTML page.\n",
    "\n",
    "  * This page should include the following:\n",
    "\n",
    "    1. A Plotly time series plot of the stock.\n",
    "\n",
    "    2. A Table of the 12 month stock data\n",
    "\n",
    "    3. A company summary panel\n",
    "\n",
    "* Complete the missing code in `plots.js` to dynamically build a table of the monthly stock data using `Plotly.d3`.\n",
    "\n",
    "- - -"
   ]
  },
  {
   "cell_type": "code",
   "execution_count": null,
   "metadata": {},
   "outputs": [],
   "source": []
  }
 ],
 "metadata": {
  "kernelspec": {
   "display_name": "Python 3",
   "language": "python",
   "name": "python3"
  },
  "language_info": {
   "codemirror_mode": {
    "name": "ipython",
    "version": 3
   },
   "file_extension": ".py",
   "mimetype": "text/x-python",
   "name": "python",
   "nbconvert_exporter": "python",
   "pygments_lexer": "ipython3",
   "version": "3.6.4"
  }
 },
 "nbformat": 4,
 "nbformat_minor": 2
}
