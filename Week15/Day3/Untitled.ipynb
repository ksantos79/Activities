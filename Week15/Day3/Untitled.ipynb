{
 "cells": [
  {
   "cell_type": "markdown",
   "metadata": {},
   "source": [
    "# Students Turn Activity 2 Never Gonna Give You Up\n",
    "\n",
    "## Instructions\n",
    "\n",
    "* Create an API route that will serve the data needed for a Plotly chart.\n",
    "\n",
    "* Create a pie chart using `Plotly.d3.json` to fetch the data from your API.\n",
    "\n",
    "## BONUS\n",
    "\n",
    "* Study the code in `lyrics.py` to understand how it works.\n",
    "\n",
    "* Explain it to your buddy."
   ]
  },
  {
   "cell_type": "markdown",
   "metadata": {},
   "source": [
    "# Students Activity 4 Bigfoot Afoot\n",
    "\n",
    "## Instructions\n",
    "\n",
    "* Create an api route that queries your database for the data needed to plot 'years' vs 'sightings'.\n",
    "\n",
    "* Create a plot that uses the api route to fetch the data."
   ]
  },
  {
   "cell_type": "markdown",
   "metadata": {},
   "source": [
    "# Everyone Activity 5 Flask Requests\n",
    "\n",
    "## Instructions\n",
    "\n",
    "* Take the solution to the bigfoot sightings activity and deploy the app to heroku.\n",
    "\n",
    "* NOTE: Make sure that you do not leave `debug=True` enabled in your app."
   ]
  },
  {
   "cell_type": "markdown",
   "metadata": {},
   "source": [
    "# Students Activity 7 Pet Pal\n",
    "\n",
    "## Instructions\n",
    "\n",
    "* Create the following full-stack application:\n",
    "\n",
    "  ![petpals1.png](Images/petpals1.png)\n",
    "\n",
    "  ![petpals2.png](Images/petpals2.png)\n",
    "\n",
    "* Your app should allow users to enter information on their pets.\n",
    "\n",
    "* Its home page should also visualize the number of pets by type."
   ]
  },
  {
   "cell_type": "code",
   "execution_count": null,
   "metadata": {},
   "outputs": [],
   "source": []
  }
 ],
 "metadata": {
  "kernelspec": {
   "display_name": "Python 3",
   "language": "python",
   "name": "python3"
  },
  "language_info": {
   "codemirror_mode": {
    "name": "ipython",
    "version": 3
   },
   "file_extension": ".py",
   "mimetype": "text/x-python",
   "name": "python",
   "nbconvert_exporter": "python",
   "pygments_lexer": "ipython3",
   "version": "3.6.4"
  }
 },
 "nbformat": 4,
 "nbformat_minor": 2
}
