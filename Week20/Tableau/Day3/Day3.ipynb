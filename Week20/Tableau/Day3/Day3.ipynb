{
 "cells": [
  {
   "cell_type": "markdown",
   "metadata": {},
   "source": [
    "# Students Turn Activity 1\n",
    "# Psychiatric Health Care\n",
    "\n",
    "## Instructions\n",
    "\n",
    "* In this activity, you will work with 2014 data on in-patient psychiatric patient care in hospitals across the United States.\n",
    "\n",
    "* The data set contains information on, among other things:\n",
    "\n",
    "  * The number of patients who were discharged with a continuing care plan\n",
    "  * The number of patients who were discharged with multiple anti-psychotic medications\n",
    "  * The use of physical restraint\n",
    "  * The use of seclusion\n",
    "\n",
    "* You will first have to clean the data, at a minimum fixing the column headings. They will use the included **HBIPS_Measure_Sets.pdf** to accomplish this task.\n",
    "\n",
    "  * For example, `HBIPS3` in the CSV refers to the use of seclusion, in hours.\n",
    "\n",
    "* You should first come up with a dashboard summary that resembles the following.\n",
    "\n",
    "  ![Images/dashboard1.png](Images/dashboard1.png)\n",
    "\n",
    "* Afterwards, create additional visualizations of your choosing. Focus on data exploration, rather than obtaining pre-defined visualizations. You are encouraged to come up with interesting and creative visualizations, and you are free to bring additional data sources into the workbook."
   ]
  },
  {
   "cell_type": "markdown",
   "metadata": {},
   "source": [
    "# Students Turn Activity 2 Airlines\n",
    "\n",
    "## Instructions\n",
    "\n",
    "* In this activity, you will explore the safety of the world's airlines. The data set used here is from [fivethirtyeight.com](https://github.com/fivethirtyeight/data/tree/master/airline-safety)\n",
    "\n",
    "* It will be an open-ended exploration of the data, but some questions to consider might be:\n",
    "\n",
    "  * What are the safest airlines in the world, and how do we define the idea of safety?\n",
    "\n",
    "  * Can we group airlines by region to determine whether some regions have better track records than others? What are some possible fallacies of this approach?\n"
   ]
  },
  {
   "cell_type": "markdown",
   "metadata": {},
   "source": [
    "# Students Turn Activity 3\n",
    "# Endangered Languages\n",
    "\n",
    "## Instructions\n",
    "\n",
    "* In this activity, you are given a data set of endangered languages throughout the world. \n",
    "\n",
    "* Create several visualizations regarding endangered languages, which may include:\n",
    "\n",
    "  * The number of endangered languages per country\n",
    "\n",
    "  * The number of critically endangered countries per country\n",
    "\n",
    "* Additionally, join the data set to an additional data source to create extra visualization(s).\n",
    "\n",
    "  * For example, you might bring in data about the per capita GDP of each country to visualize the wealthiest nations with the greatest number of endangered languages. That is, which countries have the most endangered languages and have the economic means to assist their preservation?\n",
    "\n",
    "  * Or you might look at the overall literacy rate of countries. Is low literacy rate an impediment to preservation of endangered languages?\n"
   ]
  },
  {
   "cell_type": "code",
   "execution_count": null,
   "metadata": {},
   "outputs": [],
   "source": []
  }
 ],
 "metadata": {
  "kernelspec": {
   "display_name": "Python 3",
   "language": "python",
   "name": "python3"
  },
  "language_info": {
   "codemirror_mode": {
    "name": "ipython",
    "version": 3
   },
   "file_extension": ".py",
   "mimetype": "text/x-python",
   "name": "python",
   "nbconvert_exporter": "python",
   "pygments_lexer": "ipython3",
   "version": "3.6.4"
  }
 },
 "nbformat": 4,
 "nbformat_minor": 2
}
