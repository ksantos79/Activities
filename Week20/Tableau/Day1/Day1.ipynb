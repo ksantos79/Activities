{
 "cells": [
  {
   "cell_type": "markdown",
   "metadata": {},
   "source": [
    "# Instructor Turn Loading Data Activity 1\n"
   ]
  },
  {
   "cell_type": "markdown",
   "metadata": {},
   "source": [
    "# Instructor Turn Basic Visuals Activity 2"
   ]
  },
  {
   "cell_type": "markdown",
   "metadata": {},
   "source": [
    "# Students Turn Exploration Activity 3\n",
    "# Data Exploration with Tableau\n",
    "\n",
    "## Instructions\n",
    "\n",
    "* Using the `GlobalSuperstoreOrders2016.xlsx` workbook, visualize the following:\n",
    "\n",
    "1. The customers with the highest sales amount\n",
    "   ![01.png](Images/01.png)\n",
    "2. The most profitable customers\n",
    "   ![02.png](Images/02.png)\n",
    "3. The states with the highest average profit\n",
    "   ![03.png](Images/03.png)\n",
    "4. A monthly timeline of sales\n",
    "   ![04.png](Images/04.png)\n",
    "5. Profit by region and product category (in the United States).\n",
    "   ![05.png](Images/05.png)"
   ]
  },
  {
   "cell_type": "markdown",
   "metadata": {},
   "source": [
    "# Students Turn No Show Activity 4\n",
    "# No Shows\n",
    "\n",
    "## Instructions\n",
    "\n",
    "* Create a line chart that compares the ages of patients against the total number of appointments. Then split this graph based upon gender and whether the patient showed up to their appointment. For this first step, you'll need to convert `Age` from a measure to a dimension.\n",
    "\n",
    "* Create a pair of bar charts that compare how many patients showed up to appointments versus how many were no-shows in different neighborhoods.\n",
    "\n",
    "* Create a stacked bar chart that compares no-shows to those who made it to appointment based upon the day of the week.\n",
    "\n",
    "* Create a pair of line graphs that compare age versus diabetes in both men and women.\n",
    "\n",
    "* Create a pair of line graphs that compare age versus alcoholism in both men and women.\n"
   ]
  },
  {
   "cell_type": "markdown",
   "metadata": {},
   "source": [
    "# Instructor Turn Easy Joins Activity 5"
   ]
  },
  {
   "cell_type": "markdown",
   "metadata": {},
   "source": [
    "# Students Turn FIFA Players Activity 6\n",
    "# FIFA Analysis\n",
    "\n",
    "## Instructions\n",
    "\n",
    "* Create a join between each of the charts so that each player's data is matched up correctly.\n",
    "\n",
    "* Create a pair of charts that compare the potential of a club's players to their overall ability (`Overall` column). Then sort them from best to worst.\n",
    "\n",
    "* Create a chart that determines which soccer club is the most aggressive overall.\n",
    "\n",
    "* Create a chart that determines which nationality has the greatest acceleration on average, making sure to note how many players are from each nation in a second chart.\n",
    "\n",
    "* Create a chart that determines which nationality has the greatest long passing on average.\n",
    "\n",
    "* Create a chart that marks the potential of a player over time as they age."
   ]
  },
  {
   "cell_type": "markdown",
   "metadata": {},
   "source": [
    "# Students Turn Ultimate Candy Activity 7\n",
    "# The Ultimate Candy\n",
    "\n",
    "## Instructions\n",
    "\n",
    "* Create a pair of bar graphs that chart the win percent of each candy, then color the bars according to whether they are fruity and/or chocolatey.\n",
    "\n",
    "* Create a scatter plot comparing the sugar percentage against the win percentage. Color the points based upon whether they are chocolatey and size them according to price.\n",
    "\n",
    "* Create one more scatter plot comparing the sugar percentage against the win percentage. Color the points based upon whether they are fruity and size them according to price."
   ]
  },
  {
   "cell_type": "markdown",
   "metadata": {},
   "source": [
    "# Instructor Turn StoryTelling Activity 8"
   ]
  },
  {
   "cell_type": "markdown",
   "metadata": {},
   "source": [
    "# Students Turn Degrees Pay Activity 9\n",
    "# Degrees That Pay\n",
    "\n",
    "## Instructions\n",
    "\n",
    "* Create a story using the datasets provided and formulate graphs that might be used to explore the following hypotheses:\n",
    "\n",
    "* \"Ivy League schools offer best salaries while state offer worst\"\n",
    "\n",
    "* \"Going to school in California/NE offers higher salaries\"\n",
    "\n",
    "* \"Higher starting salaries generally mean higher salaries mid-career\"\n",
    "\n",
    "* Bonus: Create a chart that visualizes starting median salaries, by major, against mid-career median, 75th percentile, and 90th percentile salaries.\n"
   ]
  },
  {
   "cell_type": "code",
   "execution_count": null,
   "metadata": {},
   "outputs": [],
   "source": []
  }
 ],
 "metadata": {
  "kernelspec": {
   "display_name": "Python 3",
   "language": "python",
   "name": "python3"
  },
  "language_info": {
   "codemirror_mode": {
    "name": "ipython",
    "version": 3
   },
   "file_extension": ".py",
   "mimetype": "text/x-python",
   "name": "python",
   "nbconvert_exporter": "python",
   "pygments_lexer": "ipython3",
   "version": "3.6.4"
  }
 },
 "nbformat": 4,
 "nbformat_minor": 2
}
