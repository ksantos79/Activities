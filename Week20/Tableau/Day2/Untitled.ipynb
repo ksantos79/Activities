{
 "cells": [
  {
   "cell_type": "markdown",
   "metadata": {},
   "source": [
    "# Students Turn Activity 1 \n",
    "# Tableau Warmup?\n",
    "\n",
    "## Instructions\n",
    "\n",
    "* In this activity, you are given a Tableau workbook with a data set on higher educational institutions from the 2013-2014 academic year. \n",
    "\n",
    "* Use it to try to visualize some interesting questions, such as the following:\n",
    "\n",
    "  * Is there a relationship between an institution's average ACT/SAT scores and the average number of doctorates awarded?\n",
    "  * Which regions in the United States have the greatest percentage of students receiving federal grant aid?\n",
    "  * Is there a correlation between SAT scores and regions?\n",
    "  * Of the institutions with religious affiliations, schools belonging to which denominations receive the most foreign undergraduate students?\n",
    "  * Do foreign undergraduates prefer institutions that award only bachelor's degrees, or master's, or doctorates?\n",
    "  * Of institutions that offer bachelor's, master's, or doctorates as the highest degrees, which have the highest graduation rates within four years?\n",
    "  * Is there a correlation between tuition and SAT scores?"
   ]
  },
  {
   "cell_type": "markdown",
   "metadata": {},
   "source": [
    "# Instructor Turn Group Sets Activity 2"
   ]
  },
  {
   "cell_type": "markdown",
   "metadata": {},
   "source": [
    "# Students Turn Activity 3\n",
    "# Dog Intelligence & Size\n",
    "\n",
    "* **Woof!** In this activity, you will explore the relationship between a dog's size and its intelligence. Woof!\n",
    "\n",
    "## Instructions\n",
    "\n",
    "* Join the two CSV files provided to access info on dog breeds and potential markers of intelligence.\n",
    "\n",
    "  * The Obey column refers to a dog breed's average rate of obedience to the first command.\n",
    "  * The Reps Lower column refers to a dog breed's lower ceiling of repetitions required to learn a new command.\n",
    "  * The Reps Upper column refers to a dog breed's upper ceiling of repetitions required to learn a new command.\n",
    "\n",
    "* Group all the breeds into **small, medium, and large breeds** by weight, and plot obedience on first command, minimum number of repetitions required to learn a new command, and the maximum number of repetitions required to learn a new command. \n",
    "\n",
    "  * Measure dog weight as you see fit, either by lower or upper limit, or an average of both.\n",
    "  * For the purposes of this activity, small dogs are considered to weigh up to 20 pounds, medium dogs weigh up to 60 pounds, and large dogs weigh over 60 pounds.\n",
    "\n",
    "* Create sets of small, medium, and large dog breeds and compare the obedience rate of small dogs versus non-small dogs.\n",
    "\n",
    "  * Compare also small dogs' minimum and maximum repetitions versus non-small dogs\n",
    "  * Try doing the same for large breeds versus non-large breeds\n",
    "\n",
    "* Come up with other ways to use groups and sets. Make some interesting visualizations!\n",
    "\n",
    "* What conclusions can you draw?\n",
    "\n",
    "## Bonus\n",
    "\n",
    "* If you finish early, go back to earlier data sets and try to create some visualizations using groups or sets. For example, with the data set on higher education, can you visualize the average SAT and ACT scores at institutions that award only bachelor's degrees, at institutions that award up to master's degrees, and at institutions that award up to doctorate degrees? \n"
   ]
  },
  {
   "cell_type": "markdown",
   "metadata": {},
   "source": [
    "# Instructor Turn Activity 4"
   ]
  },
  {
   "cell_type": "markdown",
   "metadata": {},
   "source": [
    "# Students Turn Activity 5 \n",
    "# Calculations\n",
    "\n",
    "## Instructions\n",
    "\n",
    "* The data set you have been given is on motor vehicle accidents in New York city.\n",
    "\n",
    "* Try to create visualizations to the following questions:\n",
    "\n",
    "  * What are the most dangerous hours for cyclists in a day?\n",
    "  * What are the most dangerous months for a cyclist?\n",
    "  * What are the most common causes of accidents?\n",
    "  * How many people have been injured during each month?\n",
    "\n",
    "* Are there any possible problems or issues with these visualizations?  \n",
    "\n",
    "* Use calculations and logical statements to enhance your visualizations. Some of them may include:\n",
    "\n",
    "  * Using conditional logic to color dangerous months, boroughs, and hours\n",
    "  * Charting the increase or decrease in the number of injuries in each month relative to the previous month.\n",
    "  * Feel free to revisit earlier data sets to create calculations.\n",
    "\n",
    "* Use your imagination, and good luck!  \n"
   ]
  },
  {
   "cell_type": "code",
   "execution_count": null,
   "metadata": {},
   "outputs": [],
   "source": [
    "# Instructor Turn Activity 6 Maps"
   ]
  }
 ],
 "metadata": {
  "kernelspec": {
   "display_name": "Python 3",
   "language": "python",
   "name": "python3"
  },
  "language_info": {
   "codemirror_mode": {
    "name": "ipython",
    "version": 3
   },
   "file_extension": ".py",
   "mimetype": "text/x-python",
   "name": "python",
   "nbconvert_exporter": "python",
   "pygments_lexer": "ipython3",
   "version": "3.6.4"
  }
 },
 "nbformat": 4,
 "nbformat_minor": 2
}
