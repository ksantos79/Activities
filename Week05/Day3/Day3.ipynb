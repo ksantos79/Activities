{
 "cells": [
  {
   "cell_type": "markdown",
   "metadata": {},
   "source": [
    "# Instructor Turn: Activity 1 Mean Median Mode \n",
    "\n",
    "### Prices\n",
    "\n",
    "The best measure for summarizing the price of electronics is the **median**, 425.\n",
    "\n",
    "The mean is a poor choice, because the extreme prices of 4 and 2932 skew the average. The mode is also insufficient, as all prices occur exactly once.\n",
    "\n",
    "### Bootcamp Ages\n",
    "\n",
    "The best measures for summarizing the ages of Bootcamp students are the **mean**, 36, and the **median**, also 36.\n",
    "\n",
    "The mean is a good choice, because the lowest and highest ages are not substantially higher or lower than the average. The median is also a good choice, as it returns the same result, and would not change if there _were_ extreme ages in the data set.\n",
    "\n",
    "### Children's Party Ages\n",
    "\n",
    "The best measure for summarizing the ages of children and chaperones at a birthday party is the **mode**.\n",
    "\n",
    "The mean, 19, is a poor choice, because it characterizes the average attendee as a teenager, when no one at the party is older than 6 or younger than 35.\n",
    "\n",
    "The median, 6, works well in this case. _But_, it is fragile: If we had just one more 34 year old parent, the median would be 34, _not_ 6.\n",
    "\n",
    "### Geography Test Scores\n",
    "\n",
    "The best measure for summarizing this test score data is the **mean**, since the lowest and highest scores are close to the average. The median is also a good choice.\n",
    "\n",
    "The mode is not particularly informative, because all test scores occur exactly once.\n",
    "\n",
    "### Quantum Mechanics Test Scores\n",
    "\n",
    "Finally, the best measures for summarizing this test score data are the **median** and the **mode**.\n",
    "\n",
    "The median, 58, gives a fairly good description of how the test went for the class. Some students scored very low (scores of 8 and 13); one scored very high (98); and the rest were somewhere in the middle, which the median detects.\n",
    "\n",
    "In this case, the mean, 45, would reveal similar information — that the class mostly did poorly — but does not give the best picture as to what scores students actually ended up with."
   ]
  },
  {
   "cell_type": "markdown",
   "metadata": {},
   "source": [
    "# Dependencies from the stats.py provided\n",
    "\n",
    "```python\n",
    "from collections import Counter\n",
    "\n",
    "def mean(arr):\n",
    "    \"\"\"\n",
    "    Calculates the mean of a list of numbers.\n",
    "    Usage: mean([3, 4, 5, 6, 7]) # 5 \"\"\"\n",
    "\n",
    "    return sum(arr) / len(arr)\n",
    "\n",
    "\n",
    "def median(arr):\n",
    "    \"\"\"Calculates the median of a list of numbers.\n",
    "    Usage: median([3, 4, 5, 6, 7]) # 5\"\"\"\n",
    "    arr.sort()\n",
    "    if len(arr) % 2 == 1:\n",
    "        return arr[len(arr) // 2]\n",
    "    else:\n",
    "        mid1 = len(arr) // 2\n",
    "        mid2 = mid1 - 1\n",
    "        return (arr[mid1] + arr[mid2])/2\n",
    "\n",
    "\n",
    "def mode(arr):\n",
    "    \"\"\"Calculates the mode of a list of numbers as a tuple containing the\n",
    "    most frequently occurring element in the first slot, and the number\n",
    "    of times it occurs in the second. If there are multiple modes,\n",
    "    returns only one.\n",
    "    Usage: mode([1, 1, 2, 3]) # (1, 2)\"\"\"\n",
    "    return Counter(arr).most_common(1)[0]\n",
    "\n",
    "\n",
    "def multi_mode(arr):\n",
    "    \"\"\"Calculates the mode of a list of numbers as an array of tuples\n",
    "    containing the most frequently occurring elements. Each tuple\n",
    "    contains the item itself in the first slot, and the number of times\n",
    "    it occurs in the second. If there are multiple modes, returns all.\n",
    "    Usage: mode([1, 1, 2, 2, 3]) # [(1, 2), (2, 2)]\"\"\"\n",
    "\n",
    "    # Count items\n",
    "    counter = Counter(arr)\n",
    "\n",
    "    # Get number of times most frequently occurring item appears\n",
    "    freq = counter.most_common(1)[0][1]\n",
    "\n",
    "    # Return list of tuples containing most frequently occurring elements\n",
    "    return [(key, val) for key, val in counter.items() if val == freq]\n",
    "```"
   ]
  },
  {
   "cell_type": "code",
   "execution_count": 2,
   "metadata": {},
   "outputs": [],
   "source": [
    "# Dependencies\n",
    "# this is imported from the stats.py file already created it is not a built in python function \n",
    "from stats import mean, median, mode, multi_mode"
   ]
  },
  {
   "cell_type": "code",
   "execution_count": 4,
   "metadata": {},
   "outputs": [
    {
     "name": "stdout",
     "output_type": "stream",
     "text": [
      "Median Price: 425\n"
     ]
    }
   ],
   "source": [
    "# Prices of random electronics at Best Buy\n",
    "prices = [4, 425, 984, 2932, 49]\n",
    "print(f\"Median Price: {median(prices)}\")"
   ]
  },
  {
   "cell_type": "code",
   "execution_count": 5,
   "metadata": {},
   "outputs": [
    {
     "name": "stdout",
     "output_type": "stream",
     "text": [
      "Mean Bootcamp Age: 36.666666666666664\n",
      "Median Bootcamp Age: 35.5\n"
     ]
    }
   ],
   "source": [
    "# Ages of students in bootcamp\n",
    "bootcamp_classroom_ages = [27, 35, 42, 52, 36, 28]\n",
    "print(f\"Mean Bootcamp Age: {mean(bootcamp_classroom_ages)}\")\n",
    "print(f\"Median Bootcamp Age: {median(bootcamp_classroom_ages)}\")"
   ]
  },
  {
   "cell_type": "code",
   "execution_count": 6,
   "metadata": {},
   "outputs": [
    {
     "name": "stdout",
     "output_type": "stream",
     "text": [
      "Mode of Birthday Party Ages: 19.142857142857142\n"
     ]
    }
   ],
   "source": [
    "# Ages of children and parents at child's party# Ages  \n",
    "birthday_party_ages = [6, 5, 6, 6, 35, 42, 34]\n",
    "print(f\"Mode of Birthday Party Ages: {mean(birthday_party_ages)}\")"
   ]
  },
  {
   "cell_type": "code",
   "execution_count": 7,
   "metadata": {},
   "outputs": [
    {
     "name": "stdout",
     "output_type": "stream",
     "text": [
      "Mean of Geography Test Scores: 91.0\n"
     ]
    }
   ],
   "source": [
    "# Test score from a 2nd grade geography test\n",
    "geo_grades = [87, 89, 91, 93, 95]\n",
    "print(f\"Mean of Geography Test Scores: {mean(geo_grades)}\")"
   ]
  },
  {
   "cell_type": "code",
   "execution_count": 7,
   "metadata": {},
   "outputs": [
    {
     "name": "stdout",
     "output_type": "stream",
     "text": [
      "Median of QM Grades: 58\n",
      "Modes of QM Grades: [(13, 2), (63, 2)]\n",
      "45.142857142857146\n"
     ]
    }
   ],
   "source": [
    "# Test scores from a graduate quantum mechanics midterm\n",
    "quantum_grades = [63, 63, 98, 13, 58, 13, 8]\n",
    "print(f\"Median of QM Grades: {median(quantum_grades)}\")\n",
    "print(f\"Modes of QM Grades: {multi_mode(quantum_grades)}\")\n",
    "print(mean(quantum_grades))"
   ]
  },
  {
   "cell_type": "markdown",
   "metadata": {},
   "source": [
    "# Instructors Turn Activity 2 Variance and Z Score\n",
    "\n",
    "* Consider these two lists: [3, 4, 5, 6, 7] and [-1525, -200, 5, 745, 1000].\n",
    "    * For both of these data sets, the mean and median are 5 — but they are obviously different!\n",
    "    * Data sets are different in how spread out the data is, something that the mean, median, and mode cannot capture.\n",
    "* Variance of a data set is a single number that describes how \"far apart\" its values are. \n",
    "* The average of the squared differences from the Mean.\n",
    "\n",
    "![alt text](http://www.statisticshowto.com/wp-content/uploads/2009/08/usual.png)\n",
    "\n",
    "#### Example [17, 15, 23, 7, 9, 13 ] \n",
    "##### Step 1: Calculate mean\n",
    "##### mean: 14\n",
    "##### Step 2:  Subtract the mean from each data point. \n",
    "##### x1 - x:  (17 - 14)   =  3\n",
    "##### x2 - x: (15 - 14)    =  1\n",
    "##### x3 - x: (23 - 14)    =  9\n",
    "##### x4 - x: (7 - 14)      = -7\n",
    "##### x5 - x: (9 - 14)      = -5\n",
    "##### x6 - x: (13 - 14)    = -1\n",
    "##### Step 3: Square each result\n",
    "##### (x1 - x )^2 = (17 - 14)^2 = 3^2 = 9\n",
    "##### (x2 - x )^2 = (15 - 14)^2 = 1^2 = 1\n",
    "##### (x3 - x )^2 = (23 - 14)^2 = 9^2 = 81\n",
    "##### (x4 - x )^2 = (7 - 14)^2 = -7^2 = 49\n",
    "##### (x5 - x )^2 = (9 - 14)^2 = (-5^2) = 25\n",
    "##### (x6 - x )^2 = (13 - 14)^2 = -1^2 = 1\n",
    "#### Step 4: Find the sum of the squared values. \n",
    "#### 9 + 1 + 81 + 49 + 25 + 1 = 166\n",
    "#### Step 5: Divide by n - 1, where n is the number of data points.\n",
    "#### 166 / (7 - 1) = 33.2\n",
    "\n",
    "\n",
    "\n",
    "\n"
   ]
  },
  {
   "cell_type": "code",
   "execution_count": 37,
   "metadata": {},
   "outputs": [
    {
     "name": "stdout",
     "output_type": "stream",
     "text": [
      "14.0\n",
      "[3.0, 1.0, 9.0, -7.0, -5.0, -1.0]\n",
      "[9.0, 1.0, 81.0, 49.0, 25.0, 1.0]\n",
      "33.2\n"
     ]
    },
    {
     "data": {
      "text/plain": [
       "5.761944116355173"
      ]
     },
     "execution_count": 37,
     "metadata": {},
     "output_type": "execute_result"
    }
   ],
   "source": [
    "import math\n",
    "# Step 1 \n",
    "data = [17, 15, 23, 7, 9, 13]\n",
    "mean = sum(data) / len(data)\n",
    "print(mean)\n",
    "\n",
    "# Step 2\n",
    "step2 = []\n",
    "for d in data:\n",
    "    step2.append(d - mean)\n",
    "print(step2)\n",
    "\n",
    "# Step 3\n",
    "step3 = []\n",
    "for d in step2:\n",
    "    step3.append(d ** 2)\n",
    "print(step3)\n",
    "\n",
    "# Step 4\n",
    "sum(step3)\n",
    "\n",
    "# Step 5 \n",
    "variance = sum(step3)/(len(step3) - 1)\n",
    "print(variance)\n",
    "\n",
    "\n",
    "# Standard Deviation\n",
    "math.sqrt(variance)\n",
    "\n",
    "\n",
    "\n"
   ]
  },
  {
   "cell_type": "markdown",
   "metadata": {},
   "source": [
    "# Dependencies from spread.py provided \n",
    "```python \n",
    "from math import sqrt\n",
    "\n",
    "# this is imported from the stats.py \n",
    "from statistics import mean\n",
    "\n",
    "\n",
    "def variance(arr):\n",
    "    _mean = mean(arr)\n",
    "    normalized = [x - _mean for x in arr]\n",
    "    squares = [x ** 2 for x in normalized]\n",
    "    return sum(squares) / len(arr)\n",
    "\n",
    "\n",
    "def standard_deviation(arr):\n",
    "    return sqrt(variance(arr))\n",
    "\n",
    "\n",
    "def z_score(arr, index):\n",
    "    return (arr[index] - mean(arr)) / standard_deviation(arr)\n",
    "\n",
    "\n",
    "def z_scores(arr):\n",
    "    return [z_score(arr, ind) for ind in range(0, len(arr))]\n",
    "\n",
    "\n",
    "def zipped_z_scores(arr):\n",
    "    return list(zip(arr, z_scores(arr)))\n",
    "\n",
    "\n",
    "sample = [-2, -1, 0, 1, 2]\n",
    "\n",
    "print(variance(sample))\n",
    "print(standard_deviation(sample))\n",
    "print(zipped_z_scores(sample))```"
   ]
  },
  {
   "cell_type": "code",
   "execution_count": 8,
   "metadata": {},
   "outputs": [
    {
     "name": "stdout",
     "output_type": "stream",
     "text": [
      "2.0\n",
      "1.4142135623730951\n",
      "[(-2, -1.414213562373095), (-1, -0.7071067811865475), (0, 0.0), (1, 0.7071067811865475), (2, 1.414213562373095)]\n"
     ]
    }
   ],
   "source": [
    "# Dependencies\n",
    "from spread import variance, standard_deviation, zipped_z_scores"
   ]
  },
  {
   "cell_type": "code",
   "execution_count": 17,
   "metadata": {
    "collapsed": true
   },
   "outputs": [],
   "source": [
    "def summarize(title, arr):\n",
    "    print(f\"Summarizing {title}\")\n",
    "    print(f\"Variance: {variance(arr)}\")\n",
    "    print(f\"Standard Deviation: {standard_deviation(arr)}\")\n",
    "    print(f\"Z-Scores: {zipped_z_scores(arr)}\")\n",
    "    print(\"======\")"
   ]
  },
  {
   "cell_type": "code",
   "execution_count": 18,
   "metadata": {},
   "outputs": [
    {
     "name": "stdout",
     "output_type": "stream",
     "text": [
      "Summarizing Prices\n",
      "Variance: 1177294.9599999997\n",
      "Standard Deviation: 1085.032239152367\n",
      "Z-Scores: [(4, -0.8062433247913429), (425, -0.41823642065650596), (984, 0.09695564445364577), (2932, 1.8922940037283782), (49, -0.7647699027341751)]\n",
      "======\n"
     ]
    }
   ],
   "source": [
    "# Prices of random electronics at Best Buy\n",
    "prices = [4, 425, 984, 2932, 49]\n",
    "summarize(\"Prices\", prices)"
   ]
  },
  {
   "cell_type": "code",
   "execution_count": 19,
   "metadata": {},
   "outputs": [
    {
     "name": "stdout",
     "output_type": "stream",
     "text": [
      "Summarizing Bootcamp Ages\n",
      "Variance: 72.55555555555556\n",
      "Standard Deviation: 8.517954892787092\n",
      "Z-Scores: [(27, -1.1348576962825065), (35, -0.19566512004870779), (42, 0.6261283841558661), (52, 1.8001191044481146), (36, -0.07826604801948295), (28, -1.0174586242532817)]\n",
      "======\n"
     ]
    }
   ],
   "source": [
    "# Ages of students in bootcamp\n",
    "bootcamp_classroom_ages = [27, 35, 42, 52, 36, 28]\n",
    "summarize(\"Bootcamp Ages\", bootcamp_classroom_ages)"
   ]
  },
  {
   "cell_type": "code",
   "execution_count": 20,
   "metadata": {},
   "outputs": [
    {
     "name": "stdout",
     "output_type": "stream",
     "text": [
      "Summarizing Birthday Party Ages\n",
      "Variance: 244.6938775510204\n",
      "Standard Deviation: 15.64269406307687\n",
      "Z-Scores: [(6, -0.8401914075580905), (5, -0.9041190146549017), (6, -0.8401914075580905), (6, -0.8401914075580905), (35, 1.0137091982494355), (34, 0.9497815911526242), (42, 1.4612024479271142)]\n",
      "======\n"
     ]
    }
   ],
   "source": [
    "# Ages of children and parents at child's party\n",
    "birthday_party_ages = [6, 5, 6, 6, 35, 34, 42]\n",
    "summarize(\"Birthday Party Ages\", birthday_party_ages)"
   ]
  },
  {
   "cell_type": "code",
   "execution_count": 21,
   "metadata": {},
   "outputs": [
    {
     "name": "stdout",
     "output_type": "stream",
     "text": [
      "Summarizing Geograph Grades\n",
      "Variance: 8.0\n",
      "Standard Deviation: 2.8284271247461903\n",
      "Z-Scores: [(87, -1.414213562373095), (89, -0.7071067811865475), (91, 0.0), (93, 0.7071067811865475), (95, 1.414213562373095)]\n",
      "======\n"
     ]
    }
   ],
   "source": [
    "# Test score from a 2nd grade geography test\n",
    "geo_grades = [87, 89, 91, 93, 95]\n",
    "summarize(\"Geograph Grades\", geo_grades)"
   ]
  },
  {
   "cell_type": "code",
   "execution_count": 22,
   "metadata": {},
   "outputs": [
    {
     "name": "stdout",
     "output_type": "stream",
     "text": [
      "Summarizing Quantum Mechanics Grades\n",
      "Variance: 1006.1224489795917\n",
      "Standard Deviation: 31.71943330167788\n",
      "Z-Scores: [(63, 0.5629716863888061), (63, 0.5629716863888061), (98, 1.6663961917108663), (13, -1.0133490354998513), (58, 0.4053396141999404), (13, -1.0133490354998513), (8, -1.170981107688717)]\n",
      "======\n"
     ]
    }
   ],
   "source": [
    "# Test scores from a graduate quantum mechanics midterm\n",
    "quantum_grades = [63, 63, 98, 13, 58, 13, 8]\n",
    "summarize(\"Quantum Mechanics Grades\", quantum_grades)"
   ]
  },
  {
   "cell_type": "code",
   "execution_count": 23,
   "metadata": {},
   "outputs": [
    {
     "name": "stdout",
     "output_type": "stream",
     "text": [
      "Summarizing Prices\n",
      "Variance: 92039.55555555556\n",
      "Standard Deviation: 303.3802161571442\n",
      "Z-Scores: [(30, -0.36917371019996403), (31, -0.36587751635889293), (31, -0.36587751635889293), (32, -0.3625813225178218), (32, -0.3625813225178218), (40, -0.33621177178925293), (41, -0.33291557794818183), (41, -0.33291557794818183), (1000, 2.82813431563901)]\n",
      "======\n"
     ]
    }
   ],
   "source": [
    "# Prices\n",
    "summarize(\"Prices\", [30, 31, 31, 32, 32, 40, 41, 41, 1000])"
   ]
  },
  {
   "cell_type": "markdown",
   "metadata": {},
   "source": [
    "# Instructors Turn Activity 3 Quartiles and Outliers"
   ]
  },
  {
   "cell_type": "markdown",
   "metadata": {},
   "source": [
    "Outliers are one of those statistical issues that everyone knows about, but most people aren’t sure how to deal with.  Most parametric statistics, like means, standard deviations, and correlations, and every statistic based on these, are highly sensitive to outliers.  And since the assumptions of common statistical procedures, like linear regression and ANOVA, are also based on these statistics, outliers can really mess up your analysis.\n",
    "\n",
    "Despite all this, as much as you’d like to, it is NOT acceptable to drop an observation just because it is an outlier.  They can be legitimate observations and are sometimes the most interesting ones.  It’s important to investigate the nature of the outlier before deciding.\n",
    "\n",
    "  * If the outliers _create_ trends that wouldn't exist without them, you _should_ drop them.\n",
    "\n",
    "    ![In this plot, the outlier creates a trend, and we should ignore it.](http://www.theanalysisfactor.com/images/graph-3.gif)\n",
    "\n",
    "* The outliers do _not_ change your results. In this case, it is okay to drop them, but it is best to make a note of having done so.\n",
    "\n",
    "  ![In this plot, the outlier does not change the line we draw.](http://www.theanalysisfactor.com/images/graph-1.gif)\n",
    "\n",
    "* If your outlier _does_ change your results, you _should not_ drop it.\n",
    "\n",
    "  ![In this plot, the outlier affects the line we draw, and so is significant.](http://www.theanalysisfactor.com/images/graph-2.gif)\n",
    "\n",
    "* The above plots are from an article on removing outliers on [The Analysis Factor](http://www.theanalysisfactor.com/outliers-to-drop-or-not-to-drop/).\n",
    "\n",
    "while useful, these essentially graphical guidelines are a little \"fuzzy\".\n",
    "\n",
    "* There are multiple ways to remove outliers from data sets that rely on \"hard numbers\".\n",
    "\n",
    "  * The simplest of these relies on removing data that is \"far away\" from the median.\n",
    "\n",
    "  * To quantify this, we need to understand the idea of **quartiles**.\n",
    "\n",
    "* **quartiles** are a way to divide our data into well-defined regions.\n",
    "\n",
    "  * The median is the midpoint of a data set — it divides the list in two.\n",
    "\n",
    "* Think of everything above the median and everything below the median as two separate data sets.\n",
    "\n",
    "* The median of the upper list is called the **upper quartile**, and the median of the lower list is called the **lower quartile**.\n",
    "\n",
    "* To remove outliers is to throw away anything _above_ the upper quartile, and everything _below_ the lower quartile."
   ]
  },
  {
   "cell_type": "code",
   "execution_count": 10,
   "metadata": {},
   "outputs": [
    {
     "name": "stdout",
     "output_type": "stream",
     "text": [
      "6\n",
      "Q1 is 4.5\n",
      "Q3 is 7.5\n"
     ]
    },
    {
     "data": {
      "image/png": "[encoded data removed]",
      "text/plain": [
       "<matplotlib.figure.Figure at 0x2559c9cd240>"
      ]
     },
     "metadata": {},
     "output_type": "display_data"
    }
   ],
   "source": [
    "# Dependencies\n",
    "import numpy as np\n",
    "\n",
    "numbers = [3, 3, 4, 5, 5, 6, 7, 7, 8, 8, 9]\n",
    "\n",
    "median = 6\n",
    "lower_quartile = 4\n",
    "upper_quartile = 8\n",
    "\n",
    "# Dependencies\n",
    "import matplotlib.pyplot as plt\n",
    "from stats import median\n",
    "import numpy as np\n",
    "\n",
    "# Find the median\n",
    "mid = median(numbers)\n",
    "print(mid)\n",
    "\n",
    "# Use numpy to create quartiles\n",
    "q1 = np.percentile(numbers, 25)\n",
    "q3 = np.percentile(numbers,75)\n",
    "\n",
    "# Print the quartiles\n",
    "print(f\"Q1 is {q1}\")\n",
    "print(f\"Q3 is {q3}\")\n",
    "\n",
    "\n",
    "# Create box plot# Create \n",
    "plt.boxplot(numbers, showmeans=True)\n",
    "plt.grid()\n",
    "plt.show()\n"
   ]
  },
  {
   "cell_type": "markdown",
   "metadata": {
    "collapsed": true
   },
   "source": [
    "# Students Turn Activity 4\n",
    "# Quartiles and Outliers\n",
    "\n",
    "## Instructions\n",
    "\n",
    "* Take a look at the list in the in the `samples` notebook. Identify the median, upper quartile, and lower quartiles by hand.\n",
    "\n",
    "* Use code to determine the lower and upper quartiles and be sure to account for both odd and even lengths of a data set.\n",
    "\n",
    "  * Reference [https://www.wikihow.com/Calculate-Outliers](https://www.wikihow.com/Calculate-Outliers) to choose a method for best handling this.\n",
    "\n",
    "  * Use [numpy.percentile](https://het.as.utexas.edu/HET/Software/Numpy/reference/generated/numpy.percentile.html) to help with the calculations.\n",
    "\n",
    "* The difference between the upper and lower quartile is called the **interquartile range**, or IQR.\n",
    "\n",
    "  * Like the standard deviation, the IQR describes how \"spread out\" the data set is.\n",
    "\n",
    "  * Calculate the IQR for this list.\n",
    "\n",
    "* Determine the outliers\n",
    "\n",
    "  * Lower outliers are points that fall below the result of the equation Q1 - 1.5 * IQR\n",
    "\n",
    "  * Upper outliers are points that above the result of the equation Q3 + 1.5 * IQR\n",
    "  \n",
    "* Finally create a box plot of that data."
   ]
  },
  {
   "cell_type": "code",
   "execution_count": 56,
   "metadata": {
    "collapsed": true
   },
   "outputs": [],
   "source": [
    "# Dependencies\n",
    "import matplotlib.pyplot as plt\n",
    "from stats import median\n",
    "import numpy as np"
   ]
  },
  {
   "cell_type": "code",
   "execution_count": 14,
   "metadata": {},
   "outputs": [
    {
     "data": {
      "text/plain": [
       "array([ 2.3, 10.2, 11.2, 12.3, 14.5, 14.6, 15. , 15.1, 19. , 24. ])"
      ]
     },
     "execution_count": 14,
     "metadata": {},
     "output_type": "execute_result"
    }
   ],
   "source": [
    "### Data Points\n",
    "arr = np.array([2.3, 10.2,11.2, 12.3, 14.5, 14.6, 15.0, 15.1, 19.0, 24.0])\n",
    "arr"
   ]
  },
  {
   "cell_type": "code",
   "execution_count": 15,
   "metadata": {},
   "outputs": [
    {
     "data": {
      "text/plain": [
       "14.55"
      ]
     },
     "execution_count": 15,
     "metadata": {},
     "output_type": "execute_result"
    }
   ],
   "source": [
    "# Find the median\n",
    "mid = median(arr)\n",
    "mid"
   ]
  },
  {
   "cell_type": "code",
   "execution_count": 16,
   "metadata": {},
   "outputs": [],
   "source": [
    "# Use numpy to create quartiles\n",
    "q1 = np.percentile(arr,25)\n",
    "q3 = np.percentile(arr,75)"
   ]
  },
  {
   "cell_type": "code",
   "execution_count": 17,
   "metadata": {},
   "outputs": [
    {
     "name": "stdout",
     "output_type": "stream",
     "text": [
      "Q1 is 11.474999999999998\n",
      "Q2 is 15.075\n"
     ]
    }
   ],
   "source": [
    "# Print the quartiles\n",
    "print(f\"Q1 is {q1}\")\n",
    "print(f\"Q2 is {q3}\")"
   ]
  },
  {
   "cell_type": "code",
   "execution_count": 18,
   "metadata": {},
   "outputs": [
    {
     "name": "stdout",
     "output_type": "stream",
     "text": [
      "interquartile range: 3.6000000000000014\n"
     ]
    }
   ],
   "source": [
    "# Calculate the interquartile range\n",
    "iqr = (q3 - q1)\n",
    "print(\"interquartile range:\", iqr)"
   ]
  },
  {
   "cell_type": "code",
   "execution_count": 19,
   "metadata": {},
   "outputs": [
    {
     "data": {
      "text/plain": [
       "6.074999999999996"
      ]
     },
     "execution_count": 19,
     "metadata": {},
     "output_type": "execute_result"
    }
   ],
   "source": [
    "# Find lower boundary\n",
    "# Q1 - 1.5 * IQR\n",
    "# 1.5 multiplier is so that certain proportion of the sample in a normal population will be outside it \n",
    "lower_boundary = q1 - (1.5 * iqr)\n",
    "lower_boundary"
   ]
  },
  {
   "cell_type": "code",
   "execution_count": 20,
   "metadata": {},
   "outputs": [
    {
     "data": {
      "text/plain": [
       "20.475"
      ]
     },
     "execution_count": 20,
     "metadata": {},
     "output_type": "execute_result"
    }
   ],
   "source": [
    "# Find upper boundary\n",
    "# Q3 + 1.5 * IQR\n",
    "upper_boundary = q3 + (1.5 * iqr)\n",
    "upper_boundary"
   ]
  },
  {
   "cell_type": "code",
   "execution_count": 28,
   "metadata": {},
   "outputs": [
    {
     "name": "stdout",
     "output_type": "stream",
     "text": [
      "[ 2.3 10.2 11.2 12.3 14.5 14.6 15.  15.1 19.  24. ]\n",
      "[2.3]\n"
     ]
    }
   ],
   "source": [
    "# Check for any lower outliers\n",
    "print(arr)\n",
    "arr[arr < lower_boundary]\n",
    "print(arr[arr < lower_boundary])"
   ]
  },
  {
   "cell_type": "code",
   "execution_count": 26,
   "metadata": {},
   "outputs": [
    {
     "name": "stdout",
     "output_type": "stream",
     "text": [
      "[ 2.3 10.2 11.2 12.3 14.5 14.6 15.  15.1 19.  24. ]\n",
      "[24.]\n"
     ]
    }
   ],
   "source": [
    "# Check for any upper outliers\n",
    "print(arr)\n",
    "arr[arr >= upper_boundary]\n",
    "print(arr[arr >= upper_boundary])"
   ]
  },
  {
   "cell_type": "code",
   "execution_count": 23,
   "metadata": {},
   "outputs": [
    {
     "data": {
      "image/png": "[encoded data removed]",
      "text/plain": [
       "<matplotlib.figure.Figure at 0x2559b74e898>"
      ]
     },
     "metadata": {},
     "output_type": "display_data"
    }
   ],
   "source": [
    "# Create box plot\n",
    "plt.boxplot(arr,showmeans=True)\n",
    "plt.grid()\n",
    "plt.show()"
   ]
  },
  {
   "cell_type": "markdown",
   "metadata": {},
   "source": [
    "# Instructor Turn Activity 5 Standard Error"
   ]
  },
  {
   "cell_type": "code",
   "execution_count": 29,
   "metadata": {},
   "outputs": [],
   "source": [
    "# Dependencies\n",
    "from random import random\n",
    "import matplotlib.pyplot as plt\n",
    "import numpy as np\n",
    "from scipy.stats import sem"
   ]
  },
  {
   "cell_type": "code",
   "execution_count": 40,
   "metadata": {},
   "outputs": [
    {
     "name": "stdout",
     "output_type": "stream",
     "text": [
      "[[True, True, False, False, False, False, False, False, True, False, True, False, True, True, True, True, False, False, False, True, False, True, True, False, True, False, True, True, False, True, False, False, False, False, True, True, True, False, True, True, True, False, True, False, True, False, True, True, True, True, True, True, True, True, False, True, True, False, False, False, False, False, True, True, False, True, False, True, False, True, True, False, True, False, True, True, True, False, True, True, True, True, True, True, False, True, False, True, True, False, True, False, True, False, True, True, True, True, True, False], [False, True, False, False, False, True, False, True, False, True, False, False, False, True, True, False, False, True, False, True, True, True, True, False, True, True, True, False, True, True, False, True, False, True, True, True, True, False, True, True, False, True, True, False, True, False, False, False, True, False, True, True, True, True, False, True, False, True, False, True, True, False, True, False, False, False, False, False, False, False, True, True, False, False, True, False, True, True, True, False, True, False, False, True, True, True, True, False, False, True, True, True, True, True, True, True, False, False, False, True], [True, True, False, False, False, True, False, True, True, False, False, False, True, True, False, False, False, True, True, False, True, False, False, False, True, False, True, False, False, False, True, False, True, True, True, True, False, True, True, True, True, True, True, True, True, True, False, False, False, True, False, True, True, False, False, False, False, False, True, False, True, True, False, False, True, True, True, False, False, True, False, True, False, False, True, False, False, True, True, True, False, False, True, True, True, True, False, False, True, True, True, False, False, True, False, False, True, False, False, False], [False, False, True, False, True, False, False, True, False, True, False, False, True, True, True, False, False, False, False, False, False, True, True, True, True, True, True, True, True, True, False, False, True, False, True, True, False, True, True, True, True, True, False, True, True, False, True, False, True, False, False, True, True, True, True, True, False, False, False, True, False, True, True, True, False, True, True, True, False, False, False, True, True, False, True, True, False, False, False, True, False, True, False, True, False, False, False, True, True, False, False, True, False, True, True, False, False, False, True, True], [False, True, True, True, True, False, True, True, True, True, False, False, True, False, True, True, True, True, True, False, True, False, False, False, False, True, False, False, False, False, True, True, False, True, True, True, False, False, True, False, False, False, True, True, True, True, False, False, False, True, True, False, True, False, True, False, False, False, False, True, False, False, False, False, True, True, True, False, False, False, True, True, True, True, True, True, True, False, False, True, False, False, True, True, True, False, True, True, False, False, False, False, True, False, True, True, False, True, True, True], [True, True, True, True, False, True, True, False, True, False, True, True, False, True, False, False, False, False, False, False, False, True, False, False, True, True, False, True, False, True, False, True, True, True, False, True, True, False, False, False, False, True, True, True, True, True, False, False, False, False, False, True, False, False, True, True, False, False, False, True, True, True, False, False, False, True, False, False, False, True, False, True, False, True, False, True, False, True, True, True, False, False, False, True, False, False, True, False, True, False, False, True, False, True, True, True, True, True, False, False], [True, True, True, False, True, True, False, False, True, True, True, False, False, True, False, False, False, False, True, False, True, True, False, False, True, True, False, True, True, True, True, False, False, True, False, False, False, True, True, True, False, False, True, False, False, True, True, False, True, True, False, False, True, False, False, False, False, True, False, False, True, True, True, False, True, True, False, True, True, True, True, True, True, False, False, True, True, False, True, False, False, True, False, True, False, True, True, True, True, True, True, False, True, True, True, False, False, False, True, True], [True, False, True, True, True, False, False, True, True, True, True, True, False, True, True, True, True, True, False, True, False, False, True, True, True, True, True, False, False, False, True, True, False, False, True, True, False, False, False, False, False, False, True, True, True, False, True, True, False, False, False, True, True, True, True, False, False, True, False, False, False, True, True, True, False, False, True, True, True, True, True, True, False, True, False, False, False, False, False, False, False, False, False, False, True, False, False, True, False, False, True, True, True, True, False, True, True, False, False, False], [False, False, True, True, False, True, True, False, False, True, False, True, False, True, True, False, False, True, True, False, True, True, True, False, True, False, False, True, False, False, False, True, False, True, False, False, False, False, False, False, True, True, True, False, False, True, True, False, True, False, True, True, True, True, False, False, False, True, False, True, False, True, False, True, False, True, True, True, True, True, False, True, False, False, False, False, True, True, False, True, False, True, True, True, False, True, True, False, False, False, True, True, False, True, True, True, True, False, False, False], [False, True, True, False, False, True, True, False, True, True, True, True, False, True, False, True, False, True, True, False, False, False, False, True, True, False, False, False, False, False, False, True, False, False, False, True, True, True, True, True, False, True, True, True, True, True, True, False, True, False, False, True, False, False, False, False, True, False, False, True, False, True, False, False, False, True, False, True, False, True, True, False, False, False, True, True, True, False, False, True, False, True, True, True, True, False, False, True, True, False, True, True, True, True, False, False, False, True, False, False]]\n",
      "[0 1 2 3 4 5 6 7 8 9]\n"
     ]
    }
   ],
   "source": [
    "# \"Will you vote for a republican in this election?\"\n",
    "sample_size = 100\n",
    "samples = [[True if random() < 0.5 else False for x in range(0, sample_size)]\n",
    "           for y in range(0, 10)]\n",
    "print(samples)\n",
    "x_axis = np.arange(0, len(samples), 1)\n",
    "print(x_axis)"
   ]
  },
  {
   "cell_type": "code",
   "execution_count": 41,
   "metadata": {},
   "outputs": [
    {
     "name": "stdout",
     "output_type": "stream",
     "text": [
      "[0.59, 0.55, 0.5, 0.54, 0.53, 0.48, 0.56, 0.52, 0.51, 0.5]\n",
      "[0.049431107042371025, 0.05, 0.050251890762960605, 0.05009082659620331, 0.05016135580465918, 0.05021167315686782, 0.04988876515698589, 0.05021167315686782, 0.05024183937956914, 0.050251890762960605]\n"
     ]
    }
   ],
   "source": [
    "means = [np.mean(s) for s in samples]\n",
    "print(means)\n",
    "standard_errors = [sem(s) for s in samples]\n",
    "print(standard_errors)"
   ]
  },
  {
   "cell_type": "code",
   "execution_count": 42,
   "metadata": {},
   "outputs": [
    {
     "name": "stdout",
     "output_type": "stream",
     "text": [
      "Figure(432x288)\n",
      "AxesSubplot(0.125,0.125;0.775x0.755)\n"
     ]
    },
    {
     "data": {
      "image/png": "[encoded data removed]",
      "text/plain": [
       "<matplotlib.figure.Figure at 0x2559c95d080>"
      ]
     },
     "metadata": {},
     "output_type": "display_data"
    }
   ],
   "source": [
    "# Setting up the plot\n",
    "fig, ax = plt.subplots()\n",
    "print(fig)\n",
    "print(ax)\n",
    "\n",
    "ax.errorbar(x_axis, means, standard_errors, fmt=\"o\")\n",
    "\n",
    "ax.set_xlim(-1, len(samples) + 1)\n",
    "\n",
    "ax.set_xlabel(\"Sample Number\")\n",
    "ax.set_ylabel(\"Proportion of People Voting Republican\")\n",
    "plt.show()"
   ]
  },
  {
   "cell_type": "markdown",
   "metadata": {},
   "source": [
    "# Students Turn Activity 6 Standard Error"
   ]
  },
  {
   "cell_type": "markdown",
   "metadata": {},
   "source": [
    "# Standard Error\n",
    "\n",
    "## Instructions\n",
    "\n",
    "* Open the starter file provided, and begin by inspecting the data. Which column contains house prices?\n",
    "\n",
    "* Create a number of samples of house prices.\n",
    "\n",
    "  * If you work with the non `sample.ipynb` file, this step is done for you.\n",
    "\n",
    "* Calculate the means for each sample.\n",
    "\n",
    "* Calculate the standard error for each sample.\n",
    "\n",
    "* Create a plot displaying the means for each sample, with the standard error as error bars."
   ]
  },
  {
   "cell_type": "code",
   "execution_count": 53,
   "metadata": {},
   "outputs": [],
   "source": [
    "# Dependencies\n",
    "from matplotlib import pyplot as plt\n",
    "import numpy as np\n",
    "import pandas as pd"
   ]
  },
  {
   "cell_type": "code",
   "execution_count": 54,
   "metadata": {},
   "outputs": [],
   "source": [
    "# Read and shuffle data\n",
    "housing_data = pd.read_csv(\"Resources/housing_data.csv\")\n",
    "housing_data = housing_data.sample(frac=1).reset_index(drop=True)"
   ]
  },
  {
   "cell_type": "code",
   "execution_count": 55,
   "metadata": {},
   "outputs": [
    {
     "data": {
      "text/plain": [
       "[0     19.5\n",
       " 1     13.3\n",
       " 2     18.2\n",
       " 3      8.5\n",
       " 4     27.5\n",
       " 5     20.8\n",
       " 6     21.0\n",
       " 7     23.2\n",
       " 8     19.9\n",
       " 9     21.7\n",
       " 10    13.2\n",
       " 11    21.0\n",
       " 12    17.8\n",
       " 13    21.7\n",
       " 14    22.2\n",
       " 15    16.1\n",
       " 16    15.7\n",
       " 17    21.8\n",
       " 18    22.7\n",
       " 19    32.7\n",
       " Name: 24.00, dtype: float64, 20    32.0\n",
       " 21    18.5\n",
       " 22    23.0\n",
       " 23    10.4\n",
       " 24    22.3\n",
       " 25    23.3\n",
       " 26    24.4\n",
       " 27    20.3\n",
       " 28     7.2\n",
       " 29    23.8\n",
       " 30    21.9\n",
       " 31    21.4\n",
       " 32    24.8\n",
       " 33    32.5\n",
       " 34    13.1\n",
       " 35    19.1\n",
       " 36    19.3\n",
       " 37    17.0\n",
       " 38    22.4\n",
       " 39    16.2\n",
       " Name: 24.00, dtype: float64, 40    22.6\n",
       " 41    50.0\n",
       " 42    50.0\n",
       " 43    20.6\n",
       " 44    21.5\n",
       " 45    21.6\n",
       " 46    20.2\n",
       " 47     9.7\n",
       " 48    31.7\n",
       " 49    13.1\n",
       " 50    28.4\n",
       " 51    20.7\n",
       " 52    19.1\n",
       " 53    20.1\n",
       " 54    33.4\n",
       " 55    19.8\n",
       " 56    17.8\n",
       " 57    34.6\n",
       " 58    24.5\n",
       " 59    14.9\n",
       " Name: 24.00, dtype: float64, 60    50.0\n",
       " 61    23.3\n",
       " 62    19.7\n",
       " 63    39.8\n",
       " 64    34.9\n",
       " 65    11.7\n",
       " 66    28.0\n",
       " 67     7.0\n",
       " 68    24.7\n",
       " 69    19.6\n",
       " 70    14.5\n",
       " 71    12.8\n",
       " 72    14.1\n",
       " 73    21.8\n",
       " 74    13.9\n",
       " 75    28.7\n",
       " 76    10.2\n",
       " 77    42.8\n",
       " 78    19.1\n",
       " 79    19.0\n",
       " Name: 24.00, dtype: float64, 80    23.5\n",
       " 81    23.9\n",
       " 82    21.2\n",
       " 83    18.6\n",
       " 84    27.5\n",
       " 85    36.2\n",
       " 86    21.2\n",
       " 87    13.9\n",
       " 88    24.8\n",
       " 89     7.0\n",
       " 90    20.6\n",
       " 91    14.3\n",
       " 92    17.3\n",
       " 93    27.5\n",
       " 94    19.8\n",
       " 95    31.6\n",
       " 96    17.6\n",
       " 97    18.5\n",
       " 98    20.1\n",
       " 99    15.4\n",
       " Name: 24.00, dtype: float64, 100    19.4\n",
       " 101    20.4\n",
       " 102    30.1\n",
       " 103     8.4\n",
       " 104    48.8\n",
       " 105    27.1\n",
       " 106    29.9\n",
       " 107    16.3\n",
       " 108    18.5\n",
       " 109    15.3\n",
       " 110    17.2\n",
       " 111    15.6\n",
       " 112    18.8\n",
       " 113    18.7\n",
       " 114    22.6\n",
       " 115    21.9\n",
       " 116    12.6\n",
       " 117    22.9\n",
       " 118    13.8\n",
       " 119    18.9\n",
       " Name: 24.00, dtype: float64, 120    21.7\n",
       " 121    45.4\n",
       " 122    28.7\n",
       " 123    38.7\n",
       " 124    15.2\n",
       " 125    17.9\n",
       " 126    37.3\n",
       " 127    21.4\n",
       " 128    14.0\n",
       " 129    24.3\n",
       " 130    13.4\n",
       " 131    18.0\n",
       " 132    20.8\n",
       " 133    31.5\n",
       " 134    34.7\n",
       " 135    15.4\n",
       " 136    31.5\n",
       " 137    20.5\n",
       " 138    19.9\n",
       " 139    19.4\n",
       " Name: 24.00, dtype: float64, 140    23.8\n",
       " 141    16.6\n",
       " 142     8.5\n",
       " 143    20.7\n",
       " 144    20.4\n",
       " 145    10.5\n",
       " 146    22.0\n",
       " 147    27.1\n",
       " 148    23.7\n",
       " 149    20.6\n",
       " 150    23.6\n",
       " 151    23.0\n",
       " 152    10.5\n",
       " 153    19.5\n",
       " 154    16.7\n",
       " 155    28.7\n",
       " 156    43.5\n",
       " 157    22.0\n",
       " 158    13.4\n",
       " 159    19.6\n",
       " Name: 24.00, dtype: float64, 160    50.0\n",
       " 161    24.6\n",
       " 162    14.9\n",
       " 163    17.5\n",
       " 164    50.0\n",
       " 165    17.8\n",
       " 166    14.1\n",
       " 167    17.1\n",
       " 168    14.4\n",
       " 169    30.5\n",
       " 170    23.6\n",
       " 171    23.1\n",
       " 172    22.0\n",
       " 173    13.4\n",
       " 174    23.7\n",
       " 175    16.4\n",
       " 176    33.0\n",
       " 177    29.4\n",
       " 178    10.4\n",
       " 179    16.6\n",
       " Name: 24.00, dtype: float64, 180    18.9\n",
       " 181    26.4\n",
       " 182    14.6\n",
       " 183    34.9\n",
       " 184     8.3\n",
       " 185    30.7\n",
       " 186    24.4\n",
       " 187    26.6\n",
       " 188    23.2\n",
       " 189     7.4\n",
       " 190    19.6\n",
       " 191    41.3\n",
       " 192    19.4\n",
       " 193    50.0\n",
       " 194    16.0\n",
       " 195    12.7\n",
       " 196    30.1\n",
       " 197    11.8\n",
       " 198    22.7\n",
       " 199    50.0\n",
       " Name: 24.00, dtype: float64, 200    27.5\n",
       " 201    25.1\n",
       " 202    13.8\n",
       " 203    12.1\n",
       " 204    36.2\n",
       " 205    36.5\n",
       " 206    26.5\n",
       " 207    15.2\n",
       " 208    21.5\n",
       " 209     7.5\n",
       " 210    13.8\n",
       " 211    29.0\n",
       " 212    29.1\n",
       " 213    20.3\n",
       " 214    26.6\n",
       " 215    32.9\n",
       " 216    22.9\n",
       " 217    11.3\n",
       " 218    29.8\n",
       " 219    18.8\n",
       " Name: 24.00, dtype: float64, 220    22.8\n",
       " 221    11.7\n",
       " 222    23.2\n",
       " 223    33.2\n",
       " 224    13.6\n",
       " 225     9.5\n",
       " 226    50.0\n",
       " 227    22.0\n",
       " 228    17.2\n",
       " 229    23.1\n",
       " 230    36.0\n",
       " 231    44.0\n",
       " 232    24.0\n",
       " 233    23.9\n",
       " 234    46.7\n",
       " 235    11.5\n",
       " 236    24.7\n",
       " 237    19.4\n",
       " 238    19.5\n",
       " 239    14.5\n",
       " Name: 24.00, dtype: float64, 240    23.1\n",
       " 241    17.4\n",
       " 242    26.2\n",
       " 243    21.7\n",
       " 244    20.4\n",
       " 245    22.5\n",
       " 246    15.6\n",
       " 247    20.1\n",
       " 248    22.2\n",
       " 249     5.6\n",
       " 250    13.5\n",
       " 251    17.4\n",
       " 252    19.6\n",
       " 253    22.2\n",
       " 254    20.6\n",
       " 255    25.0\n",
       " 256    22.6\n",
       " 257    23.7\n",
       " 258    24.8\n",
       " 259    21.6\n",
       " Name: 24.00, dtype: float64, 260    19.6\n",
       " 261    50.0\n",
       " 262    25.0\n",
       " 263    42.3\n",
       " 264    22.8\n",
       " 265    17.1\n",
       " 266    13.1\n",
       " 267    34.9\n",
       " 268    13.5\n",
       " 269    22.0\n",
       " 270    29.6\n",
       " 271    14.5\n",
       " 272    18.7\n",
       " 273    22.9\n",
       " 274    20.9\n",
       " 275    11.9\n",
       " 276    30.3\n",
       " 277    15.6\n",
       " 278    33.4\n",
       " 279    30.8\n",
       " Name: 24.00, dtype: float64, 280    20.1\n",
       " 281    19.4\n",
       " 282    13.0\n",
       " 283    13.3\n",
       " 284    20.1\n",
       " 285    22.0\n",
       " 286    35.4\n",
       " 287    48.3\n",
       " 288    11.0\n",
       " 289    13.4\n",
       " 290    16.2\n",
       " 291    19.5\n",
       " 292    33.3\n",
       " 293    14.3\n",
       " 294    18.9\n",
       " 295    18.3\n",
       " 296    23.8\n",
       " 297    28.2\n",
       " 298    25.3\n",
       " 299    21.2\n",
       " Name: 24.00, dtype: float64, 300    17.5\n",
       " 301    19.0\n",
       " 302    41.7\n",
       " 303    17.1\n",
       " 304    14.8\n",
       " 305    35.2\n",
       " 306    23.9\n",
       " 307    20.9\n",
       " 308    48.5\n",
       " 309    25.0\n",
       " 310    23.9\n",
       " 311    23.9\n",
       " 312    14.6\n",
       " 313    27.9\n",
       " 314    20.0\n",
       " 315    21.2\n",
       " 316    25.0\n",
       " 317    12.5\n",
       " 318    26.4\n",
       " 319    25.0\n",
       " Name: 24.00, dtype: float64, 320    19.9\n",
       " 321     7.2\n",
       " 322    32.2\n",
       " 323    32.4\n",
       " 324    50.0\n",
       " 325    28.4\n",
       " 326    23.0\n",
       " 327    12.0\n",
       " 328    18.1\n",
       " 329    22.9\n",
       " 330    25.0\n",
       " 331    33.1\n",
       " 332     8.1\n",
       " 333    33.8\n",
       " 334    10.8\n",
       " 335    11.8\n",
       " 336    18.4\n",
       " 337    50.0\n",
       " 338    18.3\n",
       " 339    23.1\n",
       " Name: 24.00, dtype: float64, 340    26.6\n",
       " 341     8.7\n",
       " 342    19.8\n",
       " 343    35.4\n",
       " 344     6.3\n",
       " 345    21.1\n",
       " 346    20.5\n",
       " 347    17.8\n",
       " 348    33.2\n",
       " 349    18.5\n",
       " 350    18.4\n",
       " 351    29.6\n",
       " 352    31.2\n",
       " 353    10.2\n",
       " 354    12.7\n",
       " 355    16.8\n",
       " 356    37.9\n",
       " 357    30.1\n",
       " 358    24.6\n",
       " 359    23.1\n",
       " Name: 24.00, dtype: float64, 360    16.7\n",
       " 361    23.3\n",
       " 362    37.6\n",
       " 363    18.2\n",
       " 364    21.4\n",
       " 365    29.0\n",
       " 366    17.8\n",
       " 367    23.3\n",
       " 368    20.6\n",
       " 369    20.0\n",
       " 370    16.8\n",
       " 371    21.0\n",
       " 372    50.0\n",
       " 373    27.9\n",
       " 374    18.4\n",
       " 375    14.9\n",
       " 376    22.2\n",
       " 377    31.1\n",
       " 378    15.0\n",
       " 379    25.2\n",
       " Name: 24.00, dtype: float64, 380    24.7\n",
       " 381    13.1\n",
       " 382    24.1\n",
       " 383    13.8\n",
       " 384    21.9\n",
       " 385    28.5\n",
       " 386    32.0\n",
       " 387    24.4\n",
       " 388    19.7\n",
       " 389    14.1\n",
       " 390    16.5\n",
       " 391    19.2\n",
       " 392    23.2\n",
       " 393    19.9\n",
       " 394    13.3\n",
       " 395    43.8\n",
       " 396    16.1\n",
       " 397    23.8\n",
       " 398    21.7\n",
       " 399    22.8\n",
       " Name: 24.00, dtype: float64, 400    20.8\n",
       " 401    23.4\n",
       " 402    37.2\n",
       " 403    22.2\n",
       " 404    17.7\n",
       " 405     8.8\n",
       " 406    21.2\n",
       " 407    17.4\n",
       " 408    15.2\n",
       " 409    15.1\n",
       " 410    31.0\n",
       " 411    20.2\n",
       " 412    31.6\n",
       " 413    16.1\n",
       " 414    23.1\n",
       " 415     8.3\n",
       " 416     5.0\n",
       " 417    35.1\n",
       " 418    10.9\n",
       " 419    36.4\n",
       " Name: 24.00, dtype: float64, 420    17.2\n",
       " 421    22.3\n",
       " 422    12.3\n",
       " 423    14.4\n",
       " 424    20.0\n",
       " 425    21.4\n",
       " 426    33.1\n",
       " 427    21.7\n",
       " 428    25.0\n",
       " 429     9.6\n",
       " 430    21.7\n",
       " 431    24.8\n",
       " 432    43.1\n",
       " 433    22.6\n",
       " 434    22.4\n",
       " 435    15.0\n",
       " 436    23.7\n",
       " 437    16.5\n",
       " 438    27.0\n",
       " 439    20.3\n",
       " Name: 24.00, dtype: float64, 440    19.3\n",
       " 441    18.7\n",
       " 442    44.8\n",
       " 443    12.7\n",
       " 444    24.5\n",
       " 445    22.1\n",
       " 446    23.4\n",
       " 447    22.6\n",
       " 448    20.0\n",
       " 449    24.1\n",
       " 450    24.3\n",
       " 451    20.0\n",
       " 452    17.5\n",
       " 453    20.5\n",
       " 454    18.6\n",
       " 455    19.4\n",
       " 456    24.2\n",
       " 457    19.3\n",
       " 458    20.4\n",
       " 459     7.2\n",
       " Name: 24.00, dtype: float64, 460    22.5\n",
       " 461    24.3\n",
       " 462    10.2\n",
       " 463    13.6\n",
       " 464    46.0\n",
       " 465    22.0\n",
       " 466    19.2\n",
       " 467    50.0\n",
       " 468    50.0\n",
       " 469    19.1\n",
       " 470    24.1\n",
       " 471    25.0\n",
       " 472    23.1\n",
       " 473    50.0\n",
       " 474     8.4\n",
       " 475    26.7\n",
       " 476    19.3\n",
       " 477    28.6\n",
       " 478    15.6\n",
       " 479    15.0\n",
       " Name: 24.00, dtype: float64, 480    13.8\n",
       " 481    24.4\n",
       " 482    15.6\n",
       " 483    28.1\n",
       " 484    21.1\n",
       " 485    50.0\n",
       " 486    10.9\n",
       " 487    29.8\n",
       " 488    20.6\n",
       " 489     5.0\n",
       " 490    18.2\n",
       " 491    37.0\n",
       " 492    14.2\n",
       " 493    20.3\n",
       " 494    22.8\n",
       " 495     8.8\n",
       " 496    18.9\n",
       " 497    23.0\n",
       " 498    11.9\n",
       " 499    19.3\n",
       " Name: 24.00, dtype: float64]"
      ]
     },
     "execution_count": 55,
     "metadata": {},
     "output_type": "execute_result"
    }
   ],
   "source": [
    "# Create a bunch of samples, each with div items\n",
    "div = 20\n",
    "\n",
    "# Floor division - division that results into whole number adjusted to the left in the number line\n",
    "lim = len(housing_data) // div\n",
    "\n",
    "# Create samples\n",
    "samples = [housing_data.iloc[(i * div):(i * div + div), 13]\n",
    "           for i in range(0, lim)]\n",
    "samples"
   ]
  },
  {
   "cell_type": "code",
   "execution_count": 57,
   "metadata": {},
   "outputs": [
    {
     "name": "stdout",
     "output_type": "stream",
     "text": [
      "[19.925, 20.645000000000003, 24.714999999999996, 22.78, 21.025000000000002, 20.860000000000003, 24.484999999999992, 20.72, 23.124999999999996, 24.449999999999996, 22.82, 24.524999999999995, 20.290000000000003, 24.444999999999997, 21.75, 24.199999999999996, 23.925000000000004, 22.125000000000004, 23.52, 21.830000000000002, 20.835, 21.705, 21.18, 25.635, 20.685]\n",
      "[1.1662778174039068, 1.3726362457540946, 2.3916881837775286, 2.5880962318397582, 1.4684376767593224, 1.9068491508796719, 2.055087077166523, 1.706220816214657, 2.463222910185588, 2.753289898132395, 1.9032050529788456, 2.6286165562896393, 1.0505863024746556, 2.282651678248463, 2.01246771794965, 1.9971954019785372, 2.719093066679248, 2.001011257497463, 1.8975968181388077, 1.627835178518099, 2.1194621338542725, 1.6442479483914443, 1.5491016072142212, 2.927998013732429, 2.279407529208089]\n"
     ]
    }
   ],
   "source": [
    "# Calculate means\n",
    "means = [s.mean() for s in samples]\n",
    "print(means)\n",
    "\n",
    "# Calculate standard error on means\n",
    "sem = [s.sem() for s in samples]\n",
    "print(sem)"
   ]
  },
  {
   "cell_type": "code",
   "execution_count": 52,
   "metadata": {},
   "outputs": [
    {
     "data": {
      "image/png": "[encoded data removed]",
      "text/plain": [
       "<matplotlib.figure.Figure at 0x2559ef64cf8>"
      ]
     },
     "metadata": {},
     "output_type": "display_data"
    }
   ],
   "source": [
    "# Plot sample means with error bars\n",
    "\n",
    "# Good rule of thumb if errorbars for different data points overlap it is safe to assume they are\n",
    "# close that the difference between the means they estimate is not significant\n",
    "\n",
    "fig, ax = plt.subplots()\n",
    "ax.errorbar(np.arange(0, len(means)), means, yerr=sem, fmt=\"o\", color=\"b\", alpha=0.5, label=\"Mean of House Prices\")\n",
    "ax.set_xlim(-0.5, len(means))\n",
    "ax.set_xlabel(\"Sample Number\")\n",
    "ax.set_ylabel(\"Mean of Median House Prices\")\n",
    "plt.legend(loc=\"best\", fontsize=\"small\", fancybox=True)\n",
    "plt.show()"
   ]
  },
  {
   "cell_type": "markdown",
   "metadata": {},
   "source": [
    "# Instructor Turn Activity 7 T Test\n",
    "The t-test is any statistical hypothesis test in which the test statistic "
   ]
  },
  {
   "cell_type": "code",
   "execution_count": 58,
   "metadata": {},
   "outputs": [],
   "source": [
    "# Dependencies\n",
    "import numpy as np\n",
    "import pandas as pd\n",
    "from scipy import stats\n",
    "\n",
    "# Read data\n",
    "housing_data = pd.read_csv(\"Resources/housing_data.csv\")\n",
    "housing_data = housing_data.sample(frac=1).reset_index(drop=True)\n"
   ]
  },
  {
   "cell_type": "code",
   "execution_count": 59,
   "metadata": {},
   "outputs": [],
   "source": [
    "# Create two samples\n",
    "s1 = housing_data.iloc[0:19, 13]\n",
    "s2 = housing_data.iloc[20:40, 13]"
   ]
  },
  {
   "cell_type": "code",
   "execution_count": 96,
   "metadata": {},
   "outputs": [
    {
     "name": "stdout",
     "output_type": "stream",
     "text": [
      "t-statistics is -0.30121484605177024.\n",
      "p-value is 0.7651156330399749.\n"
     ]
    }
   ],
   "source": [
    "# Run T test\n",
    "(t_stat, p) = stats.ttest_ind(s1, s2, equal_var=False)\n",
    "print(\"t-statistics is {}.\".format(t_stat))\n",
    "print(\"p-value is {}.\".format(p))"
   ]
  },
  {
   "cell_type": "code",
   "execution_count": 60,
   "metadata": {},
   "outputs": [],
   "source": [
    "# Silly sample T test \n",
    "# Dependencies\n",
    "from random import randint\n",
    "import matplotlib.pyplot as plt\n",
    "import numpy as np\n",
    "from scipy.stats import sem, ttest_ind"
   ]
  },
  {
   "cell_type": "code",
   "execution_count": 61,
   "metadata": {},
   "outputs": [
    {
     "name": "stdout",
     "output_type": "stream",
     "text": [
      "[5000, 5000, 3000, 2000, 4000, 3000, 5000, 5000, 1000]\n"
     ]
    }
   ],
   "source": [
    "# Generate\n",
    "high_prices = [randint(1, 5) * 1000 for x in range(1, 10)]\n",
    "high_means = np.mean(high_prices)\n",
    "high_sem = sem(high_prices)\n",
    "print(high_prices)\n",
    "\n",
    "medium_prices = [randint(1, 5) * 500 for x in range(1, 10)]\n",
    "medium_means = np.mean(medium_prices)\n",
    "medium_sem = sem(medium_prices)\n",
    "\n",
    "low_prices = [randint(1, 5) * 200 for x in range(1, 10)]\n",
    "low_means = np.mean(low_prices)\n",
    "low_sem = sem(low_prices)\n",
    "\n",
    "means = [high_means, medium_means, low_means]\n",
    "sems = [high_sem, medium_sem, low_sem]\n",
    "labels = [\"High Prices\", \"Medium Prices\", \"Low Prices\"]"
   ]
  },
  {
   "cell_type": "code",
   "execution_count": 62,
   "metadata": {},
   "outputs": [
    {
     "data": {
      "image/png": "[encoded data removed]",
      "text/plain": [
       "<matplotlib.figure.Figure at 0x2559ef41c88>"
      ]
     },
     "metadata": {},
     "output_type": "display_data"
    }
   ],
   "source": [
    "# Plot\n",
    "fig, ax = plt.subplots()\n",
    "\n",
    "ax.errorbar(np.arange(0, len(means)), means, yerr=sems, fmt=\"o\")\n",
    "\n",
    "ax.set_xlim(-0.5, 2.5)\n",
    "ax.set_xticklabels(labels)\n",
    "ax.set_xticks([0, 1, 2])\n",
    "\n",
    "ax.set_ylabel(\"Mean House Price\")\n",
    "\n",
    "plt.show()"
   ]
  },
  {
   "cell_type": "code",
   "execution_count": 64,
   "metadata": {},
   "outputs": [
    {
     "name": "stdout",
     "output_type": "stream",
     "text": [
      "Ttest_indResult(statistic=5.947367404095808, pvalue=0.00029937691527188624)\n",
      "The differences between the high and low prices are significant.\n"
     ]
    }
   ],
   "source": [
    "# t-test\n",
    "(t_stat, p) = ttest_ind(high_prices, low_prices, equal_var=False)\n",
    "print(ttest_ind(high_prices, low_prices, equal_var=False))\n",
    "if p < 0.05:\n",
    "    print(\"The differences between the high and low prices are significant.\")\n",
    "else:\n",
    "    print(\"The differences between high and low prices are due to chance.\")"
   ]
  },
  {
   "cell_type": "markdown",
   "metadata": {},
   "source": [
    "# Student Turn Activity 8 - \"Student's T-Test\"\n",
    "\n",
    "## Instructions\n",
    "\n",
    "* Using the data, read both into a Pandas DataFrame.\n",
    "\n",
    "* Print the mean height of WBA players (last column in the DataFrame).\n",
    "\n",
    "* Print the mean height of women sampled.\n",
    "\n",
    "* Using a T-test, determine if difference in sample height means is significant or not and print a message stating the case.\n",
    "\n",
    "* Plot an error bar of the height means and include the standard error of the means.\n",
    "\n",
    "* Using an integer index starting at 0 for the X-axis and the list of means as the Y-axis create a final plot for for mean height."
   ]
  },
  {
   "cell_type": "code",
   "execution_count": 82,
   "metadata": {},
   "outputs": [],
   "source": [
    "# Dependencies\n",
    "import matplotlib.pyplot as plt\n",
    "import numpy as np\n",
    "import pandas as pd\n",
    "from scipy import stats"
   ]
  },
  {
   "cell_type": "code",
   "execution_count": 83,
   "metadata": {},
   "outputs": [],
   "source": [
    "# Read in data\n",
    "general_heights = pd.read_csv(\"Resources/general_heights.csv\")\n",
    "\n",
    "wba_data = pd.read_csv(\"Resources/wba_data.csv\")\n",
    "wba_heights = wba_data.iloc[:, -1]"
   ]
  },
  {
   "cell_type": "code",
   "execution_count": 84,
   "metadata": {},
   "outputs": [
    {
     "name": "stdout",
     "output_type": "stream",
     "text": [
      "Ttest_indResult(statistic=array([-16.94119778]), pvalue=array([3.14741363e-33]))\n"
     ]
    }
   ],
   "source": [
    "# Run the t-test\n",
    "(t_stat, p) = stats.ttest_ind(general_heights, wba_heights, equal_var=False)\n",
    "# equal_var if True perform a standard independent 2 sample test that assumes equal population variance \n",
    "# If false perform Welch's t-test which does not equal population variance.\n",
    "\n",
    "print(stats.ttest_ind(general_heights, wba_heights, equal_var=False))"
   ]
  },
  {
   "cell_type": "code",
   "execution_count": 85,
   "metadata": {},
   "outputs": [
    {
     "name": "stdout",
     "output_type": "stream",
     "text": [
      "The mean height of WBA players is 72.32.\n",
      "The mean height of women sampled is 64.68416666666667.\n",
      "[3.14741363e-33]\n",
      "p is 3.147413627696938e-33.\n",
      "The difference in sample means is significant.\n"
     ]
    }
   ],
   "source": [
    "# Report the data\n",
    "print(\"The mean height of WBA players is {}.\".format(wba_heights.mean()))\n",
    "print(\"The mean height of women sampled is {}.\".format(general_heights.values.mean()))\n",
    "print(p)\n",
    "print(\"p is {}.\".format(p[0]))\n",
    "if p < 0.05:\n",
    "    print(\"The difference in sample means is significant.\")\n",
    "else:\n",
    "    print(\"The difference in sample means is not significant.\")\n"
   ]
  },
  {
   "cell_type": "code",
   "execution_count": 86,
   "metadata": {},
   "outputs": [
    {
     "name": "stdout",
     "output_type": "stream",
     "text": [
      "height    64.684167\n",
      "dtype: float64\n",
      "[64.68416667]\n",
      "64.68416666666667\n"
     ]
    },
    {
     "data": {
      "text/plain": [
       "[0.20672601257998607, 0.4005221816803882]"
      ]
     },
     "execution_count": 86,
     "metadata": {},
     "output_type": "execute_result"
    }
   ],
   "source": [
    "# Plot sample means with error bars\n",
    "tick_labels = [\"General Public\", \"WBA Players\"]\n",
    "print(general_heights.mean())\n",
    "print(general_heights.mean().values)\n",
    "print(general_heights.mean().values[0])\n",
    "means = [general_heights.mean().values[0], wba_heights.mean()]\n",
    "\n",
    "x_axis = np.arange(0, len(means))\n",
    "\n",
    "sem = [general_heights.sem().values[0], wba_heights.sem()]\n",
    "sem\n"
   ]
  },
  {
   "cell_type": "code",
   "execution_count": 81,
   "metadata": {},
   "outputs": [
    {
     "data": {
      "image/png": "[encoded data removed]",
      "text/plain": [
       "<matplotlib.figure.Figure at 0x2559f0e1940>"
      ]
     },
     "metadata": {},
     "output_type": "display_data"
    }
   ],
   "source": [
    "# Plot mean height of players\n",
    "fig, ax = plt.subplots()\n",
    "fig.suptitle(\"Mean Height of Women in General Population and WBA Players\", fontsize=12, fontweight=\"bold\")\n",
    "ax.errorbar(x_axis, means, yerr=sem, fmt=\"o\")\n",
    "ax.set_xlim(-0.5, 1.5)\n",
    "ax.set_ylim(64, 73)\n",
    "\n",
    "ax.set_xticklabels(tick_labels)\n",
    "ax.set_xticks([0,1])\n",
    "ax.set_ylabel(\"Height (Inches)\")\n",
    "\n",
    "plt.show()"
   ]
  },
  {
   "cell_type": "markdown",
   "metadata": {},
   "source": [
    "# Instructor Turn Activity 9 Regression Line"
   ]
  },
  {
   "cell_type": "markdown",
   "metadata": {},
   "source": [
    "# Regression analysis allows us to take a data set and \"reverse engineer\" an equation describing it\n",
    "    * Median, Variance, and IQR describe data sets but do not allow us to make predictions with it\n",
    "    * Tools like regression that allow us to predict where data points we did not measure might end up if we had collected more data\n",
    "    * Tools that allow us to predict house price, stock market movements and weater regression is truly powerful tool.\n",
    "\n",
    "#### lineregress is an appropriate function in SciPy"
   ]
  },
  {
   "cell_type": "code",
   "execution_count": 90,
   "metadata": {},
   "outputs": [],
   "source": [
    "# Dependencies\n",
    "from matplotlib import pyplot as plt\n",
    "from scipy.stats import linregress\n",
    "import numpy as np"
   ]
  },
  {
   "cell_type": "code",
   "execution_count": 91,
   "metadata": {},
   "outputs": [],
   "source": [
    "# Set data\n",
    "x_axis = np.arange(0, 10, 1)\n",
    "fake = [1, 2.5, 2.75, 4.25, 5.5, 6, 7.25, 8, 8.75, 9.8]\n"
   ]
  },
  {
   "cell_type": "code",
   "execution_count": 92,
   "metadata": {},
   "outputs": [
    {
     "name": "stdout",
     "output_type": "stream",
     "text": [
      "LinregressResult(slope=0.961818181818182, intercept=1.251818181818181, rvalue=0.996055141381464, pvalue=1.0544997100920511e-09, stderr=0.030294695823547768)\n"
     ]
    }
   ],
   "source": [
    "# Set line\n",
    "print(linregress(x_axis, fake))\n",
    "(slope, intercept, rvalue, pvalue, stderr) = linregress(x_axis, fake)\n",
    "fit = slope * x_axis + intercept"
   ]
  },
  {
   "cell_type": "code",
   "execution_count": 93,
   "metadata": {},
   "outputs": [
    {
     "name": "stdout",
     "output_type": "stream",
     "text": [
      "[1.25181818 2.21363636 3.17545455 4.13727273 5.09909091 6.06090909\n",
      " 7.02272727 7.98454545 8.94636364 9.90818182]\n"
     ]
    },
    {
     "data": {
      "image/png": "[encoded data removed]",
      "text/plain": [
       "<matplotlib.figure.Figure at 0x2559f173ac8>"
      ]
     },
     "metadata": {},
     "output_type": "display_data"
    }
   ],
   "source": [
    "# Plot data\n",
    "fig, ax = plt.subplots()\n",
    "\n",
    "fig.suptitle(\"Fake Banana Data!\", fontsize=16, fontweight=\"bold\")\n",
    "\n",
    "ax.set_xlim(0, 10)\n",
    "ax.set_ylim(0, 10)\n",
    "\n",
    "ax.set_xlabel(\"Fake Banana Ages (in days)\")\n",
    "ax.set_ylabel(\"Fake Banana Weights (in Hundres of Kilograms)\")\n",
    "\n",
    "ax.plot(x_axis, fake, linewidth=0, marker='o')\n",
    "print(fit)\n",
    "ax.plot(x_axis, fit, 'b--')\n",
    "\n",
    "plt.show()"
   ]
  },
  {
   "cell_type": "markdown",
   "metadata": {},
   "source": [
    "# Students Turn Activity 10 "
   ]
  },
  {
   "cell_type": "markdown",
   "metadata": {},
   "source": [
    "# Fits and Regression\n",
    "\n",
    "This activity gives students an opportunity to use scipy to fit data, and matplotlib to display the fit.\n",
    "\n",
    "## Instructions\n",
    "\n",
    "* Import `stats` from the scipy module, along with `numpy` and `pandas`.\n",
    "\n",
    "* Use Pandas to read the `crime_data.csv` provided in the Resources directory.\n",
    "\n",
    "* Use `iloc` to isolate the year column.\n",
    "\n",
    "* Use `iloc` to isolate the total violent crime rate, murder rate, and aggravated assault rate columns.\n",
    "\n",
    "* Use `stats.linregress` to perform a linear regression with the year and violent crime rate columns.\n",
    "\n",
    "* Use `stats.linregress` to perform a linear regression with the year and murder rate columns.\n",
    "\n",
    "* Finally, use `stats.linregress` to perform a linear regression with the year and aggravated assault rate columns.\n",
    "\n",
    "* Use the information returned by `stats.linregress` to create an equation for a line describing each of the linear regressions you performed (see the hint below).\n",
    "\n",
    "  * You should end up with three separate lines.\n",
    "\n",
    "* Use `subplots` to create a figure with subplots that share an x-axis.\n",
    "\n",
    "* Use `plot` to plot each of the lines you created against the year.\n",
    "\n",
    "* Display the plot.\n",
    "\n",
    "## Bonus\n",
    "\n",
    "* Use the line you created for the total violent crime rate to determine what the violent crime rate will be in 2019.\n",
    "\n",
    "## Hints\n",
    "\n",
    "* See the documentation for [stats.linregress](https://docs.scipy.org/doc/scipy-0.19.0/reference/generated/scipy.stats.linregress.html).\n",
    "\n",
    "* Recall that `stats.linregress` returns a slope, called `m`, and a y-intercept, called `b`. These let you define a line for each fit by simply writing: `fit = m * year + b`, for each linear regression you perform."
   ]
  },
  {
   "cell_type": "markdown",
   "metadata": {},
   "source": []
  },
  {
   "cell_type": "code",
   "execution_count": 115,
   "metadata": {},
   "outputs": [],
   "source": [
    "# Dependencies\n",
    "from matplotlib import pyplot as plt\n",
    "from scipy import stats\n",
    "import numpy as np\n",
    "import pandas as pd"
   ]
  },
  {
   "cell_type": "code",
   "execution_count": 116,
   "metadata": {},
   "outputs": [],
   "source": [
    "crime_data = pd.read_csv(\"Resources/crime_data.csv\")\n",
    "year = crime_data.iloc[:, 0]"
   ]
  },
  {
   "cell_type": "code",
   "execution_count": 117,
   "metadata": {},
   "outputs": [],
   "source": [
    "# Grab violent crime rates# Grab  \n",
    "\n",
    "violent_crime_rate = crime_data.iloc[:,3]\n",
    "vc_slope, vc_int, vc_r, vc_p, vc_std_err = stats.linregress(\n",
    "    year, violent_crime_rate\n",
    ")\n",
    "vc_fit = vc_slope * year + vc_int"
   ]
  },
  {
   "cell_type": "code",
   "execution_count": 118,
   "metadata": {},
   "outputs": [],
   "source": [
    "# Grab murder rate\n",
    "murder_rate = crime_data.iloc[:,5]\n",
    "m_slope, m_int, m_r, m_p, m_std_err = stats.linregress(year, murder_rate)\n",
    "m_fit = m_slope * year + m_int"
   ]
  },
  {
   "cell_type": "code",
   "execution_count": 119,
   "metadata": {},
   "outputs": [],
   "source": [
    "# Grab aggravated assault rate\n",
    "aggravated_assault_rate = crime_data.iloc[:,9]\n",
    "aa_slope, aa_int, aa_r, aa_p, aa_std_err = stats.linregress(year, aggravated_assault_rate)\n",
    "aa_fit = aa_slope * year + aa_int"
   ]
  },
  {
   "cell_type": "code",
   "execution_count": 120,
   "metadata": {},
   "outputs": [
    {
     "name": "stdout",
     "output_type": "stream",
     "text": [
      "(<matplotlib.figure.Figure object at 0x000002559D5B1320>, array([<matplotlib.axes._subplots.AxesSubplot object at 0x000002559CA7E9E8>,\n",
      "       <matplotlib.axes._subplots.AxesSubplot object at 0x000002559EFE7B38>,\n",
      "       <matplotlib.axes._subplots.AxesSubplot object at 0x000002559F73E470>],\n",
      "      dtype=object))\n"
     ]
    },
    {
     "data": {
      "text/plain": [
       "Text(0.5,0,'Year')"
      ]
     },
     "execution_count": 120,
     "metadata": {},
     "output_type": "execute_result"
    },
    {
     "data": {
      "image/png": "[encoded data removed]",
      "text/plain": [
       "<matplotlib.figure.Figure at 0x2559d5b1320>"
      ]
     },
     "metadata": {},
     "output_type": "display_data"
    },
    {
     "data": {
      "image/png": "[encoded data removed]",
      "text/plain": [
       "<matplotlib.figure.Figure at 0x2559d5b1cf8>"
      ]
     },
     "metadata": {},
     "output_type": "display_data"
    }
   ],
   "source": [
    "# Plot\n",
    "print(plt.subplots(3, sharex=True))\n",
    "fig, (ax1, ax2, ax3) = plt.subplots(3, sharex=True)\n",
    "fig.suptitle(\"Crime Rates Over Time\", fontsize = 16, fontweight=\"bold\")\n",
    "\n",
    "ax1.set_xlim(min(year), max(year))\n",
    "ax1.plot(year, violent_crime_rate, linewidth=1, marker=\"o\")\n",
    "ax1.plot(year, vc_fit, \"b--\", linewidth=1)\n",
    "ax1.set_ylabel(\"Violent Crime Rates\")\n",
    "\n",
    "ax2.plot(year, murder_rate, linewidth=1, marker=\"o\", color='r')\n",
    "ax2.plot(year, m_fit, \"r--\", linewidth=1)\n",
    "ax2.set_ylabel(\"Murder Rate\")\n",
    "\n",
    "ax3.plot(year,aggravated_assault_rate, linewidth=1, marker=\"o\", color=\"g\")\n",
    "ax3.plot(year, aa_fit, \"g--\", linewidth=1)\n",
    "ax3.set_ylabel(\"Aggravated Assault Rate\")\n",
    "ax3.set_xlabel(\"Year\")"
   ]
  },
  {
   "cell_type": "code",
   "execution_count": 113,
   "metadata": {},
   "outputs": [
    {
     "name": "stdout",
     "output_type": "stream",
     "text": [
      "The violent crime rate in 2019 will be 262.2137593984953.\n",
      "The murder rate in 2019 will be 3.2376691729323284.\n",
      "The aggravated assault rate in 2019 will be 72.87037593985042.\n"
     ]
    },
    {
     "data": {
      "text/plain": [
       "<matplotlib.figure.Figure at 0x2559f73e668>"
      ]
     },
     "metadata": {},
     "output_type": "display_data"
    }
   ],
   "source": [
    "# Print results and save image\n",
    "year = 2019\n",
    "print(\"The violent crime rate in 2019 will be \" + str(vc_slope * year + vc_int) + \".\")\n",
    "print(\"The murder rate in 2019 will be \" + str(m_slope * year + m_int) + \".\")\n",
    "print(\"The aggravated assault rate in 2019 will be \" + str(aa_slope * year + aa_int) + \".\")\n",
    "plt.show()\n",
    "plt.savefig(\"Images/18-final-plot.png\")"
   ]
  },
  {
   "cell_type": "code",
   "execution_count": null,
   "metadata": {
    "collapsed": true
   },
   "outputs": [],
   "source": []
  }
 ],
 "metadata": {
  "kernelspec": {
   "display_name": "Python 3",
   "language": "python",
   "name": "python3"
  },
  "language_info": {
   "codemirror_mode": {
    "name": "ipython",
    "version": 3
   },
   "file_extension": ".py",
   "mimetype": "text/x-python",
   "name": "python",
   "nbconvert_exporter": "python",
   "pygments_lexer": "ipython3",
   "version": "3.6.4"
  }
 },
 "nbformat": 4,
 "nbformat_minor": 2
}
