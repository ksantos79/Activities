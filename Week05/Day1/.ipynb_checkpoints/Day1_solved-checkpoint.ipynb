{
 "cells": [
  {
   "cell_type": "markdown",
   "metadata": {
    "collapsed": true
   },
   "source": [
    "# Instructor Turn Activity 1: Basic Line Graphs"
   ]
  },
  {
   "cell_type": "code",
   "execution_count": 2,
   "metadata": {
    "collapsed": true
   },
   "outputs": [],
   "source": [
    "# Import Numpy for calculations and matplotlib for charting\n",
    "import numpy as np\n",
    "import matplotlib.pyplot as plt"
   ]
  },
  {
   "cell_type": "code",
   "execution_count": 3,
   "metadata": {
    "collapsed": false
   },
   "outputs": [
    {
     "data": {
      "text/plain": [
       "array([ 0. ,  0.1,  0.2,  0.3,  0.4,  0.5,  0.6,  0.7,  0.8,  0.9,  1. ,\n",
       "        1.1,  1.2,  1.3,  1.4,  1.5,  1.6,  1.7,  1.8,  1.9,  2. ,  2.1,\n",
       "        2.2,  2.3,  2.4,  2.5,  2.6,  2.7,  2.8,  2.9,  3. ,  3.1,  3.2,\n",
       "        3.3,  3.4,  3.5,  3.6,  3.7,  3.8,  3.9,  4. ,  4.1,  4.2,  4.3,\n",
       "        4.4,  4.5,  4.6,  4.7,  4.8,  4.9])"
      ]
     },
     "execution_count": 3,
     "metadata": {},
     "output_type": "execute_result"
    }
   ],
   "source": [
    "# Creates a list from 0 to 10 with each step being 0.1 higher than the last\n",
    "x_axis = np.arange(0,5, 0.1)\n",
    "x_axis"
   ]
  },
  {
   "cell_type": "code",
   "execution_count": 4,
   "metadata": {
    "collapsed": false
   },
   "outputs": [
    {
     "data": {
      "text/plain": [
       "[1.0,\n",
       " 1.1051709180756477,\n",
       " 1.2214027581601699,\n",
       " 1.3498588075760032,\n",
       " 1.4918246976412703,\n",
       " 1.6487212707001282,\n",
       " 1.8221188003905091,\n",
       " 2.0137527074704766,\n",
       " 2.2255409284924679,\n",
       " 2.4596031111569499,\n",
       " 2.7182818284590451,\n",
       " 3.0041660239464334,\n",
       " 3.3201169227365481,\n",
       " 3.6692966676192444,\n",
       " 4.0551999668446754,\n",
       " 4.4816890703380645,\n",
       " 4.9530324243951149,\n",
       " 5.4739473917272008,\n",
       " 6.0496474644129465,\n",
       " 6.6858944422792703,\n",
       " 7.3890560989306504,\n",
       " 8.1661699125676517,\n",
       " 9.025013499434122,\n",
       " 9.9741824548147235,\n",
       " 11.023176380641605,\n",
       " 12.182493960703473,\n",
       " 13.463738035001692,\n",
       " 14.879731724872837,\n",
       " 16.444646771097055,\n",
       " 18.174145369443067,\n",
       " 20.085536923187668,\n",
       " 22.197951281441636,\n",
       " 24.532530197109352,\n",
       " 27.112638920657893,\n",
       " 29.964100047397025,\n",
       " 33.115451958692312,\n",
       " 36.598234443677988,\n",
       " 40.447304360067399,\n",
       " 44.701184493300836,\n",
       " 49.402449105530188,\n",
       " 54.598150033144236,\n",
       " 60.340287597362,\n",
       " 66.686331040925154,\n",
       " 73.699793699595787,\n",
       " 81.450868664968141,\n",
       " 90.017131300521811,\n",
       " 99.484315641933861,\n",
       " 109.94717245212352,\n",
       " 121.51041751873497,\n",
       " 134.28977968493552]"
      ]
     },
     "execution_count": 4,
     "metadata": {},
     "output_type": "execute_result"
    }
   ],
   "source": [
    "# Creates an exponential series of values which we can then chart\n",
    "e_x = [np.exp(x) for x in x_axis]\n",
    "e_x"
   ]
  },
  {
   "cell_type": "code",
   "execution_count": 5,
   "metadata": {
    "collapsed": false
   },
   "outputs": [
    {
     "data": {
      "text/plain": [
       "[<matplotlib.lines.Line2D at 0x11acbf0b8>]"
      ]
     },
     "execution_count": 5,
     "metadata": {},
     "output_type": "execute_result"
    }
   ],
   "source": [
    "# Create a graph based upon the two lists we have created\n",
    "plt.plot(x_axis, e_x)"
   ]
  },
  {
   "cell_type": "code",
   "execution_count": 6,
   "metadata": {
    "collapsed": false
   },
   "outputs": [
    {
     "data": {
      "image/png": "[encoded data removed]",
      "text/plain": [
       "<matplotlib.figure.Figure at 0x1178ba358>"
      ]
     },
     "metadata": {},
     "output_type": "display_data"
    }
   ],
   "source": [
    "# Show the graph that we have created\n",
    "plt.show()"
   ]
  },
  {
   "cell_type": "code",
   "execution_count": 7,
   "metadata": {
    "collapsed": false
   },
   "outputs": [
    {
     "data": {
      "image/png": "[encoded data removed]",
      "text/plain": [
       "<matplotlib.figure.Figure at 0x11acbfc50>"
      ]
     },
     "metadata": {},
     "output_type": "display_data"
    }
   ],
   "source": [
    "# Give our graph axis labels\n",
    "plt.xlabel(\"Time With MatPlotLib\")\n",
    "plt.ylabel(\"How Cool MatPlotLib Seems\")\n",
    "\n",
    "# Have to plot our chart once again as it doesn't stick after being shown\n",
    "plt.plot(x_axis, e_x)\n",
    "plt.show()"
   ]
  },
  {
   "cell_type": "code",
   "execution_count": 17,
   "metadata": {
    "collapsed": true
   },
   "outputs": [],
   "source": [
    "# Import Numpy for calculations and matplotlib for charting\n",
    "import numpy as np\n",
    "import matplotlib.pyplot as plt"
   ]
  },
  {
   "cell_type": "code",
   "execution_count": 18,
   "metadata": {
    "collapsed": true
   },
   "outputs": [],
   "source": [
    "# Create our x_axis list\n",
    "x_axis = np.arange(0, 6, 0.1)"
   ]
  },
  {
   "cell_type": "code",
   "execution_count": 19,
   "metadata": {
    "collapsed": true
   },
   "outputs": [],
   "source": [
    "# Creates a list based on the sin of our x_axis values\n",
    "sin = np.sin(x_axis)"
   ]
  },
  {
   "cell_type": "code",
   "execution_count": 20,
   "metadata": {
    "collapsed": true
   },
   "outputs": [],
   "source": [
    "# Creates a list based on the cos of our x_axis values\n",
    "cos = np.cos(x_axis)"
   ]
  },
  {
   "cell_type": "code",
   "execution_count": 21,
   "metadata": {
    "collapsed": false
   },
   "outputs": [
    {
     "data": {
      "image/png": "[encoded data removed]",
      "text/plain": [
       "<matplotlib.figure.Figure at 0x11e1d9828>"
      ]
     },
     "metadata": {},
     "output_type": "display_data"
    }
   ],
   "source": [
    "# Plot both of these lines so that they will appear on our final chart\n",
    "plt.plot(x_axis, sin)\n",
    "plt.plot(x_axis, cos)\n",
    "\n",
    "plt.show()"
   ]
  },
  {
   "cell_type": "markdown",
   "metadata": {},
   "source": [
    "# Students Turn Activity 2: New Jersey monthly temperature\n",
    "\n",
    "## Instructions\n",
    "\n",
    "* Using the following data plot the monthly averages for temperature in New Jersey.\n",
    "\n",
    "  * Use the numerical value for month.\n",
    "\n",
    "  * Average temperature per month in Fahrenheit [39, 42, 51, 62, 72, 82, 86, 84, 77, 65, 55, 44]\n",
    "\n",
    "* Use list comprehension to cover the temperature to celsius and plot that line as well.\n",
    "\n",
    "  * C = (F - 39) * 0.56\n",
    "\n",
    "* Create a third plot that has both lines"
   ]
  },
  {
   "cell_type": "code",
   "execution_count": 8,
   "metadata": {
    "collapsed": true
   },
   "outputs": [],
   "source": [
    "# Dependencies\n",
    "import numpy as np\n",
    "import matplotlib.pyplot as plt"
   ]
  },
  {
   "cell_type": "code",
   "execution_count": 9,
   "metadata": {
    "collapsed": false
   },
   "outputs": [
    {
     "data": {
      "text/plain": [
       "array([ 1,  2,  3,  4,  5,  6,  7,  8,  9, 10, 11, 12])"
      ]
     },
     "execution_count": 9,
     "metadata": {},
     "output_type": "execute_result"
    }
   ],
   "source": [
    "# Set x axis to numerical value for month\n",
    "# x_axis_data = np.arange(1,13,1)\n",
    "# x_axis_data"
   ]
  },
  {
   "cell_type": "code",
   "execution_count": 10,
   "metadata": {
    "collapsed": true
   },
   "outputs": [],
   "source": [
    "# Average weather temp\n",
    "#points = [39, 42, 51, 62, 72, 82, 86, 84, 77, 65, 55, 44]"
   ]
  },
  {
   "cell_type": "code",
   "execution_count": 11,
   "metadata": {
    "collapsed": false
   },
   "outputs": [
    {
     "data": {
      "image/png": "[encoded data removed]",
      "text/plain": [
       "<matplotlib.figure.Figure at 0x11ae22208>"
      ]
     },
     "metadata": {},
     "output_type": "display_data"
    }
   ],
   "source": [
    "# Plot the line\n",
    "#plt.plot(x_axis_data, points)\n",
    "#plt.show()"
   ]
  },
  {
   "cell_type": "code",
   "execution_count": 12,
   "metadata": {
    "collapsed": false
   },
   "outputs": [
    {
     "data": {
      "text/plain": [
       "[3.9200000000000004,\n",
       " 5.6000000000000005,\n",
       " 10.64,\n",
       " 16.8,\n",
       " 22.400000000000002,\n",
       " 28.000000000000004,\n",
       " 30.240000000000002,\n",
       " 29.120000000000005,\n",
       " 25.200000000000003,\n",
       " 18.48,\n",
       " 12.88,\n",
       " 6.720000000000001]"
      ]
     },
     "execution_count": 12,
     "metadata": {},
     "output_type": "execute_result"
    }
   ],
   "source": [
    "# Convert to Celsius C = (F-32) * 0.56\n",
    "#points_C = [(x-32) * 0.56 for x in points]\n",
    "#points_C"
   ]
  },
  {
   "cell_type": "code",
   "execution_count": 13,
   "metadata": {
    "collapsed": false
   },
   "outputs": [
    {
     "data": {
      "image/png": "[encoded data removed]",
      "text/plain": [
       "<matplotlib.figure.Figure at 0x11af05da0>"
      ]
     },
     "metadata": {},
     "output_type": "display_data"
    }
   ],
   "source": [
    "# Plot using Celsius\n",
    "#plt.plot(x_axis_data, points_C)\n",
    "#plt.show()"
   ]
  },
  {
   "cell_type": "code",
   "execution_count": 14,
   "metadata": {
    "collapsed": false
   },
   "outputs": [
    {
     "data": {
      "image/png": "[encoded data removed]",
      "text/plain": [
       "<matplotlib.figure.Figure at 0x11aff62e8>"
      ]
     },
     "metadata": {},
     "output_type": "display_data"
    }
   ],
   "source": [
    "# Plot both on the same chart\n",
    "#plt.plot(x_axis_data, points)\n",
    "#plt.plot(x_axis_data, points_C)\n",
    "#plt.show()"
   ]
  },
  {
   "cell_type": "markdown",
   "metadata": {},
   "source": [
    "# Instructor Turn Activity 3: Configuring Line Plots"
   ]
  },
  {
   "cell_type": "code",
   "execution_count": 15,
   "metadata": {
    "collapsed": true
   },
   "outputs": [],
   "source": [
    "# Dependencies\n",
    "import matplotlib.pyplot as plt\n",
    "import numpy as np"
   ]
  },
  {
   "cell_type": "code",
   "execution_count": 16,
   "metadata": {
    "collapsed": true
   },
   "outputs": [],
   "source": [
    "# Set x axis and variables\n",
    "x_axis = np.arange(0, 10, 0.1)\n",
    "sin = np.sin(x_axis)\n",
    "cos = np.cos(x_axis)"
   ]
  },
  {
   "cell_type": "code",
   "execution_count": 17,
   "metadata": {
    "collapsed": false
   },
   "outputs": [
    {
     "data": {
      "text/plain": [
       "<matplotlib.collections.LineCollection at 0x11b19fd30>"
      ]
     },
     "execution_count": 17,
     "metadata": {},
     "output_type": "execute_result"
    }
   ],
   "source": [
    "# Draw a horizontal line with 0.25 transparency\n",
    "plt.hlines(0, 0, 10, alpha=0.25)"
   ]
  },
  {
   "cell_type": "code",
   "execution_count": 18,
   "metadata": {
    "collapsed": true
   },
   "outputs": [],
   "source": [
    "# Assign plots to tuples that stores result of plot\n",
    "\n",
    "# Each point on the sine chart is marked by a blue circle\n",
    "sine_handle, = plt.plot(x_axis, sin, marker ='o', color='blue', label=\"Sine\")\n",
    "# Each point on the cosine chart is marked by a red triangle\n",
    "cosine_handle, = plt.plot(x_axis, cos, marker='^', color='red', label=\"Cosine\")"
   ]
  },
  {
   "cell_type": "code",
   "execution_count": 19,
   "metadata": {
    "collapsed": false
   },
   "outputs": [
    {
     "data": {
      "text/plain": [
       "<matplotlib.legend.Legend at 0x11b1ac748>"
      ]
     },
     "execution_count": 19,
     "metadata": {},
     "output_type": "execute_result"
    }
   ],
   "source": [
    "# Adds a legend and sets its location to the lower right\n",
    "plt.legend(loc=\"lower right\")"
   ]
  },
  {
   "cell_type": "code",
   "execution_count": 21,
   "metadata": {
    "collapsed": false
   },
   "outputs": [
    {
     "data": {
      "image/png": "[encoded data removed]",
      "text/plain": [
       "<matplotlib.figure.Figure at 0x11b0ce2b0>"
      ]
     },
     "metadata": {},
     "output_type": "display_data"
    }
   ],
   "source": [
    "# Saves an image of our chart so that we can view it in a folder\n",
    "plt.savefig(\"Images/lineConfig.png\")\n",
    "plt.show()"
   ]
  },
  {
   "cell_type": "markdown",
   "metadata": {},
   "source": [
    "# Students Turn Activity 4: Legendary New Jersey Temperature\n",
    "\n",
    "### Instructions\n",
    "\n",
    "  * Modify the New Jersey temperature line charts from earlier so that they match the image provided.\n",
    "  ![alt text](Images/avg_temp_solved.png)\n",
    "  * Once the plot has been created, look through the [MatPlotLib Documentation](https://matplotlib.org/2.0.2/index.html) to see what additional formatting could be added to the chart."
   ]
  },
  {
   "cell_type": "code",
   "execution_count": 22,
   "metadata": {
    "collapsed": true
   },
   "outputs": [],
   "source": [
    "# Dependencies\n",
    "import matplotlib.pyplot as plt\n",
    "import numpy as np"
   ]
  },
  {
   "cell_type": "code",
   "execution_count": 23,
   "metadata": {
    "collapsed": false
   },
   "outputs": [
    {
     "data": {
      "text/plain": [
       "array([ 1,  2,  3,  4,  5,  6,  7,  8,  9, 10, 11, 12])"
      ]
     },
     "execution_count": 23,
     "metadata": {},
     "output_type": "execute_result"
    }
   ],
   "source": [
    "# Set x axis to numerical value for month\n",
    "#x_axis = np.arange(1,13,1)\n",
    "#x_axis"
   ]
  },
  {
   "cell_type": "code",
   "execution_count": 24,
   "metadata": {
    "collapsed": true
   },
   "outputs": [],
   "source": [
    "# Avearge weather temp\n",
    "#points_F = [39, 42, 51, 62, 72, 82, 86, 84, 77, 65, 55, 44]"
   ]
  },
  {
   "cell_type": "code",
   "execution_count": 25,
   "metadata": {
    "collapsed": false
   },
   "outputs": [
    {
     "data": {
      "text/plain": [
       "[3.9200000000000004,\n",
       " 5.6000000000000005,\n",
       " 10.64,\n",
       " 16.8,\n",
       " 22.400000000000002,\n",
       " 28.000000000000004,\n",
       " 30.240000000000002,\n",
       " 29.120000000000005,\n",
       " 25.200000000000003,\n",
       " 18.48,\n",
       " 12.88,\n",
       " 6.720000000000001]"
      ]
     },
     "execution_count": 25,
     "metadata": {},
     "output_type": "execute_result"
    }
   ],
   "source": [
    "# Convert to Celsius C = (F-32) * 0.56\n",
    "#points_C = [(x-32) * 0.56 for x in points_F]\n",
    "#points_C"
   ]
  },
  {
   "cell_type": "code",
   "execution_count": 26,
   "metadata": {
    "collapsed": true
   },
   "outputs": [],
   "source": [
    "# Create a handle for each plot\n",
    "#fahrenheit, = plt.plot(x_axis, points_F, marker=\"+\",color=\"blue\", linewidth=1, label=\"Fahreneit\")\n",
    "#celcius, = plt.plot(x_axis, points_C, marker=\"s\", color=\"Red\", linewidth=1, label=\"Celcius\")"
   ]
  },
  {
   "cell_type": "code",
   "execution_count": 27,
   "metadata": {
    "collapsed": false
   },
   "outputs": [
    {
     "data": {
      "text/plain": [
       "<matplotlib.legend.Legend at 0x11b1fc518>"
      ]
     },
     "execution_count": 27,
     "metadata": {},
     "output_type": "execute_result"
    }
   ],
   "source": [
    "# Set our legend to where the chart thinks is best\n",
    "#plt.legend(handles=[fahrenheit, celcius], loc=\"best\")"
   ]
  },
  {
   "cell_type": "code",
   "execution_count": 28,
   "metadata": {
    "collapsed": false
   },
   "outputs": [
    {
     "data": {
      "text/plain": [
       "<matplotlib.text.Text at 0x11b6ea630>"
      ]
     },
     "execution_count": 28,
     "metadata": {},
     "output_type": "execute_result"
    }
   ],
   "source": [
    "# Create labels for the X and Y axis\n",
    "#plt.xlabel(\"Months\")\n",
    "#plt.ylabel(\"Degrees\")"
   ]
  },
  {
   "cell_type": "code",
   "execution_count": 31,
   "metadata": {
    "collapsed": false
   },
   "outputs": [],
   "source": [
    "# Save and display the chart\n",
    "#plt.savefig(\"Images/avg_temp.png\")\n",
    "#plt.show()"
   ]
  },
  {
   "cell_type": "markdown",
   "metadata": {},
   "source": [
    "# Instructor Turn Activity 5: Aesthetics "
   ]
  },
  {
   "cell_type": "code",
   "execution_count": 32,
   "metadata": {
    "collapsed": true
   },
   "outputs": [],
   "source": [
    "# Dependencies\n",
    "import matplotlib.pyplot as plt\n",
    "import numpy as np"
   ]
  },
  {
   "cell_type": "code",
   "execution_count": 33,
   "metadata": {
    "collapsed": true
   },
   "outputs": [],
   "source": [
    "# Generate the x values from 0 to 10 using a step of 0.1\n",
    "x_axis = np.arange(0, 10, 0.1)\n",
    "sin = np.sin(x_axis)\n",
    "cos = np.cos(x_axis)"
   ]
  },
  {
   "cell_type": "code",
   "execution_count": 34,
   "metadata": {
    "collapsed": false
   },
   "outputs": [
    {
     "data": {
      "text/plain": [
       "<matplotlib.collections.LineCollection at 0x11b917dd8>"
      ]
     },
     "execution_count": 34,
     "metadata": {},
     "output_type": "execute_result"
    }
   ],
   "source": [
    "# Add a semi-transparent horizontal line at y = 0\n",
    "plt.hlines(0, 0, 10, alpha=0.25)"
   ]
  },
  {
   "cell_type": "code",
   "execution_count": 35,
   "metadata": {
    "collapsed": false
   },
   "outputs": [
    {
     "data": {
      "text/plain": [
       "[<matplotlib.lines.Line2D at 0x11b9209e8>]"
      ]
     },
     "execution_count": 35,
     "metadata": {},
     "output_type": "execute_result"
    }
   ],
   "source": [
    "# Use dots or other markers for your plots, and change their colors\n",
    "plt.plot(x_axis, sin, linewidth=0, marker=\"o\", color=\"blue\")\n",
    "plt.plot(x_axis, cos, linewidth=0, marker=\"^\", color=\"red\")"
   ]
  },
  {
   "cell_type": "code",
   "execution_count": 36,
   "metadata": {
    "collapsed": false
   },
   "outputs": [
    {
     "data": {
      "text/plain": [
       "<matplotlib.text.Text at 0x11b85c080>"
      ]
     },
     "execution_count": 36,
     "metadata": {},
     "output_type": "execute_result"
    }
   ],
   "source": [
    "# Add labels to the x and y axes\n",
    "plt.title(\"Juxtaposed Sine and Cosine Curves\")\n",
    "plt.xlabel(\"Input (Sampled Real Numbers from 0 to 10)\")\n",
    "plt.ylabel(\"Value of Sine (blue) and Cosine (red)\")"
   ]
  },
  {
   "cell_type": "code",
   "execution_count": 37,
   "metadata": {
    "collapsed": false
   },
   "outputs": [
    {
     "data": {
      "text/plain": [
       "(-1, 1)"
      ]
     },
     "execution_count": 37,
     "metadata": {},
     "output_type": "execute_result"
    }
   ],
   "source": [
    "# Set your x and y limits\n",
    "plt.xlim(0, 10)\n",
    "plt.ylim(-1, 1)"
   ]
  },
  {
   "cell_type": "code",
   "execution_count": 38,
   "metadata": {
    "collapsed": true
   },
   "outputs": [],
   "source": [
    "# Set a grid on the plot\n",
    "plt.grid()"
   ]
  },
  {
   "cell_type": "code",
   "execution_count": 39,
   "metadata": {
    "collapsed": false
   },
   "outputs": [
    {
     "data": {
      "image/png": "[encoded data removed]",
      "text/plain": [
       "<matplotlib.figure.Figure at 0x11b83dc50>"
      ]
     },
     "metadata": {},
     "output_type": "display_data"
    }
   ],
   "source": [
    "# Save the plot and display it\n",
    "plt.savefig(\"Images/sin_cos_with_markers.png\")\n",
    "plt.show()"
   ]
  },
  {
   "cell_type": "markdown",
   "metadata": {},
   "source": [
    "# Students Turn Activity 6: Coaster Speed\n",
    "\n",
    "### Instructions\n",
    "\n",
    "  * Create a line chart with two plots using the following data...\n",
    "\n",
    "  * `Danger Drop: [9, 8, 90, 85, 80, 70, 70, 65, 55, 60, 70, 65, 50]`\n",
    "\n",
    "  * `RailGun: [75, 70, 60, 65, 60, 45, 55, 50, 40, 40, 35, 35, 30]`\n",
    "\n",
    "  * Both coasters are 120 seconds long and the speed was measured every 10 seconds.\n",
    "\n",
    "  * Apply styling and labels that match the image provided."
   ]
  },
  {
   "cell_type": "code",
   "execution_count": 41,
   "metadata": {
    "collapsed": true
   },
   "outputs": [],
   "source": [
    "# Import Dependencies\n",
    "import matplotlib.pyplot as plt\n",
    "import numpy as np"
   ]
  },
  {
   "cell_type": "code",
   "execution_count": 42,
   "metadata": {
    "collapsed": true
   },
   "outputs": [],
   "source": [
    "# Create the X and Y axis lists\n",
    "#time = np.arange(0,130,10)\n",
    "#speed_chain = [9, 8, 90, 85, 80, 70, 70, 65, 55, 60, 70, 65, 50]\n",
    "#speed_launch = [75, 70, 60, 65, 60, 45, 55, 50, 40, 40, 35, 35, 30]"
   ]
  },
  {
   "cell_type": "code",
   "execution_count": 43,
   "metadata": {
    "collapsed": true
   },
   "outputs": [],
   "source": [
    "# Plot the charts and apply some styling\n",
    "#danger_drop, = plt.plot(time, speed_chain, color=\"red\", label=\"Danger Drop\")\n",
    "#railgun, = plt.plot(time, speed_launch, color=\"blue\", label=\"RailGun\")"
   ]
  },
  {
   "cell_type": "code",
   "execution_count": 44,
   "metadata": {
    "collapsed": false
   },
   "outputs": [
    {
     "data": {
      "text/plain": [
       "<matplotlib.text.Text at 0x11b9f2518>"
      ]
     },
     "execution_count": 44,
     "metadata": {},
     "output_type": "execute_result"
    }
   ],
   "source": [
    "# Add labels to X and Y axes :: Add title\n",
    "#plt.title(\"Coaster Speed Over Time\")\n",
    "#plt.xlabel(\"Coaster Runtime\")\n",
    "#plt.ylabel(\"Speed (MPH)\")"
   ]
  },
  {
   "cell_type": "code",
   "execution_count": 45,
   "metadata": {
    "collapsed": false
   },
   "outputs": [
    {
     "data": {
      "text/plain": [
       "(5, 95)"
      ]
     },
     "execution_count": 45,
     "metadata": {},
     "output_type": "execute_result"
    }
   ],
   "source": [
    "# Set the limits for the X and Y axes\n",
    "#plt.xlim(0,120)\n",
    "#plt.ylim(5,95)"
   ]
  },
  {
   "cell_type": "code",
   "execution_count": 46,
   "metadata": {
    "collapsed": false
   },
   "outputs": [
    {
     "data": {
      "text/plain": [
       "<matplotlib.legend.Legend at 0x11b949550>"
      ]
     },
     "execution_count": 46,
     "metadata": {},
     "output_type": "execute_result"
    }
   ],
   "source": [
    "# Create a legend for the chart\n",
    "#plt.legend(handles=[danger_drop, railgun], loc=\"best\")"
   ]
  },
  {
   "cell_type": "code",
   "execution_count": 47,
   "metadata": {
    "collapsed": true
   },
   "outputs": [],
   "source": [
    "# Add in a grid for the chart\n",
    "#plt.grid()"
   ]
  },
  {
   "cell_type": "code",
   "execution_count": 48,
   "metadata": {
    "collapsed": false
   },
   "outputs": [
    {
     "data": {
      "image/png": "[encoded data removed]",
      "text/plain": [
       "<matplotlib.figure.Figure at 0x11b938dd8>"
      ]
     },
     "metadata": {},
     "output_type": "display_data"
    }
   ],
   "source": [
    "#plt.show()"
   ]
  },
  {
   "cell_type": "markdown",
   "metadata": {},
   "source": [
    "# Instructor Turn Activity 7: Barchart"
   ]
  },
  {
   "cell_type": "code",
   "execution_count": 49,
   "metadata": {
    "collapsed": true
   },
   "outputs": [],
   "source": [
    "import matplotlib.pyplot as plt\n",
    "import numpy as np"
   ]
  },
  {
   "cell_type": "code",
   "execution_count": 50,
   "metadata": {
    "collapsed": true
   },
   "outputs": [],
   "source": [
    "# Create an array that contains the number of users each language has\n",
    "users = [13000, 26000, 52000, 30000, 9000]\n",
    "x_axis = np.arange(len(users))"
   ]
  },
  {
   "cell_type": "code",
   "execution_count": 51,
   "metadata": {
    "collapsed": false
   },
   "outputs": [
    {
     "data": {
      "text/plain": [
       "<Container object of 5 artists>"
      ]
     },
     "execution_count": 51,
     "metadata": {},
     "output_type": "execute_result"
    }
   ],
   "source": [
    "# Tell matplotlib that we will be making a bar chart\n",
    "# Users is our y axis and x_axis is, of course, our x axis\n",
    "# We apply align=\"edge\" to ensure our bars line up with our tick marks\n",
    "plt.bar(x_axis, users, color='r', alpha=0.5, align=\"center\")"
   ]
  },
  {
   "cell_type": "code",
   "execution_count": 52,
   "metadata": {
    "collapsed": false
   },
   "outputs": [
    {
     "data": {
      "text/plain": [
       "([<matplotlib.axis.XTick at 0x11b950b38>,\n",
       "  <matplotlib.axis.XTick at 0x11b9e5b38>,\n",
       "  <matplotlib.axis.XTick at 0x11baa2710>,\n",
       "  <matplotlib.axis.XTick at 0x11bb0a978>,\n",
       "  <matplotlib.axis.XTick at 0x11bb0f390>],\n",
       " <a list of 5 Text xticklabel objects>)"
      ]
     },
     "execution_count": 52,
     "metadata": {},
     "output_type": "execute_result"
    }
   ],
   "source": [
    "# Tell matplotlib where we would like to place each of our x axis headers\n",
    "tick_locations = [value for value in x_axis]\n",
    "plt.xticks(tick_locations, [\"Java\", \"C++\", \"Python\", \"Ruby\", \"Clojure\"])"
   ]
  },
  {
   "cell_type": "code",
   "execution_count": 53,
   "metadata": {
    "collapsed": false
   },
   "outputs": [
    {
     "data": {
      "text/plain": [
       "(-0.75, 4.75)"
      ]
     },
     "execution_count": 53,
     "metadata": {},
     "output_type": "execute_result"
    }
   ],
   "source": [
    "# Sets the x limits of the current chart\n",
    "plt.xlim(-0.75, len(x_axis)-0.25)"
   ]
  },
  {
   "cell_type": "code",
   "execution_count": 54,
   "metadata": {
    "collapsed": false
   },
   "outputs": [
    {
     "data": {
      "text/plain": [
       "(0, 57000)"
      ]
     },
     "execution_count": 54,
     "metadata": {},
     "output_type": "execute_result"
    }
   ],
   "source": [
    "# Sets the y limits of the current chart\n",
    "plt.ylim(0, max(users)+5000)"
   ]
  },
  {
   "cell_type": "code",
   "execution_count": 55,
   "metadata": {
    "collapsed": false
   },
   "outputs": [
    {
     "data": {
      "text/plain": [
       "<matplotlib.text.Text at 0x11b9f2630>"
      ]
     },
     "execution_count": 55,
     "metadata": {},
     "output_type": "execute_result"
    }
   ],
   "source": [
    "# Give our chart some labels and a tile\n",
    "plt.title(\"Popularity of Programming Languages\")\n",
    "plt.xlabel(\"Programming Language\")\n",
    "plt.ylabel(\"Number of People Using Programming Languages\")"
   ]
  },
  {
   "cell_type": "code",
   "execution_count": 56,
   "metadata": {
    "collapsed": false
   },
   "outputs": [
    {
     "data": {
      "image/png": "[encoded data removed]",
      "text/plain": [
       "<matplotlib.figure.Figure at 0x11bab90f0>"
      ]
     },
     "metadata": {},
     "output_type": "display_data"
    }
   ],
   "source": [
    "# Print our chart to the screen\n",
    "plt.show()"
   ]
  },
  {
   "cell_type": "markdown",
   "metadata": {},
   "source": [
    "# Students Turn Activity 8 PyBars Bar Chart\n",
    "\n",
    "### Instructions\n",
    "\n",
    "  * Using the file provided as a starter, create a bar chart that matches the image provided."
   ]
  },
  {
   "cell_type": "code",
   "execution_count": 65,
   "metadata": {
    "collapsed": true
   },
   "outputs": [],
   "source": [
    "import matplotlib.pyplot as plt\n",
    "import numpy as np"
   ]
  },
  {
   "cell_type": "code",
   "execution_count": 66,
   "metadata": {
    "collapsed": true
   },
   "outputs": [],
   "source": [
    "cities = [\"New Orleans\", \"Milwaukee\", \"Omaha\", \"Pittsburgh\", \"Toledo\"]\n",
    "bars_in_cities = [8.6, 8.5, 8.3, 7.9, 7.2]\n",
    "x_axis = np.arange(len(bars_in_cities))"
   ]
  },
  {
   "cell_type": "code",
   "execution_count": 67,
   "metadata": {
    "collapsed": false
   },
   "outputs": [
    {
     "data": {
      "text/plain": [
       "<Container object of 5 artists>"
      ]
     },
     "execution_count": 67,
     "metadata": {},
     "output_type": "execute_result"
    }
   ],
   "source": [
    "# Create a bar chart based upon the above data\n",
    "plt.bar(x_axis, bars_in_cities, color=\"b\", align=\"center\")"
   ]
  },
  {
   "cell_type": "code",
   "execution_count": 68,
   "metadata": {
    "collapsed": false
   },
   "outputs": [
    {
     "data": {
      "text/plain": [
       "([<matplotlib.axis.XTick at 0x11bb5bc50>,\n",
       "  <matplotlib.axis.XTick at 0x11af178d0>,\n",
       "  <matplotlib.axis.XTick at 0x11b0ee898>,\n",
       "  <matplotlib.axis.XTick at 0x11aef05c0>,\n",
       "  <matplotlib.axis.XTick at 0x11addac88>],\n",
       " <a list of 5 Text xticklabel objects>)"
      ]
     },
     "execution_count": 68,
     "metadata": {},
     "output_type": "execute_result"
    }
   ],
   "source": [
    "# Create the ticks for our bar chart's x axis\n",
    "#tick_locations = [value for value in x_axis]\n",
    "#plt.xticks(tick_locations, cities)"
   ]
  },
  {
   "cell_type": "code",
   "execution_count": 69,
   "metadata": {
    "collapsed": false
   },
   "outputs": [
    {
     "data": {
      "text/plain": [
       "(-0.75, 4.75)"
      ]
     },
     "execution_count": 69,
     "metadata": {},
     "output_type": "execute_result"
    }
   ],
   "source": [
    "# Set the limits of the x axis\n",
    "#plt.xlim(-0.75, len(x_axis)-0.25)"
   ]
  },
  {
   "cell_type": "code",
   "execution_count": 70,
   "metadata": {
    "collapsed": false
   },
   "outputs": [
    {
     "data": {
      "text/plain": [
       "(0, 9.0)"
      ]
     },
     "execution_count": 70,
     "metadata": {},
     "output_type": "execute_result"
    }
   ],
   "source": [
    "# Set the limits of the y axis\n",
    "#plt.ylim(0, max(bars_in_cities)+0.4)"
   ]
  },
  {
   "cell_type": "code",
   "execution_count": 71,
   "metadata": {
    "collapsed": false
   },
   "outputs": [
    {
     "data": {
      "text/plain": [
       "<matplotlib.text.Text at 0x11afe3da0>"
      ]
     },
     "execution_count": 71,
     "metadata": {},
     "output_type": "execute_result"
    }
   ],
   "source": [
    "# Give the chart a title, x label, and y label\n",
    "#plt.title(\"Density of Bars in Cities\")\n",
    "#plt.xlabel(\"Cities\")\n",
    "#plt.ylabel(\"Bars Per 10,000 Households\")"
   ]
  },
  {
   "cell_type": "code",
   "execution_count": 72,
   "metadata": {
    "collapsed": false
   },
   "outputs": [
    {
     "data": {
      "image/png": "[encoded data removed]",
      "text/plain": [
       "<matplotlib.figure.Figure at 0x11afb25f8>"
      ]
     },
     "metadata": {},
     "output_type": "display_data"
    }
   ],
   "source": [
    "# Save an image of the chart and print it to the screen\n",
    "#plt.savefig(\"Images/BarDensity.png\")\n",
    "#plt.show()"
   ]
  },
  {
   "cell_type": "markdown",
   "metadata": {
    "collapsed": true
   },
   "source": [
    "# Instructor Turn Activity 9: PieCharts¶"
   ]
  },
  {
   "cell_type": "code",
   "execution_count": 1,
   "metadata": {
    "collapsed": true
   },
   "outputs": [],
   "source": [
    "# Import our dependencies\n",
    "import matplotlib.pyplot as plt\n",
    "import numpy as np"
   ]
  },
  {
   "cell_type": "code",
   "execution_count": 2,
   "metadata": {
    "collapsed": true
   },
   "outputs": [],
   "source": [
    "# Labels for the sections of our pie chart\n",
    "labels = [\"Python\", \"C++\", \"Ruby\", \"Java\"]\n",
    "\n",
    "# The values of each section of the pie chart\n",
    "sizes = [185, 172, 100, 110]\n",
    "\n",
    "# The colors of each section of the pie chart\n",
    "colors = [\"yellowgreen\", \"red\", \"lightcoral\", \"lightskyblue\"]\n",
    "\n",
    "# Tells matplotlib to seperate the \"Python\" section from the others\n",
    "explode = (0.1, 0, 0, 0)"
   ]
  },
  {
   "cell_type": "code",
   "execution_count": 3,
   "metadata": {
    "collapsed": false
   },
   "outputs": [
    {
     "data": {
      "text/plain": [
       "([<matplotlib.patches.Wedge at 0x1146682b0>,\n",
       "  <matplotlib.patches.Wedge at 0x114678b70>,\n",
       "  <matplotlib.patches.Wedge at 0x114689470>,\n",
       "  <matplotlib.patches.Wedge at 0x114690d30>],\n",
       " [<matplotlib.text.Text at 0x1146780b8>,\n",
       "  <matplotlib.text.Text at 0x114682978>,\n",
       "  <matplotlib.text.Text at 0x114690278>,\n",
       "  <matplotlib.text.Text at 0x114698b38>],\n",
       " [<matplotlib.text.Text at 0x114678630>,\n",
       "  <matplotlib.text.Text at 0x114682ef0>,\n",
       "  <matplotlib.text.Text at 0x1146907f0>,\n",
       "  <matplotlib.text.Text at 0x1146a10f0>])"
      ]
     },
     "execution_count": 3,
     "metadata": {},
     "output_type": "execute_result"
    }
   ],
   "source": [
    "# Creates the pie chart based upon the values above\n",
    "# Automatically finds the percentages of each part of the pie chart\n",
    "plt.pie(sizes, explode=explode, labels=labels, colors=colors,\n",
    "        autopct=\"%1.1f%%\", shadow=True, startangle=140)"
   ]
  },
  {
   "cell_type": "code",
   "execution_count": 4,
   "metadata": {
    "collapsed": false
   },
   "outputs": [
    {
     "data": {
      "text/plain": [
       "(-1.2152767148996617,\n",
       " 1.1178142447198784,\n",
       " -1.1122745102459437,\n",
       " 1.1203063458701703)"
      ]
     },
     "execution_count": 4,
     "metadata": {},
     "output_type": "execute_result"
    }
   ],
   "source": [
    "# Tells matplotlib that we want a pie chart with equal axes\n",
    "plt.axis(\"equal\")"
   ]
  },
  {
   "cell_type": "code",
   "execution_count": 5,
   "metadata": {
    "collapsed": false
   },
   "outputs": [
    {
     "data": {
      "image/png": "[encoded data removed]",
      "text/plain": [
       "<matplotlib.figure.Figure at 0x111266eb8>"
      ]
     },
     "metadata": {},
     "output_type": "display_data"
    }
   ],
   "source": [
    "# Prints our pie chart to the screen\n",
    "plt.show()"
   ]
  },
  {
   "cell_type": "markdown",
   "metadata": {},
   "source": [
    "# Students Turn Activity 10: PyPies Pie Chart\n",
    "\n",
    "### Instructions\n",
    "\n",
    "  * Using the file provided as a starter, create a pie chart that matches the image provided."
   ]
  },
  {
   "cell_type": "code",
   "execution_count": 23,
   "metadata": {
    "collapsed": true
   },
   "outputs": [],
   "source": [
    "import matplotlib.pyplot as plt\n",
    "import numpy as np"
   ]
  },
  {
   "cell_type": "code",
   "execution_count": 26,
   "metadata": {
    "collapsed": true
   },
   "outputs": [],
   "source": [
    "pies = [\"Apple\", \"Pumpkin\", \"Chocolate Creme\", \"Cherry\", \"Apple Crumb\", \"Pecan\", \"Lemon Meringue\", \"Blueberry\", \"Key Lime\", \"Peach\"]\n",
    "pie_votes = [47,37,32,27,25,24,24,21,18,16]\n",
    "colors = [\"yellow\",\"green\",\"lightblue\",\"orange\",\"red\",\"purple\",\"pink\",\"yellowgreen\",\"lightskyblue\",\"lightcoral\"]\n",
    "explode = (0.1,0,0,0,0,0,0,0,0,0)"
   ]
  },
  {
   "cell_type": "code",
   "execution_count": 27,
   "metadata": {
    "collapsed": false
   },
   "outputs": [
    {
     "data": {
      "text/plain": [
       "([<matplotlib.patches.Wedge at 0x114db19e8>,\n",
       "  <matplotlib.patches.Wedge at 0x114dbf2e8>,\n",
       "  <matplotlib.patches.Wedge at 0x114dc9ba8>,\n",
       "  <matplotlib.patches.Wedge at 0x114dd74a8>,\n",
       "  <matplotlib.patches.Wedge at 0x114dded68>,\n",
       "  <matplotlib.patches.Wedge at 0x114def668>,\n",
       "  <matplotlib.patches.Wedge at 0x114df7f28>,\n",
       "  <matplotlib.patches.Wedge at 0x114e07828>,\n",
       "  <matplotlib.patches.Wedge at 0x114e15128>,\n",
       "  <matplotlib.patches.Wedge at 0x114d62ba8>],\n",
       " [<matplotlib.text.Text at 0x114db87f0>,\n",
       "  <matplotlib.text.Text at 0x114dc90f0>,\n",
       "  <matplotlib.text.Text at 0x114dd19b0>,\n",
       "  <matplotlib.text.Text at 0x114dde2b0>,\n",
       "  <matplotlib.text.Text at 0x114de7b70>,\n",
       "  <matplotlib.text.Text at 0x114df7470>,\n",
       "  <matplotlib.text.Text at 0x114dfdd30>,\n",
       "  <matplotlib.text.Text at 0x114e0d630>,\n",
       "  <matplotlib.text.Text at 0x114d740f0>,\n",
       "  <matplotlib.text.Text at 0x114e15b00>],\n",
       " [<matplotlib.text.Text at 0x114db8d68>,\n",
       "  <matplotlib.text.Text at 0x114dc9668>,\n",
       "  <matplotlib.text.Text at 0x114dd1f28>,\n",
       "  <matplotlib.text.Text at 0x114dde828>,\n",
       "  <matplotlib.text.Text at 0x114def128>,\n",
       "  <matplotlib.text.Text at 0x114df79e8>,\n",
       "  <matplotlib.text.Text at 0x114e072e8>,\n",
       "  <matplotlib.text.Text at 0x114e0dba8>,\n",
       "  <matplotlib.text.Text at 0x11475c438>,\n",
       "  <matplotlib.text.Text at 0x114e200b8>])"
      ]
     },
     "execution_count": 27,
     "metadata": {},
     "output_type": "execute_result"
    }
   ],
   "source": [
    "# Tell matplotlib to create a pie chart based upon the above data\n",
    "#plt.pie(pie_votes, explode=explode, labels=pies, colors=colors,\n",
    "#        autopct=\"%1.1f%%\", shadow=True, startangle=140)"
   ]
  },
  {
   "cell_type": "code",
   "execution_count": 28,
   "metadata": {
    "collapsed": false
   },
   "outputs": [
    {
     "data": {
      "text/plain": [
       "(-1.2209442549752387,\n",
       " 1.1097651258012156,\n",
       " -1.1053281099679459,\n",
       " 1.1037001240581898)"
      ]
     },
     "execution_count": 28,
     "metadata": {},
     "output_type": "execute_result"
    }
   ],
   "source": [
    "# Create axes which are equal so we have a perfect circle\n",
    "#plt.axis(\"equal\")"
   ]
  },
  {
   "cell_type": "code",
   "execution_count": 29,
   "metadata": {
    "collapsed": false
   },
   "outputs": [
    {
     "data": {
      "image/png": "[encoded data removed]",
      "text/plain": [
       "<matplotlib.figure.Figure at 0x1148510b8>"
      ]
     },
     "metadata": {},
     "output_type": "display_data"
    }
   ],
   "source": [
    "# Save an image of our chart and print the final product to the screen\n",
    "#plt.savefig(\"Images/PyPies.png\")\n",
    "#plt.show()"
   ]
  },
  {
   "cell_type": "markdown",
   "metadata": {},
   "source": [
    "# Instructor Turn Activity 11: Scatter Plot"
   ]
  },
  {
   "cell_type": "code",
   "execution_count": 11,
   "metadata": {
    "collapsed": true
   },
   "outputs": [],
   "source": [
    "# Import Dependencies\n",
    "import random\n",
    "import matplotlib.pyplot as plt\n",
    "import numpy as np"
   ]
  },
  {
   "cell_type": "code",
   "execution_count": 12,
   "metadata": {
    "collapsed": true
   },
   "outputs": [],
   "source": [
    "# The maximum x value for our chart will be 100\n",
    "x_limit = 100\n",
    "\n",
    "# List of values from 0 to 100 each value being 1 greater than the last\n",
    "x_axis = np.arange(0, x_limit, 1)\n",
    "\n",
    "# Create a random array of data that we will use for our y values\n",
    "data = [random.random() for value in x_axis]"
   ]
  },
  {
   "cell_type": "code",
   "execution_count": 13,
   "metadata": {
    "collapsed": false
   },
   "outputs": [
    {
     "data": {
      "text/plain": [
       "<matplotlib.collections.PathCollection at 0x11478ba20>"
      ]
     },
     "execution_count": 13,
     "metadata": {},
     "output_type": "execute_result"
    }
   ],
   "source": [
    "# Tells matplotlib that we want to make a scatter plot\n",
    "# The size of each point on our plot is determined by their x value\n",
    "plt.scatter(x_axis, data, marker=\"o\", facecolors=\"red\", edgecolors=\"black\",\n",
    "            s=x_axis, alpha=0.75)"
   ]
  },
  {
   "cell_type": "code",
   "execution_count": 14,
   "metadata": {
    "collapsed": false
   },
   "outputs": [
    {
     "data": {
      "text/plain": [
       "(0, 1)"
      ]
     },
     "execution_count": 14,
     "metadata": {},
     "output_type": "execute_result"
    }
   ],
   "source": [
    "# The y limits of our scatter plot is 0 to 1\n",
    "plt.ylim(0, 1)"
   ]
  },
  {
   "cell_type": "code",
   "execution_count": 15,
   "metadata": {
    "collapsed": false
   },
   "outputs": [
    {
     "data": {
      "text/plain": [
       "(0, 100)"
      ]
     },
     "execution_count": 15,
     "metadata": {},
     "output_type": "execute_result"
    }
   ],
   "source": [
    "# The x limits of our scatter plot is 0 to 100\n",
    "plt.xlim(0, x_limit)"
   ]
  },
  {
   "cell_type": "code",
   "execution_count": 16,
   "metadata": {
    "collapsed": false
   },
   "outputs": [
    {
     "data": {
      "image/png": "[encoded data removed]",
      "text/plain": [
       "<matplotlib.figure.Figure at 0x11131f048>"
      ]
     },
     "metadata": {},
     "output_type": "display_data"
    }
   ],
   "source": [
    "# Prints the scatter plot to the screen# Prints \n",
    "plt.show()"
   ]
  },
  {
   "cell_type": "markdown",
   "metadata": {},
   "source": [
    "# Students Turn Activity 12: Scatter Py\n",
    "\n",
    "### Instructions\n",
    "\n",
    "  * Using the file provided as a starter, create a scatter plot that matches the image provided.\n",
    "\n",
    "  * Create a new list called \"scoop_price\", fill it with values, and then set it so that the size of the dots are set according to those values."
   ]
  },
  {
   "cell_type": "code",
   "execution_count": 17,
   "metadata": {
    "collapsed": true
   },
   "outputs": [],
   "source": [
    "import matplotlib.pyplot as plt\n",
    "import numpy as np"
   ]
  },
  {
   "cell_type": "code",
   "execution_count": 18,
   "metadata": {
    "collapsed": true
   },
   "outputs": [],
   "source": [
    "temp = [14.2, 16.4, 11.9, 15.2, 18.5, 22.1, 19.4, 25.1, 23.4, 18.1, 22.6, 17.2]\n",
    "sales = [215, 325, 185, 332, 406, 522, 412, 614, 544, 421, 445, 408]"
   ]
  },
  {
   "cell_type": "code",
   "execution_count": 19,
   "metadata": {
    "collapsed": false
   },
   "outputs": [
    {
     "data": {
      "text/plain": [
       "<matplotlib.collections.PathCollection at 0x114883588>"
      ]
     },
     "execution_count": 19,
     "metadata": {},
     "output_type": "execute_result"
    }
   ],
   "source": [
    "# Tell matplotlib to create a scatter plot based upon the above data\n",
    "# plt.scatter(temp, sales, marker=\"o\", facecolors=\"red\", edgecolors=\"black\")"
   ]
  },
  {
   "cell_type": "code",
   "execution_count": null,
   "metadata": {
    "collapsed": true
   },
   "outputs": [],
   "source": [
    "# Set the upper and lower limits of our y axis\n",
    "# plt.ylim(180,620)"
   ]
  },
  {
   "cell_type": "code",
   "execution_count": 20,
   "metadata": {
    "collapsed": false
   },
   "outputs": [
    {
     "data": {
      "text/plain": [
       "(11, 26)"
      ]
     },
     "execution_count": 20,
     "metadata": {},
     "output_type": "execute_result"
    }
   ],
   "source": [
    "# Set the upper and lower limits of our x axis\n",
    "# plt.xlim(11,26)"
   ]
  },
  {
   "cell_type": "code",
   "execution_count": 21,
   "metadata": {
    "collapsed": false
   },
   "outputs": [
    {
     "data": {
      "text/plain": [
       "<matplotlib.text.Text at 0x1147d4cf8>"
      ]
     },
     "execution_count": 21,
     "metadata": {},
     "output_type": "execute_result"
    }
   ],
   "source": [
    "# Create a title, x label, and y label for our chart\n",
    "# plt.title(\"Ice Cream Sales v Temperature\")\n",
    "# plt.xlabel(\"Temperature (Celsius)\")\n",
    "# plt.ylabel(\"Sales (Dollars)\")"
   ]
  },
  {
   "cell_type": "code",
   "execution_count": 22,
   "metadata": {
    "collapsed": false
   },
   "outputs": [
    {
     "data": {
      "image/png": "[encoded data removed]",
      "text/plain": [
       "<matplotlib.figure.Figure at 0x11475c550>"
      ]
     },
     "metadata": {},
     "output_type": "display_data"
    }
   ],
   "source": [
    "# Save an image of the chart and print to screen\n",
    "# plt.savefig(\"Images/IceCreamSales.png\")\n",
    "# plt.show()"
   ]
  },
  {
   "cell_type": "markdown",
   "metadata": {},
   "source": [
    "# Students Turn Activity 13: Average Rainfall\n",
    "\n",
    "### Instructions\n",
    "\n",
    "  * Using the resources provided, create a bar graph that matches that of the image provided."
   ]
  },
  {
   "cell_type": "code",
   "execution_count": 9,
   "metadata": {
    "collapsed": true
   },
   "outputs": [],
   "source": [
    "# Dependencies\n",
    "import matplotlib.pyplot as plt\n",
    "import numpy as np\n",
    "import pandas as pd"
   ]
  },
  {
   "cell_type": "code",
   "execution_count": 10,
   "metadata": {
    "collapsed": false
   },
   "outputs": [
    {
     "data": {
      "text/html": [
       "<div>\n",
       "<table border=\"1\" class=\"dataframe\">\n",
       "  <thead>\n",
       "    <tr style=\"text-align: right;\">\n",
       "      <th></th>\n",
       "      <th>State</th>\n",
       "      <th>Inches</th>\n",
       "      <th>Milli­metres</th>\n",
       "      <th>Rank</th>\n",
       "    </tr>\n",
       "  </thead>\n",
       "  <tbody>\n",
       "    <tr>\n",
       "      <th>0</th>\n",
       "      <td>Alabama</td>\n",
       "      <td>58.3</td>\n",
       "      <td>1480</td>\n",
       "      <td>4</td>\n",
       "    </tr>\n",
       "    <tr>\n",
       "      <th>1</th>\n",
       "      <td>Alaska</td>\n",
       "      <td>22.5</td>\n",
       "      <td>572</td>\n",
       "      <td>39</td>\n",
       "    </tr>\n",
       "    <tr>\n",
       "      <th>2</th>\n",
       "      <td>Arizona</td>\n",
       "      <td>13.6</td>\n",
       "      <td>345</td>\n",
       "      <td>47</td>\n",
       "    </tr>\n",
       "    <tr>\n",
       "      <th>3</th>\n",
       "      <td>Arkansas</td>\n",
       "      <td>50.6</td>\n",
       "      <td>1284</td>\n",
       "      <td>8</td>\n",
       "    </tr>\n",
       "    <tr>\n",
       "      <th>4</th>\n",
       "      <td>California</td>\n",
       "      <td>22.2</td>\n",
       "      <td>563</td>\n",
       "      <td>40</td>\n",
       "    </tr>\n",
       "  </tbody>\n",
       "</table>\n",
       "</div>"
      ],
      "text/plain": [
       "        State  Inches  Milli­metres  Rank\n",
       "0     Alabama    58.3          1480     4\n",
       "1      Alaska    22.5           572    39\n",
       "2     Arizona    13.6           345    47\n",
       "3    Arkansas    50.6          1284     8\n",
       "4  California    22.2           563    40"
      ]
     },
     "execution_count": 10,
     "metadata": {},
     "output_type": "execute_result"
    }
   ],
   "source": [
    "# Load in csv\n",
    "#rain_df = pd.read_csv(\"Resources/avg_rain_state.csv\")\n",
    "#rain_df.head()"
   ]
  },
  {
   "cell_type": "code",
   "execution_count": 11,
   "metadata": {
    "collapsed": true
   },
   "outputs": [],
   "source": [
    "# Set x axis and tick locations\n",
    "#x_axis = np.arange(len(rain_df))\n",
    "#tick_locations = [value+0.4 for value in x_axis]"
   ]
  },
  {
   "cell_type": "code",
   "execution_count": 12,
   "metadata": {
    "collapsed": false
   },
   "outputs": [
    {
     "data": {
      "text/plain": [
       "([<matplotlib.axis.XTick at 0x11e058358>,\n",
       "  <matplotlib.axis.XTick at 0x11e052f60>,\n",
       "  <matplotlib.axis.XTick at 0x11e05e4a8>,\n",
       "  <matplotlib.axis.XTick at 0x11e125898>,\n",
       "  <matplotlib.axis.XTick at 0x11e12d2b0>,\n",
       "  <matplotlib.axis.XTick at 0x11e12dc88>,\n",
       "  <matplotlib.axis.XTick at 0x11e1356a0>,\n",
       "  <matplotlib.axis.XTick at 0x11e13b0b8>,\n",
       "  <matplotlib.axis.XTick at 0x11e13ba90>,\n",
       "  <matplotlib.axis.XTick at 0x11e1404a8>,\n",
       "  <matplotlib.axis.XTick at 0x11e140e80>,\n",
       "  <matplotlib.axis.XTick at 0x11e146898>,\n",
       "  <matplotlib.axis.XTick at 0x11e14e2b0>,\n",
       "  <matplotlib.axis.XTick at 0x11e14ec88>,\n",
       "  <matplotlib.axis.XTick at 0x11e1536a0>,\n",
       "  <matplotlib.axis.XTick at 0x11e15b0b8>,\n",
       "  <matplotlib.axis.XTick at 0x11e15ba90>,\n",
       "  <matplotlib.axis.XTick at 0x11e1624a8>,\n",
       "  <matplotlib.axis.XTick at 0x11e162e80>,\n",
       "  <matplotlib.axis.XTick at 0x11e167898>,\n",
       "  <matplotlib.axis.XTick at 0x11e16e2b0>,\n",
       "  <matplotlib.axis.XTick at 0x11e16ec88>,\n",
       "  <matplotlib.axis.XTick at 0x11e1756a0>,\n",
       "  <matplotlib.axis.XTick at 0x11e17b0b8>,\n",
       "  <matplotlib.axis.XTick at 0x11e17ba90>,\n",
       "  <matplotlib.axis.XTick at 0x11e1814a8>,\n",
       "  <matplotlib.axis.XTick at 0x11e181e80>,\n",
       "  <matplotlib.axis.XTick at 0x11e188898>,\n",
       "  <matplotlib.axis.XTick at 0x11e18e2b0>,\n",
       "  <matplotlib.axis.XTick at 0x11e18ec88>,\n",
       "  <matplotlib.axis.XTick at 0x11e1976a0>,\n",
       "  <matplotlib.axis.XTick at 0x11e19c0b8>,\n",
       "  <matplotlib.axis.XTick at 0x11e19ca90>,\n",
       "  <matplotlib.axis.XTick at 0x11e1a34a8>,\n",
       "  <matplotlib.axis.XTick at 0x11e1a3e80>,\n",
       "  <matplotlib.axis.XTick at 0x11e1a7898>,\n",
       "  <matplotlib.axis.XTick at 0x11e1af2b0>,\n",
       "  <matplotlib.axis.XTick at 0x11e1afc88>,\n",
       "  <matplotlib.axis.XTick at 0x11e1b76a0>,\n",
       "  <matplotlib.axis.XTick at 0x11e1bc0b8>,\n",
       "  <matplotlib.axis.XTick at 0x11e1bca90>,\n",
       "  <matplotlib.axis.XTick at 0x11e1c44a8>,\n",
       "  <matplotlib.axis.XTick at 0x11e1c4e80>,\n",
       "  <matplotlib.axis.XTick at 0x11e1c9898>,\n",
       "  <matplotlib.axis.XTick at 0x11e1d02b0>,\n",
       "  <matplotlib.axis.XTick at 0x11e1d0c88>,\n",
       "  <matplotlib.axis.XTick at 0x11e1d96a0>,\n",
       "  <matplotlib.axis.XTick at 0x11e1dc0b8>,\n",
       "  <matplotlib.axis.XTick at 0x11e1dca90>,\n",
       "  <matplotlib.axis.XTick at 0x11e1e34a8>],\n",
       " <a list of 50 Text xticklabel objects>)"
      ]
     },
     "execution_count": 12,
     "metadata": {},
     "output_type": "execute_result"
    }
   ],
   "source": [
    "# Create a list indicating where to write x labels and set figure size to adjust for space\n",
    "#plt.figure(figsize=(20,3))\n",
    "#plt.bar(x_axis, rain_df[\"Inches\"], color='r', alpha=0.5, align=\"edge\")\n",
    "#plt.xticks(tick_locations, rain_df[\"State\"], rotation=\"vertical\")"
   ]
  },
  {
   "cell_type": "code",
   "execution_count": 13,
   "metadata": {
    "collapsed": false
   },
   "outputs": [
    {
     "data": {
      "text/plain": [
       "(0, 73.700000000000003)"
      ]
     },
     "execution_count": 13,
     "metadata": {},
     "output_type": "execute_result"
    }
   ],
   "source": [
    "# Set x and y limits\n",
    "#plt.xlim(-0.25, len(x_axis))\n",
    "#plt.ylim(0, max(rain_df[\"Inches\"])+10)"
   ]
  },
  {
   "cell_type": "code",
   "execution_count": 14,
   "metadata": {
    "collapsed": false
   },
   "outputs": [
    {
     "data": {
      "text/plain": [
       "<matplotlib.text.Text at 0x11e0631d0>"
      ]
     },
     "execution_count": 14,
     "metadata": {},
     "output_type": "execute_result"
    }
   ],
   "source": [
    "# Set a Title and labels\n",
    "#plt.title(\"Average Rain per State\")\n",
    "#plt.xlabel(\"State\")\n",
    "#plt.ylabel(\"Average Amount of Rainfall in Inches\")"
   ]
  },
  {
   "cell_type": "code",
   "execution_count": 15,
   "metadata": {
    "collapsed": false
   },
   "outputs": [
    {
     "data": {
      "text/plain": [
       "<matplotlib.figure.Figure at 0x11d3b8b38>"
      ]
     },
     "metadata": {},
     "output_type": "display_data"
    },
    {
     "data": {
      "image/png": "[encoded data removed]",
      "text/plain": [
       "<matplotlib.figure.Figure at 0x11e051160>"
      ]
     },
     "metadata": {},
     "output_type": "display_data"
    }
   ],
   "source": [
    "# Save our graph and show the grap\n",
    "#plt.tight_layout()\n",
    "#plt.savefig(\"Images/avg_state_rain.png\")\n",
    "#plt.show()"
   ]
  },
  {
   "cell_type": "code",
   "execution_count": null,
   "metadata": {
    "collapsed": true
   },
   "outputs": [],
   "source": []
  }
 ],
 "metadata": {
  "kernelspec": {
   "display_name": "Python 3",
   "language": "python",
   "name": "python3"
  },
  "language_info": {
   "codemirror_mode": {
    "name": "ipython",
    "version": 3
   },
   "file_extension": ".py",
   "mimetype": "text/x-python",
   "name": "python",
   "nbconvert_exporter": "python",
   "pygments_lexer": "ipython3",
   "version": "3.6.0"
  }
 },
 "nbformat": 4,
 "nbformat_minor": 2
}
