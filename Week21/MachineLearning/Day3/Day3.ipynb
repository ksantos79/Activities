{
 "cells": [
  {
   "cell_type": "markdown",
   "metadata": {},
   "source": [
    "# Instructor Turn Activity 1 One-Hot Encoding\n",
    "\n",
    "## Preprocessing Review\n",
    "Why do we **preprocess** data when we build machine learning pipelines?\n",
    "\n",
    "We preprocess data for two principle reasons:\n",
    "\n",
    "1. To transform the data to better suit a model's underlying assumptions.\n",
    "2. To format the data in the way a model expects.\n",
    "\n",
    "Today, we're concerned with this second reason.\n",
    "\n",
    "## Inputs to Neural Networks\n",
    "What does the input to a neural network look like?\n",
    "Inputs to neural networks are **vectors**. Each entry in the vector corresponds to a feature, which the net uses to make predictions.\n",
    "\n",
    "Crucially, these vectors contain can contain only _numerical_ data. They _cannot_ contain string data."
   ]
  },
  {
   "cell_type": "code",
   "execution_count": null,
   "metadata": {},
   "outputs": [],
   "source": [
    "# Good!\n",
    "good_input_row1 = [1.3, 2.2, 5.4, 5.8, 0]\n",
    "good_input_row2 = [1.3, 2.2, 5.4, 5.8, 1]"
   ]
  },
  {
   "cell_type": "code",
   "execution_count": null,
   "metadata": {},
   "outputs": [],
   "source": [
    "# Bad...\n",
    "bad_input_row1 = [1.3, 2.2, 5.4, 5.8, 'dog']\n",
    "bad_input_row2 = [1.3, 2.2, 5.4, 5.8, 'cat']"
   ]
  },
  {
   "cell_type": "markdown",
   "metadata": {},
   "source": [
    "## One-Hot Encoding"
   ]
  },
  {
   "cell_type": "markdown",
   "metadata": {},
   "source": [
    "This poses a problem when we want to train a neural network on categorical data, such as the classic [Iris data set](https://archive.ics.uci.edu/ml/datasets/Iris\n",
    "\n",
    "![](https://upload.wikimedia.org/wikipedia/commons/5/56/Kosaciec_szczecinkowaty_Iris_setosa.jpg)"
   ]
  },
  {
   "cell_type": "code",
   "execution_count": 1,
   "metadata": {},
   "outputs": [],
   "source": [
    "import pandas as pd\n",
    "\n",
    "# Read from: https://archive.ics.uci.edu/ml/machine-learning-databases/iris/iris.names\n",
    "names = ['sepal_length', 'sepal_width', 'petal_length', 'petal_width', 'class']\n",
    "df = pd.read_csv(\n",
    "    'https://archive.ics.uci.edu/ml/machine-learning-databases/iris/iris.data', names=names)"
   ]
  },
  {
   "cell_type": "code",
   "execution_count": 2,
   "metadata": {},
   "outputs": [
    {
     "data": {
      "text/html": [
       "<div>\n",
       "<style scoped>\n",
       "    .dataframe tbody tr th:only-of-type {\n",
       "        vertical-align: middle;\n",
       "    }\n",
       "\n",
       "    .dataframe tbody tr th {\n",
       "        vertical-align: top;\n",
       "    }\n",
       "\n",
       "    .dataframe thead th {\n",
       "        text-align: right;\n",
       "    }\n",
       "</style>\n",
       "<table border=\"1\" class=\"dataframe\">\n",
       "  <thead>\n",
       "    <tr style=\"text-align: right;\">\n",
       "      <th></th>\n",
       "      <th>sepal_length</th>\n",
       "      <th>sepal_width</th>\n",
       "      <th>petal_length</th>\n",
       "      <th>petal_width</th>\n",
       "      <th>class</th>\n",
       "    </tr>\n",
       "  </thead>\n",
       "  <tbody>\n",
       "    <tr>\n",
       "      <th>145</th>\n",
       "      <td>6.7</td>\n",
       "      <td>3.0</td>\n",
       "      <td>5.2</td>\n",
       "      <td>2.3</td>\n",
       "      <td>Iris-virginica</td>\n",
       "    </tr>\n",
       "    <tr>\n",
       "      <th>146</th>\n",
       "      <td>6.3</td>\n",
       "      <td>2.5</td>\n",
       "      <td>5.0</td>\n",
       "      <td>1.9</td>\n",
       "      <td>Iris-virginica</td>\n",
       "    </tr>\n",
       "    <tr>\n",
       "      <th>147</th>\n",
       "      <td>6.5</td>\n",
       "      <td>3.0</td>\n",
       "      <td>5.2</td>\n",
       "      <td>2.0</td>\n",
       "      <td>Iris-virginica</td>\n",
       "    </tr>\n",
       "    <tr>\n",
       "      <th>148</th>\n",
       "      <td>6.2</td>\n",
       "      <td>3.4</td>\n",
       "      <td>5.4</td>\n",
       "      <td>2.3</td>\n",
       "      <td>Iris-virginica</td>\n",
       "    </tr>\n",
       "    <tr>\n",
       "      <th>149</th>\n",
       "      <td>5.9</td>\n",
       "      <td>3.0</td>\n",
       "      <td>5.1</td>\n",
       "      <td>1.8</td>\n",
       "      <td>Iris-virginica</td>\n",
       "    </tr>\n",
       "  </tbody>\n",
       "</table>\n",
       "</div>"
      ],
      "text/plain": [
       "     sepal_length  sepal_width  petal_length  petal_width           class\n",
       "145           6.7          3.0           5.2          2.3  Iris-virginica\n",
       "146           6.3          2.5           5.0          1.9  Iris-virginica\n",
       "147           6.5          3.0           5.2          2.0  Iris-virginica\n",
       "148           6.2          3.4           5.4          2.3  Iris-virginica\n",
       "149           5.9          3.0           5.1          1.8  Iris-virginica"
      ]
     },
     "execution_count": 2,
     "metadata": {},
     "output_type": "execute_result"
    }
   ],
   "source": [
    "# Note the entries `iris-virginica`\n",
    "df.tail(5)"
   ]
  },
  {
   "cell_type": "markdown",
   "metadata": {},
   "source": [
    "Note that all of our data is numerical..._Except_ for the data in that `class` column, which contains strings.\n",
    "\n",
    "The `class` column will contain one of three values:\n",
    "\n",
    "1. `iris-setosa`\n",
    "2. `iris-versicolour`\n",
    "3. `iris-virginica`\n",
    "\n",
    "As these are not numerical values, we can't use them to fit our nnet. To fix this, we must convert each class label to a numerical value."
   ]
  },
  {
   "cell_type": "markdown",
   "metadata": {},
   "source": [
    "We do this via the following steps:\n",
    "\n",
    "1. **Label Encoding**. First, we convert the three possible classes to integer labels. E.g., `iris-setosa` will be `1`; `iris-versicolour`, `2`; and `iris-virginica`, `3`.\n",
    "2. **One-Hot Encoding**. Then, we set each row's `class` value to an _array_. This array will have a `1` in whichever slot corresponds to the integer label. E.g., after one-hot encoding, a row with the class `iris-setosa` will have the array `[1, 0, 0]`. A row with class `iris-virginica`, the array `[0, 0, 1]`; etc.\n",
    "\n",
    "In many cases, categories in the data sets you work with will already be label-encoded. In this case, you can apply one-hot encoding immediately."
   ]
  },
  {
   "cell_type": "markdown",
   "metadata": {},
   "source": [
    "## Applying One-Hot Encoding"
   ]
  },
  {
   "cell_type": "code",
   "execution_count": 3,
   "metadata": {},
   "outputs": [],
   "source": [
    "# Step 0: Reformat data\n",
    "data = df.values\n",
    "X = data[:, 0:4]\n",
    "y = data[:, 4]"
   ]
  },
  {
   "cell_type": "code",
   "execution_count": 4,
   "metadata": {},
   "outputs": [],
   "source": [
    "from sklearn.preprocessing import LabelEncoder\n",
    "\n",
    "# Step 1: Label-encode data set\n",
    "label_encoder = LabelEncoder()\n",
    "label_encoder.fit(y)\n",
    "encoded_y = label_encoder.transform(y)"
   ]
  },
  {
   "cell_type": "code",
   "execution_count": 5,
   "metadata": {},
   "outputs": [
    {
     "name": "stdout",
     "output_type": "stream",
     "text": [
      "Original Class: Iris-setosa\n",
      "Encoded Label: 0\n",
      "------------\n",
      "Original Class: Iris-setosa\n",
      "Encoded Label: 0\n",
      "------------\n",
      "Original Class: Iris-setosa\n",
      "Encoded Label: 0\n",
      "------------\n",
      "Original Class: Iris-setosa\n",
      "Encoded Label: 0\n",
      "------------\n",
      "Original Class: Iris-setosa\n",
      "Encoded Label: 0\n",
      "------------\n",
      "Original Class: Iris-setosa\n",
      "Encoded Label: 0\n",
      "------------\n",
      "Original Class: Iris-setosa\n",
      "Encoded Label: 0\n",
      "------------\n",
      "Original Class: Iris-setosa\n",
      "Encoded Label: 0\n",
      "------------\n",
      "Original Class: Iris-setosa\n",
      "Encoded Label: 0\n",
      "------------\n",
      "Original Class: Iris-setosa\n",
      "Encoded Label: 0\n",
      "------------\n",
      "Original Class: Iris-setosa\n",
      "Encoded Label: 0\n",
      "------------\n",
      "Original Class: Iris-setosa\n",
      "Encoded Label: 0\n",
      "------------\n",
      "Original Class: Iris-setosa\n",
      "Encoded Label: 0\n",
      "------------\n",
      "Original Class: Iris-setosa\n",
      "Encoded Label: 0\n",
      "------------\n",
      "Original Class: Iris-setosa\n",
      "Encoded Label: 0\n",
      "------------\n",
      "Original Class: Iris-setosa\n",
      "Encoded Label: 0\n",
      "------------\n",
      "Original Class: Iris-setosa\n",
      "Encoded Label: 0\n",
      "------------\n",
      "Original Class: Iris-setosa\n",
      "Encoded Label: 0\n",
      "------------\n",
      "Original Class: Iris-setosa\n",
      "Encoded Label: 0\n",
      "------------\n",
      "Original Class: Iris-setosa\n",
      "Encoded Label: 0\n",
      "------------\n",
      "Original Class: Iris-setosa\n",
      "Encoded Label: 0\n",
      "------------\n",
      "Original Class: Iris-setosa\n",
      "Encoded Label: 0\n",
      "------------\n",
      "Original Class: Iris-setosa\n",
      "Encoded Label: 0\n",
      "------------\n",
      "Original Class: Iris-setosa\n",
      "Encoded Label: 0\n",
      "------------\n",
      "Original Class: Iris-setosa\n",
      "Encoded Label: 0\n",
      "------------\n",
      "Original Class: Iris-setosa\n",
      "Encoded Label: 0\n",
      "------------\n",
      "Original Class: Iris-setosa\n",
      "Encoded Label: 0\n",
      "------------\n",
      "Original Class: Iris-setosa\n",
      "Encoded Label: 0\n",
      "------------\n",
      "Original Class: Iris-setosa\n",
      "Encoded Label: 0\n",
      "------------\n",
      "Original Class: Iris-setosa\n",
      "Encoded Label: 0\n",
      "------------\n",
      "Original Class: Iris-setosa\n",
      "Encoded Label: 0\n",
      "------------\n",
      "Original Class: Iris-setosa\n",
      "Encoded Label: 0\n",
      "------------\n",
      "Original Class: Iris-setosa\n",
      "Encoded Label: 0\n",
      "------------\n",
      "Original Class: Iris-setosa\n",
      "Encoded Label: 0\n",
      "------------\n",
      "Original Class: Iris-setosa\n",
      "Encoded Label: 0\n",
      "------------\n",
      "Original Class: Iris-setosa\n",
      "Encoded Label: 0\n",
      "------------\n",
      "Original Class: Iris-setosa\n",
      "Encoded Label: 0\n",
      "------------\n",
      "Original Class: Iris-setosa\n",
      "Encoded Label: 0\n",
      "------------\n",
      "Original Class: Iris-setosa\n",
      "Encoded Label: 0\n",
      "------------\n",
      "Original Class: Iris-setosa\n",
      "Encoded Label: 0\n",
      "------------\n",
      "Original Class: Iris-setosa\n",
      "Encoded Label: 0\n",
      "------------\n",
      "Original Class: Iris-setosa\n",
      "Encoded Label: 0\n",
      "------------\n",
      "Original Class: Iris-setosa\n",
      "Encoded Label: 0\n",
      "------------\n",
      "Original Class: Iris-setosa\n",
      "Encoded Label: 0\n",
      "------------\n",
      "Original Class: Iris-setosa\n",
      "Encoded Label: 0\n",
      "------------\n",
      "Original Class: Iris-setosa\n",
      "Encoded Label: 0\n",
      "------------\n",
      "Original Class: Iris-setosa\n",
      "Encoded Label: 0\n",
      "------------\n",
      "Original Class: Iris-setosa\n",
      "Encoded Label: 0\n",
      "------------\n",
      "Original Class: Iris-setosa\n",
      "Encoded Label: 0\n",
      "------------\n",
      "Original Class: Iris-setosa\n",
      "Encoded Label: 0\n",
      "------------\n",
      "Original Class: Iris-versicolor\n",
      "Encoded Label: 1\n",
      "------------\n",
      "Original Class: Iris-versicolor\n",
      "Encoded Label: 1\n",
      "------------\n",
      "Original Class: Iris-versicolor\n",
      "Encoded Label: 1\n",
      "------------\n",
      "Original Class: Iris-versicolor\n",
      "Encoded Label: 1\n",
      "------------\n",
      "Original Class: Iris-versicolor\n",
      "Encoded Label: 1\n",
      "------------\n",
      "Original Class: Iris-versicolor\n",
      "Encoded Label: 1\n",
      "------------\n",
      "Original Class: Iris-versicolor\n",
      "Encoded Label: 1\n",
      "------------\n",
      "Original Class: Iris-versicolor\n",
      "Encoded Label: 1\n",
      "------------\n",
      "Original Class: Iris-versicolor\n",
      "Encoded Label: 1\n",
      "------------\n",
      "Original Class: Iris-versicolor\n",
      "Encoded Label: 1\n",
      "------------\n",
      "Original Class: Iris-versicolor\n",
      "Encoded Label: 1\n",
      "------------\n",
      "Original Class: Iris-versicolor\n",
      "Encoded Label: 1\n",
      "------------\n",
      "Original Class: Iris-versicolor\n",
      "Encoded Label: 1\n",
      "------------\n",
      "Original Class: Iris-versicolor\n",
      "Encoded Label: 1\n",
      "------------\n",
      "Original Class: Iris-versicolor\n",
      "Encoded Label: 1\n",
      "------------\n",
      "Original Class: Iris-versicolor\n",
      "Encoded Label: 1\n",
      "------------\n",
      "Original Class: Iris-versicolor\n",
      "Encoded Label: 1\n",
      "------------\n",
      "Original Class: Iris-versicolor\n",
      "Encoded Label: 1\n",
      "------------\n",
      "Original Class: Iris-versicolor\n",
      "Encoded Label: 1\n",
      "------------\n",
      "Original Class: Iris-versicolor\n",
      "Encoded Label: 1\n",
      "------------\n",
      "Original Class: Iris-versicolor\n",
      "Encoded Label: 1\n",
      "------------\n",
      "Original Class: Iris-versicolor\n",
      "Encoded Label: 1\n",
      "------------\n",
      "Original Class: Iris-versicolor\n",
      "Encoded Label: 1\n",
      "------------\n",
      "Original Class: Iris-versicolor\n",
      "Encoded Label: 1\n",
      "------------\n",
      "Original Class: Iris-versicolor\n",
      "Encoded Label: 1\n",
      "------------\n",
      "Original Class: Iris-versicolor\n",
      "Encoded Label: 1\n",
      "------------\n",
      "Original Class: Iris-versicolor\n",
      "Encoded Label: 1\n",
      "------------\n",
      "Original Class: Iris-versicolor\n",
      "Encoded Label: 1\n",
      "------------\n",
      "Original Class: Iris-versicolor\n",
      "Encoded Label: 1\n",
      "------------\n",
      "Original Class: Iris-versicolor\n",
      "Encoded Label: 1\n",
      "------------\n",
      "Original Class: Iris-versicolor\n",
      "Encoded Label: 1\n",
      "------------\n",
      "Original Class: Iris-versicolor\n",
      "Encoded Label: 1\n",
      "------------\n",
      "Original Class: Iris-versicolor\n",
      "Encoded Label: 1\n",
      "------------\n",
      "Original Class: Iris-versicolor\n",
      "Encoded Label: 1\n",
      "------------\n",
      "Original Class: Iris-versicolor\n",
      "Encoded Label: 1\n",
      "------------\n",
      "Original Class: Iris-versicolor\n",
      "Encoded Label: 1\n",
      "------------\n",
      "Original Class: Iris-versicolor\n",
      "Encoded Label: 1\n",
      "------------\n",
      "Original Class: Iris-versicolor\n",
      "Encoded Label: 1\n",
      "------------\n",
      "Original Class: Iris-versicolor\n",
      "Encoded Label: 1\n",
      "------------\n",
      "Original Class: Iris-versicolor\n",
      "Encoded Label: 1\n",
      "------------\n",
      "Original Class: Iris-versicolor\n",
      "Encoded Label: 1\n",
      "------------\n",
      "Original Class: Iris-versicolor\n",
      "Encoded Label: 1\n",
      "------------\n",
      "Original Class: Iris-versicolor\n",
      "Encoded Label: 1\n",
      "------------\n",
      "Original Class: Iris-versicolor\n",
      "Encoded Label: 1\n",
      "------------\n",
      "Original Class: Iris-versicolor\n",
      "Encoded Label: 1\n",
      "------------\n",
      "Original Class: Iris-versicolor\n",
      "Encoded Label: 1\n",
      "------------\n",
      "Original Class: Iris-versicolor\n",
      "Encoded Label: 1\n",
      "------------\n",
      "Original Class: Iris-versicolor\n",
      "Encoded Label: 1\n",
      "------------\n",
      "Original Class: Iris-versicolor\n",
      "Encoded Label: 1\n",
      "------------\n",
      "Original Class: Iris-versicolor\n",
      "Encoded Label: 1\n",
      "------------\n",
      "Original Class: Iris-virginica\n",
      "Encoded Label: 2\n",
      "------------\n",
      "Original Class: Iris-virginica\n",
      "Encoded Label: 2\n",
      "------------\n",
      "Original Class: Iris-virginica\n",
      "Encoded Label: 2\n",
      "------------\n",
      "Original Class: Iris-virginica\n",
      "Encoded Label: 2\n",
      "------------\n",
      "Original Class: Iris-virginica\n",
      "Encoded Label: 2\n",
      "------------\n",
      "Original Class: Iris-virginica\n",
      "Encoded Label: 2\n",
      "------------\n",
      "Original Class: Iris-virginica\n",
      "Encoded Label: 2\n",
      "------------\n",
      "Original Class: Iris-virginica\n",
      "Encoded Label: 2\n",
      "------------\n",
      "Original Class: Iris-virginica\n",
      "Encoded Label: 2\n",
      "------------\n",
      "Original Class: Iris-virginica\n",
      "Encoded Label: 2\n",
      "------------\n",
      "Original Class: Iris-virginica\n",
      "Encoded Label: 2\n",
      "------------\n",
      "Original Class: Iris-virginica\n",
      "Encoded Label: 2\n",
      "------------\n",
      "Original Class: Iris-virginica\n",
      "Encoded Label: 2\n",
      "------------\n",
      "Original Class: Iris-virginica\n",
      "Encoded Label: 2\n",
      "------------\n",
      "Original Class: Iris-virginica\n",
      "Encoded Label: 2\n",
      "------------\n",
      "Original Class: Iris-virginica\n",
      "Encoded Label: 2\n",
      "------------\n",
      "Original Class: Iris-virginica\n",
      "Encoded Label: 2\n",
      "------------\n",
      "Original Class: Iris-virginica\n",
      "Encoded Label: 2\n",
      "------------\n",
      "Original Class: Iris-virginica\n",
      "Encoded Label: 2\n",
      "------------\n",
      "Original Class: Iris-virginica\n",
      "Encoded Label: 2\n",
      "------------\n",
      "Original Class: Iris-virginica\n",
      "Encoded Label: 2\n",
      "------------\n",
      "Original Class: Iris-virginica\n",
      "Encoded Label: 2\n",
      "------------\n",
      "Original Class: Iris-virginica\n",
      "Encoded Label: 2\n",
      "------------\n",
      "Original Class: Iris-virginica\n",
      "Encoded Label: 2\n",
      "------------\n",
      "Original Class: Iris-virginica\n",
      "Encoded Label: 2\n",
      "------------\n",
      "Original Class: Iris-virginica\n",
      "Encoded Label: 2\n",
      "------------\n",
      "Original Class: Iris-virginica\n",
      "Encoded Label: 2\n",
      "------------\n",
      "Original Class: Iris-virginica\n",
      "Encoded Label: 2\n",
      "------------\n",
      "Original Class: Iris-virginica\n",
      "Encoded Label: 2\n",
      "------------\n",
      "Original Class: Iris-virginica\n",
      "Encoded Label: 2\n",
      "------------\n",
      "Original Class: Iris-virginica\n",
      "Encoded Label: 2\n",
      "------------\n",
      "Original Class: Iris-virginica\n",
      "Encoded Label: 2\n",
      "------------\n",
      "Original Class: Iris-virginica\n",
      "Encoded Label: 2\n",
      "------------\n",
      "Original Class: Iris-virginica\n",
      "Encoded Label: 2\n",
      "------------\n",
      "Original Class: Iris-virginica\n",
      "Encoded Label: 2\n",
      "------------\n",
      "Original Class: Iris-virginica\n",
      "Encoded Label: 2\n",
      "------------\n",
      "Original Class: Iris-virginica\n",
      "Encoded Label: 2\n",
      "------------\n",
      "Original Class: Iris-virginica\n",
      "Encoded Label: 2\n",
      "------------\n",
      "Original Class: Iris-virginica\n",
      "Encoded Label: 2\n",
      "------------\n",
      "Original Class: Iris-virginica\n",
      "Encoded Label: 2\n",
      "------------\n",
      "Original Class: Iris-virginica\n",
      "Encoded Label: 2\n",
      "------------\n",
      "Original Class: Iris-virginica\n",
      "Encoded Label: 2\n",
      "------------\n",
      "Original Class: Iris-virginica\n",
      "Encoded Label: 2\n",
      "------------\n",
      "Original Class: Iris-virginica\n",
      "Encoded Label: 2\n",
      "------------\n",
      "Original Class: Iris-virginica\n",
      "Encoded Label: 2\n",
      "------------\n",
      "Original Class: Iris-virginica\n",
      "Encoded Label: 2\n",
      "------------\n",
      "Original Class: Iris-virginica\n",
      "Encoded Label: 2\n",
      "------------\n",
      "Original Class: Iris-virginica\n",
      "Encoded Label: 2\n",
      "------------\n",
      "Original Class: Iris-virginica\n",
      "Encoded Label: 2\n",
      "------------\n",
      "Original Class: Iris-virginica\n",
      "Encoded Label: 2\n",
      "------------\n"
     ]
    }
   ],
   "source": [
    "for label, original_class in zip(encoded_y, y):\n",
    "    print('Original Class: ' + str(original_class))\n",
    "    print('Encoded Label: ' + str(label))\n",
    "    print('-' * 12)"
   ]
  },
  {
   "cell_type": "code",
   "execution_count": 6,
   "metadata": {},
   "outputs": [
    {
     "ename": "SyntaxError",
     "evalue": "invalid syntax (<ipython-input-6-e7fd274ade36>, line 1)",
     "output_type": "error",
     "traceback": [
      "\u001b[1;36m  File \u001b[1;32m\"<ipython-input-6-e7fd274ade36>\"\u001b[1;36m, line \u001b[1;32m1\u001b[0m\n\u001b[1;33m    Note that each of the original labels has been replaced with an integer.\u001b[0m\n\u001b[1;37m            ^\u001b[0m\n\u001b[1;31mSyntaxError\u001b[0m\u001b[1;31m:\u001b[0m invalid syntax\n"
     ]
    }
   ],
   "source": [
    "Note that each of the original labels has been replaced with an integer."
   ]
  },
  {
   "cell_type": "code",
   "execution_count": null,
   "metadata": {},
   "outputs": [],
   "source": [
    "from keras.utils import to_categorical\n",
    "\n",
    "# Step 2: One-hot encoding\n",
    "one_hot_y = to_categorical(encoded_y)\n",
    "one_hot_y"
   ]
  },
  {
   "cell_type": "markdown",
   "metadata": {},
   "source": [
    "# Everyone Activity 2 Neural Networks with Keras"
   ]
  },
  {
   "cell_type": "code",
   "execution_count": null,
   "metadata": {},
   "outputs": [],
   "source": [
    "!pip install keras\n",
    "!pip install tensorflow"
   ]
  },
  {
   "cell_type": "code",
   "execution_count": null,
   "metadata": {},
   "outputs": [],
   "source": [
    "# Generate some fake data with 3 features\n",
    "\n",
    "from sklearn.datasets import make_classification\n",
    "\n",
    "X, y = make_classification(n_features=3, n_redundant=0, n_informative=3,\n",
    "                           random_state=42, n_classes=2, n_clusters_per_class=1)\n",
    "\n",
    "y = y.reshape(-1, 1)\n",
    "\n",
    "print(X.shape)\n",
    "print(y.shape)"
   ]
  },
  {
   "cell_type": "markdown",
   "metadata": {},
   "source": [
    "Use train_test_split to create training and testing data"
   ]
  },
  {
   "cell_type": "code",
   "execution_count": null,
   "metadata": {},
   "outputs": [],
   "source": [
    "from sklearn.model_selection import train_test_split\n",
    "\n",
    "X_train, X_test, y_train, y_test = train_test_split(X, y, random_state=1)"
   ]
  },
  {
   "cell_type": "markdown",
   "metadata": {},
   "source": [
    "## Data Preprocessing\n",
    "\n",
    "It is really important to scale our data before using multilayer perceptron models. \n",
    "\n",
    "Without scaling, it is often difficult for the training cycle to converge"
   ]
  },
  {
   "cell_type": "code",
   "execution_count": null,
   "metadata": {},
   "outputs": [],
   "source": [
    "from sklearn.preprocessing import StandardScaler\n",
    "\n",
    "X_scaler = StandardScaler().fit(X_train)"
   ]
  },
  {
   "cell_type": "markdown",
   "metadata": {},
   "source": [
    "Remember to scale both the training and testing data"
   ]
  },
  {
   "cell_type": "code",
   "execution_count": null,
   "metadata": {},
   "outputs": [],
   "source": [
    "X_train_scaled = X_scaler.transform(X_train)\n",
    "X_test_scaled = X_scaler.transform(X_test)"
   ]
  },
  {
   "cell_type": "markdown",
   "metadata": {},
   "source": [
    "One-hot encode the labels"
   ]
  },
  {
   "cell_type": "code",
   "execution_count": null,
   "metadata": {},
   "outputs": [],
   "source": [
    "from keras.utils import to_categorical\n",
    "\n",
    "# One-hot encoding\n",
    "y_train_categorical = to_categorical(y_train)\n",
    "y_test_categorical = to_categorical(y_test)\n",
    "y_train_categorical"
   ]
  },
  {
   "cell_type": "markdown",
   "metadata": {},
   "source": [
    "## Creating our Model\n",
    "\n",
    "We must first decide what kind of model to apply to our data. \n",
    "\n",
    "For numerical data, we use a regressor model. \n",
    "\n",
    "For categorical data, we use a classifier model. \n",
    "\n",
    "In this example, we will use a classifier to build the following network:"
   ]
  },
  {
   "cell_type": "markdown",
   "metadata": {},
   "source": [
    "![nnet.png](Images/nnet.png)"
   ]
  },
  {
   "cell_type": "markdown",
   "metadata": {},
   "source": [
    "## Defining our Model Architecture (the layers)\n",
    "\n",
    "We first need to create a sequential model"
   ]
  },
  {
   "cell_type": "code",
   "execution_count": null,
   "metadata": {},
   "outputs": [],
   "source": [
    "from keras.models import Sequential\n",
    "\n",
    "model = Sequential()"
   ]
  },
  {
   "cell_type": "markdown",
   "metadata": {},
   "source": [
    "Next, we add our first layer. This layer requires you to specify both the number of inputs and the number of nodes that you want in the hidden layer."
   ]
  },
  {
   "cell_type": "code",
   "execution_count": null,
   "metadata": {},
   "outputs": [],
   "source": [
    "from keras.layers import Dense\n",
    "number_inputs = 3\n",
    "number_hidden_nodes = 4\n",
    "model.add(Dense(units=number_hidden_nodes,\n",
    "                activation='relu', input_dim=number_inputs))"
   ]
  },
  {
   "cell_type": "markdown",
   "metadata": {},
   "source": [
    "![first_layer](Images/nnet_first_layer.png)"
   ]
  },
  {
   "cell_type": "markdown",
   "metadata": {},
   "source": [
    "Our final layer is the output layer. Here, we need to specify the activation function (typically `softmax` for classification) and the number of classes (labels) that we are trying to predict (2 in this example)."
   ]
  },
  {
   "cell_type": "code",
   "execution_count": 2,
   "metadata": {},
   "outputs": [
    {
     "ename": "NameError",
     "evalue": "name 'model' is not defined",
     "output_type": "error",
     "traceback": [
      "\u001b[1;31m---------------------------------------------------------------------------\u001b[0m",
      "\u001b[1;31mNameError\u001b[0m                                 Traceback (most recent call last)",
      "\u001b[1;32m<ipython-input-2-f58883cd8a1e>\u001b[0m in \u001b[0;36m<module>\u001b[1;34m()\u001b[0m\n\u001b[0;32m      1\u001b[0m \u001b[0mnumber_classes\u001b[0m \u001b[1;33m=\u001b[0m \u001b[1;36m2\u001b[0m\u001b[1;33m\u001b[0m\u001b[0m\n\u001b[1;32m----> 2\u001b[1;33m \u001b[0mmodel\u001b[0m\u001b[1;33m.\u001b[0m\u001b[0madd\u001b[0m\u001b[1;33m(\u001b[0m\u001b[0mDense\u001b[0m\u001b[1;33m(\u001b[0m\u001b[0munits\u001b[0m\u001b[1;33m=\u001b[0m\u001b[0mnumber_classes\u001b[0m\u001b[1;33m,\u001b[0m \u001b[0mactivation\u001b[0m\u001b[1;33m=\u001b[0m\u001b[1;34m'softmax'\u001b[0m\u001b[1;33m)\u001b[0m\u001b[1;33m)\u001b[0m\u001b[1;33m\u001b[0m\u001b[0m\n\u001b[0m",
      "\u001b[1;31mNameError\u001b[0m: name 'model' is not defined"
     ]
    }
   ],
   "source": [
    "number_classes = 2\n",
    "model.add(Dense(units=number_classes, activation='softmax'))"
   ]
  },
  {
   "cell_type": "markdown",
   "metadata": {},
   "source": [
    "![output_layer](Images/nnet_output_layer.png)"
   ]
  },
  {
   "cell_type": "code",
   "execution_count": 3,
   "metadata": {},
   "outputs": [],
   "source": [
    "## Model Summary"
   ]
  },
  {
   "cell_type": "code",
   "execution_count": 4,
   "metadata": {},
   "outputs": [
    {
     "ename": "NameError",
     "evalue": "name 'model' is not defined",
     "output_type": "error",
     "traceback": [
      "\u001b[1;31m---------------------------------------------------------------------------\u001b[0m",
      "\u001b[1;31mNameError\u001b[0m                                 Traceback (most recent call last)",
      "\u001b[1;32m<ipython-input-4-5f15418b3570>\u001b[0m in \u001b[0;36m<module>\u001b[1;34m()\u001b[0m\n\u001b[1;32m----> 1\u001b[1;33m \u001b[0mmodel\u001b[0m\u001b[1;33m.\u001b[0m\u001b[0msummary\u001b[0m\u001b[1;33m(\u001b[0m\u001b[1;33m)\u001b[0m\u001b[1;33m\u001b[0m\u001b[0m\n\u001b[0m",
      "\u001b[1;31mNameError\u001b[0m: name 'model' is not defined"
     ]
    }
   ],
   "source": [
    "model.summary()"
   ]
  },
  {
   "cell_type": "markdown",
   "metadata": {},
   "source": [
    "## Compile the Model\n",
    "\n",
    "Now that we have our model architecture defined, we must compile the model using a loss function and optimizer. We can also specify additional training metrics such as accuracy."
   ]
  },
  {
   "cell_type": "code",
   "execution_count": 5,
   "metadata": {},
   "outputs": [
    {
     "ename": "NameError",
     "evalue": "name 'model' is not defined",
     "output_type": "error",
     "traceback": [
      "\u001b[1;31m---------------------------------------------------------------------------\u001b[0m",
      "\u001b[1;31mNameError\u001b[0m                                 Traceback (most recent call last)",
      "\u001b[1;32m<ipython-input-5-1a56dc032387>\u001b[0m in \u001b[0;36m<module>\u001b[1;34m()\u001b[0m\n\u001b[0;32m      2\u001b[0m \u001b[1;31m# Hint: your output layer in this example is using software for logistic regression (categorical)\u001b[0m\u001b[1;33m\u001b[0m\u001b[1;33m\u001b[0m\u001b[0m\n\u001b[0;32m      3\u001b[0m \u001b[1;31m# If your output layer activation was `linear` then you may want to use `mse` for loss\u001b[0m\u001b[1;33m\u001b[0m\u001b[1;33m\u001b[0m\u001b[0m\n\u001b[1;32m----> 4\u001b[1;33m model.compile(optimizer='adam',\n\u001b[0m\u001b[0;32m      5\u001b[0m               \u001b[0mloss\u001b[0m\u001b[1;33m=\u001b[0m\u001b[1;34m'categorical_crossentropy'\u001b[0m\u001b[1;33m,\u001b[0m\u001b[1;33m\u001b[0m\u001b[0m\n\u001b[0;32m      6\u001b[0m               metrics=['accuracy'])\n",
      "\u001b[1;31mNameError\u001b[0m: name 'model' is not defined"
     ]
    }
   ],
   "source": [
    "# Use categorical crossentropy for categorical data and mean squared error for regression\n",
    "# Hint: your output layer in this example is using software for logistic regression (categorical)\n",
    "# If your output layer activation was `linear` then you may want to use `mse` for loss\n",
    "model.compile(optimizer='adam',\n",
    "              loss='categorical_crossentropy',\n",
    "              metrics=['accuracy'])"
   ]
  },
  {
   "cell_type": "markdown",
   "metadata": {},
   "source": [
    "## Training the Model\n",
    "Finally, we train our model using our training data"
   ]
  },
  {
   "cell_type": "markdown",
   "metadata": {},
   "source": [
    "Training consists of updating our weights using our optimizer and loss function. In this example, we choose 1000 iterations (loops) of training that are called epochs.\n",
    "\n",
    "We also choose to shuffle our training data and increase the detail printed out during each training cycle."
   ]
  },
  {
   "cell_type": "code",
   "execution_count": 11,
   "metadata": {},
   "outputs": [
    {
     "ename": "NameError",
     "evalue": "name 'model' is not defined",
     "output_type": "error",
     "traceback": [
      "\u001b[1;31m---------------------------------------------------------------------------\u001b[0m",
      "\u001b[1;31mNameError\u001b[0m                                 Traceback (most recent call last)",
      "\u001b[1;32m<ipython-input-11-93c041927e66>\u001b[0m in \u001b[0;36m<module>\u001b[1;34m()\u001b[0m\n\u001b[0;32m      1\u001b[0m \u001b[1;31m# Fit (train) the model\u001b[0m\u001b[1;33m\u001b[0m\u001b[1;33m\u001b[0m\u001b[0m\n\u001b[1;32m----> 2\u001b[1;33m model.fit(\n\u001b[0m\u001b[0;32m      3\u001b[0m     \u001b[0mX_train_scaled\u001b[0m\u001b[1;33m,\u001b[0m\u001b[1;33m\u001b[0m\u001b[0m\n\u001b[0;32m      4\u001b[0m     \u001b[0my_train_categorical\u001b[0m\u001b[1;33m,\u001b[0m\u001b[1;33m\u001b[0m\u001b[0m\n\u001b[0;32m      5\u001b[0m     \u001b[0mepochs\u001b[0m\u001b[1;33m=\u001b[0m\u001b[1;36m1000\u001b[0m\u001b[1;33m,\u001b[0m\u001b[1;33m\u001b[0m\u001b[0m\n",
      "\u001b[1;31mNameError\u001b[0m: name 'model' is not defined"
     ]
    }
   ],
   "source": [
    "# Fit (train) the model\n",
    "model.fit(\n",
    "    X_train_scaled,\n",
    "    y_train_categorical,\n",
    "    epochs=1000,\n",
    "    shuffle=True,\n",
    "    verbose=2\n",
    ")"
   ]
  },
  {
   "cell_type": "markdown",
   "metadata": {},
   "source": [
    "## Quantifying the Model\n",
    "We use our testing data to validate our model. This is how we determine the validity of our model (i.e. the ability to predict new and previously unseen data points)"
   ]
  },
  {
   "cell_type": "code",
   "execution_count": 10,
   "metadata": {},
   "outputs": [
    {
     "ename": "NameError",
     "evalue": "name 'model' is not defined",
     "output_type": "error",
     "traceback": [
      "\u001b[1;31m---------------------------------------------------------------------------\u001b[0m",
      "\u001b[1;31mNameError\u001b[0m                                 Traceback (most recent call last)",
      "\u001b[1;32m<ipython-input-10-653245938db1>\u001b[0m in \u001b[0;36m<module>\u001b[1;34m()\u001b[0m\n\u001b[0;32m      1\u001b[0m \u001b[1;31m# Evaluate the model using the testing data\u001b[0m\u001b[1;33m\u001b[0m\u001b[1;33m\u001b[0m\u001b[0m\n\u001b[1;32m----> 2\u001b[1;33m model_loss, model_accuracy = model.evaluate(\n\u001b[0m\u001b[0;32m      3\u001b[0m     X_test_scaled, y_test_categorical, verbose=2)\n\u001b[0;32m      4\u001b[0m \u001b[0mprint\u001b[0m\u001b[1;33m(\u001b[0m\u001b[1;34mf\"Loss: {model_loss}, Accuracy: {model_accuracy}\"\u001b[0m\u001b[1;33m)\u001b[0m\u001b[1;33m\u001b[0m\u001b[0m\n",
      "\u001b[1;31mNameError\u001b[0m: name 'model' is not defined"
     ]
    }
   ],
   "source": [
    "# Evaluate the model using the testing data\n",
    "model_loss, model_accuracy = model.evaluate(\n",
    "    X_test_scaled, y_test_categorical, verbose=2)\n",
    "print(f\"Loss: {model_loss}, Accuracy: {model_accuracy}\")"
   ]
  },
  {
   "cell_type": "markdown",
   "metadata": {},
   "source": [
    "## Making Predictions with new data\n",
    "\n",
    "We can use our trained model to make predictions using `model.predict`"
   ]
  },
  {
   "cell_type": "code",
   "execution_count": 12,
   "metadata": {},
   "outputs": [
    {
     "ename": "NameError",
     "evalue": "name 'model' is not defined",
     "output_type": "error",
     "traceback": [
      "\u001b[1;31m---------------------------------------------------------------------------\u001b[0m",
      "\u001b[1;31mNameError\u001b[0m                                 Traceback (most recent call last)",
      "\u001b[1;32m<ipython-input-12-91ee00011076>\u001b[0m in \u001b[0;36m<module>\u001b[1;34m()\u001b[0m\n\u001b[0;32m      1\u001b[0m \u001b[1;32mimport\u001b[0m \u001b[0mnumpy\u001b[0m \u001b[1;32mas\u001b[0m \u001b[0mnp\u001b[0m\u001b[1;33m\u001b[0m\u001b[0m\n\u001b[0;32m      2\u001b[0m \u001b[0mnew_data\u001b[0m \u001b[1;33m=\u001b[0m \u001b[0mnp\u001b[0m\u001b[1;33m.\u001b[0m\u001b[0marray\u001b[0m\u001b[1;33m(\u001b[0m\u001b[1;33m[\u001b[0m\u001b[1;33m[\u001b[0m\u001b[1;36m0.2\u001b[0m\u001b[1;33m,\u001b[0m \u001b[1;36m0.3\u001b[0m\u001b[1;33m,\u001b[0m \u001b[1;36m0.4\u001b[0m\u001b[1;33m]\u001b[0m\u001b[1;33m]\u001b[0m\u001b[1;33m)\u001b[0m\u001b[1;33m\u001b[0m\u001b[0m\n\u001b[1;32m----> 3\u001b[1;33m \u001b[0mprint\u001b[0m\u001b[1;33m(\u001b[0m\u001b[1;34mf\"Predicted class: {model.predict_classes(new_data)}\"\u001b[0m\u001b[1;33m)\u001b[0m\u001b[1;33m\u001b[0m\u001b[0m\n\u001b[0m",
      "\u001b[1;31mNameError\u001b[0m: name 'model' is not defined"
     ]
    }
   ],
   "source": [
    "import numpy as np\n",
    "new_data = np.array([[0.2, 0.3, 0.4]])\n",
    "print(f\"Predicted class: {model.predict_classes(new_data)}\")"
   ]
  },
  {
   "cell_type": "markdown",
   "metadata": {},
   "source": [
    "# Everyone Deep learning Activity 3"
   ]
  },
  {
   "cell_type": "code",
   "execution_count": 14,
   "metadata": {},
   "outputs": [],
   "source": [
    "%matplotlib inline\n",
    "import matplotlib.pyplot as plt\n",
    "import numpy as np\n",
    "import sklearn\n",
    "import sklearn.datasets\n",
    "from numpy.random import seed\n",
    "seed(1)"
   ]
  },
  {
   "cell_type": "code",
   "execution_count": 15,
   "metadata": {},
   "outputs": [],
   "source": [
    "# Create Data\n",
    "X, y = sklearn.datasets.make_circles(noise=0.05, factor=.2, random_state=1)"
   ]
  },
  {
   "cell_type": "code",
   "execution_count": 16,
   "metadata": {},
   "outputs": [
    {
     "data": {
      "text/plain": [
       "<matplotlib.collections.PathCollection at 0x1e8d128de48>"
      ]
     },
     "execution_count": 16,
     "metadata": {},
     "output_type": "execute_result"
    },
    {
     "data": {
      "image/png": "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\n",
      "text/plain": [
       "<matplotlib.figure.Figure at 0x1e8cf9874a8>"
      ]
     },
     "metadata": {},
     "output_type": "display_data"
    }
   ],
   "source": [
    "# Visualize Data\n",
    "plt.scatter(X[:, 0], X[:, 1], c=y)"
   ]
  },
  {
   "cell_type": "code",
   "execution_count": 17,
   "metadata": {},
   "outputs": [],
   "source": [
    "# Use train_test_split to create training and testing data\n",
    "from sklearn.model_selection import train_test_split\n",
    "\n",
    "X_train, X_test, y_train, y_test = train_test_split(X, y, random_state=1)"
   ]
  },
  {
   "cell_type": "code",
   "execution_count": 18,
   "metadata": {},
   "outputs": [],
   "source": [
    "from sklearn.preprocessing import StandardScaler\n",
    "\n",
    "# Create a StandardScater model and fit it to the training data\n",
    "X_scaler = StandardScaler().fit(X_train)"
   ]
  },
  {
   "cell_type": "code",
   "execution_count": 19,
   "metadata": {},
   "outputs": [],
   "source": [
    "# Transform the training and testing data using the X_scaler\n",
    "\n",
    "X_train_scaled = X_scaler.transform(X_train)\n",
    "X_test_scaled = X_scaler.transform(X_test)"
   ]
  },
  {
   "cell_type": "code",
   "execution_count": 20,
   "metadata": {},
   "outputs": [
    {
     "name": "stderr",
     "output_type": "stream",
     "text": [
      "C:\\Users\\drew\\Anaconda3\\lib\\site-packages\\h5py\\__init__.py:36: FutureWarning: Conversion of the second argument of issubdtype from `float` to `np.floating` is deprecated. In future, it will be treated as `np.float64 == np.dtype(float).type`.\n",
      "  from ._conv import register_converters as _register_converters\n",
      "Using TensorFlow backend.\n"
     ]
    }
   ],
   "source": [
    "from keras.utils import to_categorical\n",
    "\n",
    "# One-hot encoding\n",
    "y_train_categorical = to_categorical(y_train)\n",
    "y_test_categorical = to_categorical(y_test)"
   ]
  },
  {
   "cell_type": "code",
   "execution_count": 21,
   "metadata": {},
   "outputs": [],
   "source": [
    "# first, create a normal neural network with 2 inputs, 6 hidden nodes, and 2 outputs\n",
    "from keras.models import Sequential\n",
    "from keras.layers import Dense\n",
    "\n",
    "model = Sequential()\n",
    "model.add(Dense(units=6, activation='relu', input_dim=2))\n",
    "model.add(Dense(units=2, activation='softmax'))"
   ]
  },
  {
   "cell_type": "code",
   "execution_count": 22,
   "metadata": {},
   "outputs": [
    {
     "name": "stdout",
     "output_type": "stream",
     "text": [
      "_________________________________________________________________\n",
      "Layer (type)                 Output Shape              Param #   \n",
      "=================================================================\n",
      "dense_1 (Dense)              (None, 6)                 18        \n",
      "_________________________________________________________________\n",
      "dense_2 (Dense)              (None, 2)                 14        \n",
      "=================================================================\n",
      "Total params: 32\n",
      "Trainable params: 32\n",
      "Non-trainable params: 0\n",
      "_________________________________________________________________\n"
     ]
    }
   ],
   "source": [
    "model.summary()"
   ]
  },
  {
   "cell_type": "code",
   "execution_count": 23,
   "metadata": {},
   "outputs": [],
   "source": [
    "# Compile the model\n",
    "model.compile(optimizer='adam',\n",
    "              loss='categorical_crossentropy',\n",
    "              metrics=['accuracy'])"
   ]
  },
  {
   "cell_type": "code",
   "execution_count": 24,
   "metadata": {},
   "outputs": [
    {
     "name": "stdout",
     "output_type": "stream",
     "text": [
      "Epoch 1/100\n",
      " - 0s - loss: 0.7868 - acc: 0.5067\n",
      "Epoch 2/100\n",
      " - 0s - loss: 0.7817 - acc: 0.4933\n",
      "Epoch 3/100\n",
      " - 0s - loss: 0.7756 - acc: 0.4933\n",
      "Epoch 4/100\n",
      " - 0s - loss: 0.7707 - acc: 0.4933\n",
      "Epoch 5/100\n",
      " - 0s - loss: 0.7659 - acc: 0.4933\n",
      "Epoch 6/100\n",
      " - 0s - loss: 0.7610 - acc: 0.5067\n",
      "Epoch 7/100\n",
      " - 0s - loss: 0.7562 - acc: 0.4800\n",
      "Epoch 8/100\n",
      " - 0s - loss: 0.7519 - acc: 0.4800\n",
      "Epoch 9/100\n",
      " - 0s - loss: 0.7473 - acc: 0.4800\n",
      "Epoch 10/100\n",
      " - 0s - loss: 0.7431 - acc: 0.4667\n",
      "Epoch 11/100\n",
      " - 0s - loss: 0.7390 - acc: 0.4667\n",
      "Epoch 12/100\n",
      " - 0s - loss: 0.7348 - acc: 0.4533\n",
      "Epoch 13/100\n",
      " - 0s - loss: 0.7314 - acc: 0.4533\n",
      "Epoch 14/100\n",
      " - 0s - loss: 0.7273 - acc: 0.4533\n",
      "Epoch 15/100\n",
      " - 0s - loss: 0.7239 - acc: 0.4533\n",
      "Epoch 16/100\n",
      " - 0s - loss: 0.7204 - acc: 0.4533\n",
      "Epoch 17/100\n",
      " - 0s - loss: 0.7175 - acc: 0.4533\n",
      "Epoch 18/100\n",
      " - 0s - loss: 0.7139 - acc: 0.4533\n",
      "Epoch 19/100\n",
      " - 0s - loss: 0.7110 - acc: 0.4400\n",
      "Epoch 20/100\n",
      " - 0s - loss: 0.7079 - acc: 0.4400\n",
      "Epoch 21/100\n",
      " - 0s - loss: 0.7049 - acc: 0.4400\n",
      "Epoch 22/100\n",
      " - 0s - loss: 0.7021 - acc: 0.4267\n",
      "Epoch 23/100\n",
      " - 0s - loss: 0.6992 - acc: 0.4400\n",
      "Epoch 24/100\n",
      " - 0s - loss: 0.6965 - acc: 0.4533\n",
      "Epoch 25/100\n",
      " - 0s - loss: 0.6939 - acc: 0.4533\n",
      "Epoch 26/100\n",
      " - 0s - loss: 0.6910 - acc: 0.4533\n",
      "Epoch 27/100\n",
      " - 0s - loss: 0.6881 - acc: 0.4533\n",
      "Epoch 28/100\n",
      " - 0s - loss: 0.6857 - acc: 0.4533\n",
      "Epoch 29/100\n",
      " - 0s - loss: 0.6829 - acc: 0.4267\n",
      "Epoch 30/100\n",
      " - 0s - loss: 0.6801 - acc: 0.4267\n",
      "Epoch 31/100\n",
      " - 0s - loss: 0.6774 - acc: 0.4267\n",
      "Epoch 32/100\n",
      " - 0s - loss: 0.6750 - acc: 0.4267\n",
      "Epoch 33/100\n",
      " - 0s - loss: 0.6729 - acc: 0.4267\n",
      "Epoch 34/100\n",
      " - 0s - loss: 0.6703 - acc: 0.4267\n",
      "Epoch 35/100\n",
      " - 0s - loss: 0.6678 - acc: 0.4267\n",
      "Epoch 36/100\n",
      " - 0s - loss: 0.6659 - acc: 0.4267\n",
      "Epoch 37/100\n",
      " - 0s - loss: 0.6635 - acc: 0.4267\n",
      "Epoch 38/100\n",
      " - 0s - loss: 0.6614 - acc: 0.4267\n",
      "Epoch 39/100\n",
      " - 0s - loss: 0.6594 - acc: 0.4267\n",
      "Epoch 40/100\n",
      " - 0s - loss: 0.6572 - acc: 0.4267\n",
      "Epoch 41/100\n",
      " - 0s - loss: 0.6551 - acc: 0.4267\n",
      "Epoch 42/100\n",
      " - 0s - loss: 0.6530 - acc: 0.4400\n",
      "Epoch 43/100\n",
      " - 0s - loss: 0.6512 - acc: 0.4400\n",
      "Epoch 44/100\n",
      " - 0s - loss: 0.6491 - acc: 0.4533\n",
      "Epoch 45/100\n",
      " - 0s - loss: 0.6471 - acc: 0.4533\n",
      "Epoch 46/100\n",
      " - 0s - loss: 0.6452 - acc: 0.4800\n",
      "Epoch 47/100\n",
      " - 0s - loss: 0.6434 - acc: 0.5067\n",
      "Epoch 48/100\n",
      " - 0s - loss: 0.6415 - acc: 0.5467\n",
      "Epoch 49/100\n",
      " - 0s - loss: 0.6398 - acc: 0.5467\n",
      "Epoch 50/100\n",
      " - 0s - loss: 0.6380 - acc: 0.5467\n",
      "Epoch 51/100\n",
      " - 0s - loss: 0.6363 - acc: 0.5467\n",
      "Epoch 52/100\n",
      " - 0s - loss: 0.6345 - acc: 0.5600\n",
      "Epoch 53/100\n",
      " - 0s - loss: 0.6327 - acc: 0.5600\n",
      "Epoch 54/100\n",
      " - 0s - loss: 0.6311 - acc: 0.5600\n",
      "Epoch 55/100\n",
      " - 0s - loss: 0.6295 - acc: 0.5600\n",
      "Epoch 56/100\n",
      " - 0s - loss: 0.6277 - acc: 0.5733\n",
      "Epoch 57/100\n",
      " - 0s - loss: 0.6261 - acc: 0.5733\n",
      "Epoch 58/100\n",
      " - 0s - loss: 0.6244 - acc: 0.5867\n",
      "Epoch 59/100\n",
      " - 0s - loss: 0.6229 - acc: 0.6000\n",
      "Epoch 60/100\n",
      " - 0s - loss: 0.6211 - acc: 0.6000\n",
      "Epoch 61/100\n",
      " - 0s - loss: 0.6196 - acc: 0.6000\n",
      "Epoch 62/100\n",
      " - 0s - loss: 0.6180 - acc: 0.6000\n",
      "Epoch 63/100\n",
      " - 0s - loss: 0.6164 - acc: 0.6000\n",
      "Epoch 64/100\n",
      " - 0s - loss: 0.6148 - acc: 0.6000\n",
      "Epoch 65/100\n",
      " - 0s - loss: 0.6132 - acc: 0.6000\n",
      "Epoch 66/100\n",
      " - 0s - loss: 0.6118 - acc: 0.6000\n",
      "Epoch 67/100\n",
      " - 0s - loss: 0.6103 - acc: 0.6000\n",
      "Epoch 68/100\n",
      " - 0s - loss: 0.6090 - acc: 0.6000\n",
      "Epoch 69/100\n",
      " - 0s - loss: 0.6076 - acc: 0.6000\n",
      "Epoch 70/100\n",
      " - 0s - loss: 0.6062 - acc: 0.6000\n",
      "Epoch 71/100\n",
      " - 0s - loss: 0.6049 - acc: 0.6000\n",
      "Epoch 72/100\n",
      " - 0s - loss: 0.6034 - acc: 0.6133\n",
      "Epoch 73/100\n",
      " - 0s - loss: 0.6021 - acc: 0.6133\n",
      "Epoch 74/100\n",
      " - 0s - loss: 0.6008 - acc: 0.6267\n",
      "Epoch 75/100\n",
      " - 0s - loss: 0.5994 - acc: 0.6267\n",
      "Epoch 76/100\n",
      " - 0s - loss: 0.5982 - acc: 0.6267\n",
      "Epoch 77/100\n",
      " - 0s - loss: 0.5968 - acc: 0.6267\n",
      "Epoch 78/100\n",
      " - 0s - loss: 0.5956 - acc: 0.6267\n",
      "Epoch 79/100\n",
      " - 0s - loss: 0.5942 - acc: 0.6267\n",
      "Epoch 80/100\n",
      " - 0s - loss: 0.5931 - acc: 0.6267\n",
      "Epoch 81/100\n",
      " - 0s - loss: 0.5918 - acc: 0.6267\n",
      "Epoch 82/100\n",
      " - 0s - loss: 0.5905 - acc: 0.6267\n",
      "Epoch 83/100\n",
      " - 0s - loss: 0.5893 - acc: 0.6267\n",
      "Epoch 84/100\n",
      " - 0s - loss: 0.5881 - acc: 0.6267\n",
      "Epoch 85/100\n",
      " - 0s - loss: 0.5869 - acc: 0.6267\n",
      "Epoch 86/100\n",
      " - 0s - loss: 0.5857 - acc: 0.6267\n",
      "Epoch 87/100\n",
      " - 0s - loss: 0.5845 - acc: 0.6267\n",
      "Epoch 88/100\n",
      " - 0s - loss: 0.5833 - acc: 0.6400\n",
      "Epoch 89/100\n",
      " - 0s - loss: 0.5821 - acc: 0.6400\n",
      "Epoch 90/100\n",
      " - 0s - loss: 0.5809 - acc: 0.6400\n",
      "Epoch 91/100\n",
      " - 0s - loss: 0.5798 - acc: 0.6400\n",
      "Epoch 92/100\n",
      " - 0s - loss: 0.5786 - acc: 0.6400\n",
      "Epoch 93/100\n",
      " - 0s - loss: 0.5774 - acc: 0.6400\n",
      "Epoch 94/100\n",
      " - 0s - loss: 0.5762 - acc: 0.6400\n",
      "Epoch 95/100\n",
      " - 0s - loss: 0.5750 - acc: 0.6400\n",
      "Epoch 96/100\n",
      " - 0s - loss: 0.5738 - acc: 0.6400\n",
      "Epoch 97/100\n",
      " - 0s - loss: 0.5726 - acc: 0.6400\n",
      "Epoch 98/100\n",
      " - 0s - loss: 0.5715 - acc: 0.6533\n",
      "Epoch 99/100\n",
      " - 0s - loss: 0.5703 - acc: 0.6533\n",
      "Epoch 100/100\n",
      " - 0s - loss: 0.5692 - acc: 0.6667\n"
     ]
    },
    {
     "data": {
      "text/plain": [
       "<keras.callbacks.History at 0x1e8d6511588>"
      ]
     },
     "execution_count": 24,
     "metadata": {},
     "output_type": "execute_result"
    }
   ],
   "source": [
    "# Fit the model to the training data\n",
    "model.fit(\n",
    "    X_train_scaled,\n",
    "    y_train_categorical,\n",
    "    epochs=100,\n",
    "    shuffle=True,\n",
    "    verbose=2\n",
    ")"
   ]
  },
  {
   "cell_type": "markdown",
   "metadata": {},
   "source": [
    "# Deep Learning\n",
    "For this network, we simply add an additional hidden layer of 6 nodes"
   ]
  },
  {
   "cell_type": "code",
   "execution_count": 25,
   "metadata": {},
   "outputs": [],
   "source": [
    "deep_model = Sequential()\n",
    "deep_model.add(Dense(units=6, activation='relu', input_dim=2))\n",
    "deep_model.add(Dense(units=6, activation='relu'))\n",
    "deep_model.add(Dense(units=2, activation='softmax'))"
   ]
  },
  {
   "cell_type": "code",
   "execution_count": 26,
   "metadata": {},
   "outputs": [
    {
     "name": "stdout",
     "output_type": "stream",
     "text": [
      "_________________________________________________________________\n",
      "Layer (type)                 Output Shape              Param #   \n",
      "=================================================================\n",
      "dense_3 (Dense)              (None, 6)                 18        \n",
      "_________________________________________________________________\n",
      "dense_4 (Dense)              (None, 6)                 42        \n",
      "_________________________________________________________________\n",
      "dense_5 (Dense)              (None, 2)                 14        \n",
      "=================================================================\n",
      "Total params: 74\n",
      "Trainable params: 74\n",
      "Non-trainable params: 0\n",
      "_________________________________________________________________\n"
     ]
    }
   ],
   "source": [
    "deep_model.summary()"
   ]
  },
  {
   "cell_type": "code",
   "execution_count": 27,
   "metadata": {},
   "outputs": [
    {
     "name": "stdout",
     "output_type": "stream",
     "text": [
      "Epoch 1/100\n",
      " - 0s - loss: 0.5841 - acc: 0.4933\n",
      "Epoch 2/100\n",
      " - 0s - loss: 0.5807 - acc: 0.5067\n",
      "Epoch 3/100\n",
      " - 0s - loss: 0.5775 - acc: 0.5067\n",
      "Epoch 4/100\n",
      " - 0s - loss: 0.5744 - acc: 0.5733\n",
      "Epoch 5/100\n",
      " - 0s - loss: 0.5714 - acc: 0.5867\n",
      "Epoch 6/100\n",
      " - 0s - loss: 0.5683 - acc: 0.6000\n",
      "Epoch 7/100\n",
      " - 0s - loss: 0.5654 - acc: 0.6400\n",
      "Epoch 8/100\n",
      " - 0s - loss: 0.5623 - acc: 0.6667\n",
      "Epoch 9/100\n",
      " - 0s - loss: 0.5593 - acc: 0.6667\n",
      "Epoch 10/100\n",
      " - 0s - loss: 0.5564 - acc: 0.6800\n",
      "Epoch 11/100\n",
      " - 0s - loss: 0.5535 - acc: 0.6933\n",
      "Epoch 12/100\n",
      " - 0s - loss: 0.5506 - acc: 0.6933\n",
      "Epoch 13/100\n",
      " - 0s - loss: 0.5476 - acc: 0.7067\n",
      "Epoch 14/100\n",
      " - 0s - loss: 0.5447 - acc: 0.7467\n",
      "Epoch 15/100\n",
      " - 0s - loss: 0.5418 - acc: 0.7600\n",
      "Epoch 16/100\n",
      " - 0s - loss: 0.5388 - acc: 0.7733\n",
      "Epoch 17/100\n",
      " - 0s - loss: 0.5358 - acc: 0.8000\n",
      "Epoch 18/100\n",
      " - 0s - loss: 0.5329 - acc: 0.8000\n",
      "Epoch 19/100\n",
      " - 0s - loss: 0.5299 - acc: 0.8133\n",
      "Epoch 20/100\n",
      " - 0s - loss: 0.5269 - acc: 0.8400\n",
      "Epoch 21/100\n",
      " - 0s - loss: 0.5239 - acc: 0.8533\n",
      "Epoch 22/100\n",
      " - 0s - loss: 0.5208 - acc: 0.8533\n",
      "Epoch 23/100\n",
      " - 0s - loss: 0.5177 - acc: 0.8533\n",
      "Epoch 24/100\n",
      " - 0s - loss: 0.5147 - acc: 0.8667\n",
      "Epoch 25/100\n",
      " - 0s - loss: 0.5115 - acc: 0.9067\n",
      "Epoch 26/100\n",
      " - 0s - loss: 0.5085 - acc: 0.9067\n",
      "Epoch 27/100\n",
      " - 0s - loss: 0.5053 - acc: 0.9067\n",
      "Epoch 28/100\n",
      " - 0s - loss: 0.5022 - acc: 0.9067\n",
      "Epoch 29/100\n",
      " - 0s - loss: 0.4990 - acc: 0.9200\n",
      "Epoch 30/100\n",
      " - 0s - loss: 0.4958 - acc: 0.9200\n",
      "Epoch 31/100\n",
      " - 0s - loss: 0.4926 - acc: 0.9200\n",
      "Epoch 32/100\n",
      " - 0s - loss: 0.4895 - acc: 0.9333\n",
      "Epoch 33/100\n",
      " - 0s - loss: 0.4863 - acc: 0.9333\n",
      "Epoch 34/100\n",
      " - 0s - loss: 0.4831 - acc: 0.9333\n",
      "Epoch 35/100\n",
      " - 0s - loss: 0.4798 - acc: 0.9333\n",
      "Epoch 36/100\n",
      " - 0s - loss: 0.4766 - acc: 0.9333\n",
      "Epoch 37/100\n",
      " - 0s - loss: 0.4733 - acc: 0.9333\n",
      "Epoch 38/100\n",
      " - 0s - loss: 0.4701 - acc: 0.9467\n",
      "Epoch 39/100\n",
      " - 0s - loss: 0.4668 - acc: 0.9467\n",
      "Epoch 40/100\n",
      " - 0s - loss: 0.4634 - acc: 0.9467\n",
      "Epoch 41/100\n",
      " - 0s - loss: 0.4600 - acc: 0.9467\n",
      "Epoch 42/100\n",
      " - 0s - loss: 0.4567 - acc: 0.9467\n",
      "Epoch 43/100\n",
      " - 0s - loss: 0.4533 - acc: 0.9467\n",
      "Epoch 44/100\n",
      " - 0s - loss: 0.4500 - acc: 0.9600\n",
      "Epoch 45/100\n",
      " - 0s - loss: 0.4466 - acc: 0.9600\n",
      "Epoch 46/100\n",
      " - 0s - loss: 0.4432 - acc: 0.9600\n",
      "Epoch 47/100\n",
      " - 0s - loss: 0.4398 - acc: 0.9600\n",
      "Epoch 48/100\n",
      " - 0s - loss: 0.4363 - acc: 0.9600\n",
      "Epoch 49/100\n",
      " - 0s - loss: 0.4327 - acc: 0.9600\n",
      "Epoch 50/100\n",
      " - 0s - loss: 0.4292 - acc: 0.9600\n",
      "Epoch 51/100\n",
      " - 0s - loss: 0.4256 - acc: 0.9733\n",
      "Epoch 52/100\n",
      " - 0s - loss: 0.4222 - acc: 0.9733\n",
      "Epoch 53/100\n",
      " - 0s - loss: 0.4185 - acc: 0.9733\n",
      "Epoch 54/100\n",
      " - 0s - loss: 0.4150 - acc: 0.9867\n",
      "Epoch 55/100\n",
      " - 0s - loss: 0.4113 - acc: 0.9867\n",
      "Epoch 56/100\n",
      " - 0s - loss: 0.4075 - acc: 0.9867\n",
      "Epoch 57/100\n",
      " - 0s - loss: 0.4039 - acc: 0.9867\n",
      "Epoch 58/100\n",
      " - 0s - loss: 0.4001 - acc: 0.9867\n",
      "Epoch 59/100\n",
      " - 0s - loss: 0.3965 - acc: 0.9867\n",
      "Epoch 60/100\n",
      " - 0s - loss: 0.3927 - acc: 0.9867\n",
      "Epoch 61/100\n",
      " - 0s - loss: 0.3890 - acc: 0.9867\n",
      "Epoch 62/100\n",
      " - 0s - loss: 0.3854 - acc: 0.9867\n",
      "Epoch 63/100\n",
      " - 0s - loss: 0.3818 - acc: 0.9867\n",
      "Epoch 64/100\n",
      " - 0s - loss: 0.3779 - acc: 1.0000\n",
      "Epoch 65/100\n",
      " - 0s - loss: 0.3742 - acc: 1.0000\n",
      "Epoch 66/100\n",
      " - 0s - loss: 0.3703 - acc: 1.0000\n",
      "Epoch 67/100\n",
      " - 0s - loss: 0.3666 - acc: 1.0000\n",
      "Epoch 68/100\n",
      " - 0s - loss: 0.3627 - acc: 1.0000\n",
      "Epoch 69/100\n",
      " - 0s - loss: 0.3589 - acc: 1.0000\n",
      "Epoch 70/100\n",
      " - 0s - loss: 0.3550 - acc: 1.0000\n",
      "Epoch 71/100\n",
      " - 0s - loss: 0.3511 - acc: 1.0000\n",
      "Epoch 72/100\n",
      " - 0s - loss: 0.3471 - acc: 1.0000\n",
      "Epoch 73/100\n",
      " - 0s - loss: 0.3432 - acc: 1.0000\n",
      "Epoch 74/100\n",
      " - 0s - loss: 0.3391 - acc: 1.0000\n",
      "Epoch 75/100\n",
      " - 0s - loss: 0.3351 - acc: 1.0000\n",
      "Epoch 76/100\n",
      " - 0s - loss: 0.3310 - acc: 1.0000\n",
      "Epoch 77/100\n",
      " - 0s - loss: 0.3269 - acc: 1.0000\n",
      "Epoch 78/100\n",
      " - 0s - loss: 0.3229 - acc: 1.0000\n",
      "Epoch 79/100\n",
      " - 0s - loss: 0.3187 - acc: 1.0000\n",
      "Epoch 80/100\n",
      " - 0s - loss: 0.3146 - acc: 1.0000\n",
      "Epoch 81/100\n",
      " - 0s - loss: 0.3107 - acc: 1.0000\n",
      "Epoch 82/100\n",
      " - 0s - loss: 0.3067 - acc: 1.0000\n",
      "Epoch 83/100\n",
      " - 0s - loss: 0.3027 - acc: 1.0000\n",
      "Epoch 84/100\n",
      " - 0s - loss: 0.2987 - acc: 1.0000\n",
      "Epoch 85/100\n",
      " - 0s - loss: 0.2947 - acc: 1.0000\n",
      "Epoch 86/100\n",
      " - 0s - loss: 0.2907 - acc: 1.0000\n",
      "Epoch 87/100\n",
      " - 0s - loss: 0.2870 - acc: 1.0000\n",
      "Epoch 88/100\n",
      " - 0s - loss: 0.2830 - acc: 1.0000\n",
      "Epoch 89/100\n",
      " - 0s - loss: 0.2792 - acc: 1.0000\n",
      "Epoch 90/100\n",
      " - 0s - loss: 0.2755 - acc: 1.0000\n",
      "Epoch 91/100\n",
      " - 0s - loss: 0.2717 - acc: 1.0000\n",
      "Epoch 92/100\n",
      " - 0s - loss: 0.2679 - acc: 1.0000\n",
      "Epoch 93/100\n",
      " - 0s - loss: 0.2643 - acc: 1.0000\n",
      "Epoch 94/100\n",
      " - 0s - loss: 0.2607 - acc: 1.0000\n",
      "Epoch 95/100\n",
      " - 0s - loss: 0.2572 - acc: 1.0000\n",
      "Epoch 96/100\n",
      " - 0s - loss: 0.2536 - acc: 1.0000\n",
      "Epoch 97/100\n",
      " - 0s - loss: 0.2502 - acc: 1.0000\n",
      "Epoch 98/100\n",
      " - 0s - loss: 0.2469 - acc: 1.0000\n",
      "Epoch 99/100\n",
      " - 0s - loss: 0.2436 - acc: 1.0000\n",
      "Epoch 100/100\n",
      " - 0s - loss: 0.2403 - acc: 1.0000\n"
     ]
    },
    {
     "data": {
      "text/plain": [
       "<keras.callbacks.History at 0x1e8d7a06748>"
      ]
     },
     "execution_count": 27,
     "metadata": {},
     "output_type": "execute_result"
    }
   ],
   "source": [
    "deep_model.compile(optimizer='adam',\n",
    "                   loss='categorical_crossentropy',\n",
    "                   metrics=['accuracy'])\n",
    "\n",
    "deep_model.fit(\n",
    "    X_train_scaled,\n",
    "    y_train_categorical,\n",
    "    epochs=100,\n",
    "    shuffle=True,\n",
    "    verbose=2\n",
    ")"
   ]
  },
  {
   "cell_type": "markdown",
   "metadata": {},
   "source": [
    "# Compare the models below"
   ]
  },
  {
   "cell_type": "code",
   "execution_count": 28,
   "metadata": {},
   "outputs": [
    {
     "name": "stdout",
     "output_type": "stream",
     "text": [
      "Normal Neural Network - Loss: 0.6162189841270447, Accuracy: 0.6399999856948853\n"
     ]
    }
   ],
   "source": [
    "model_loss, model_accuracy = model.evaluate(\n",
    "    X_test_scaled, y_test_categorical, verbose=2)\n",
    "print(\n",
    "    f\"Normal Neural Network - Loss: {model_loss}, Accuracy: {model_accuracy}\")"
   ]
  },
  {
   "cell_type": "code",
   "execution_count": 32,
   "metadata": {},
   "outputs": [
    {
     "name": "stdout",
     "output_type": "stream",
     "text": [
      "Deep Neural Network - Loss: 0.26441413164138794, Accuracy: 1.0\n"
     ]
    }
   ],
   "source": [
    "model_loss, model_accuracy = deep_model.evaluate(\n",
    "    X_test_scaled, y_test_categorical, verbose=2)\n",
    "print(f\"Deep Neural Network - Loss: {model_loss}, Accuracy: {model_accuracy}\")"
   ]
  },
  {
   "cell_type": "markdown",
   "metadata": {},
   "source": [
    "![stack more layers](Images/stack-more-layers.jpg)"
   ]
  },
  {
   "cell_type": "markdown",
   "metadata": {},
   "source": [
    "# Student Turn Activity 4 Deep Learning Challenge\n",
    "\n",
    "In this activity, you will create a regular Neural Network and a Deep Neural Network. Then, compare the accuracy of each.\n",
    "\n",
    "## Instructions\n",
    "\n",
    "* Create a Neural Network and Deep Neural Network Classifier that correctly classifies both moons from the dataset.\n",
    "\n",
    "* Train both models using 100 training epochs.\n",
    "\n",
    "* Compare the accuracy of both models.\n",
    "\n",
    "### Bonus\n",
    "\n",
    "* Try to find the minimal architecture (number of nodes) and minimum training iterations required to achieve a score of at least .90.\n"
   ]
  },
  {
   "cell_type": "code",
   "execution_count": 34,
   "metadata": {},
   "outputs": [],
   "source": [
    "%matplotlib inline\n",
    "import matplotlib.pyplot as plt\n",
    "import numpy as np\n",
    "import sklearn\n",
    "import sklearn.datasets\n",
    "from numpy.random import seed\n",
    "seed(1)"
   ]
  },
  {
   "cell_type": "code",
   "execution_count": 35,
   "metadata": {},
   "outputs": [],
   "source": [
    "X, y = sklearn.datasets.make_moons(200, noise=0.05)"
   ]
  },
  {
   "cell_type": "code",
   "execution_count": 36,
   "metadata": {},
   "outputs": [
    {
     "data": {
      "text/plain": [
       "<matplotlib.collections.PathCollection at 0x1e8d7dfcef0>"
      ]
     },
     "execution_count": 36,
     "metadata": {},
     "output_type": "execute_result"
    },
    {
     "data": {
      "image/png": "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\n",
      "text/plain": [
       "<matplotlib.figure.Figure at 0x1e8d7a06208>"
      ]
     },
     "metadata": {},
     "output_type": "display_data"
    }
   ],
   "source": [
    "plt.scatter(X[:, 0], X[:, 1], c=y)"
   ]
  },
  {
   "cell_type": "code",
   "execution_count": 37,
   "metadata": {},
   "outputs": [],
   "source": [
    "# Use train_test_split to create training and testing data\n",
    "from sklearn.model_selection import train_test_split\n",
    "\n",
    "X_train, X_test, y_train, y_test = train_test_split(X, y, random_state=1)"
   ]
  },
  {
   "cell_type": "code",
   "execution_count": 38,
   "metadata": {},
   "outputs": [],
   "source": [
    "from sklearn.preprocessing import StandardScaler\n",
    "\n",
    "# Create a StandardScater model and fit it to the training data\n",
    "X_scaler = StandardScaler().fit(X_train)"
   ]
  },
  {
   "cell_type": "code",
   "execution_count": 39,
   "metadata": {},
   "outputs": [],
   "source": [
    "# Transform the training and testing data using the X_scaler\n",
    "\n",
    "X_train_scaled = X_scaler.transform(X_train)\n",
    "X_test_scaled = X_scaler.transform(X_test)"
   ]
  },
  {
   "cell_type": "code",
   "execution_count": 40,
   "metadata": {},
   "outputs": [],
   "source": [
    "from keras.utils import to_categorical\n",
    "\n",
    "# One-hot encoding\n",
    "# YOUR CODE HERE"
   ]
  },
  {
   "cell_type": "code",
   "execution_count": 41,
   "metadata": {},
   "outputs": [],
   "source": [
    "# First, create a normal neural network with 2 inputs, 6 hidden nodes, and 2 outputs\n",
    "# YOUR CODE HERE"
   ]
  },
  {
   "cell_type": "code",
   "execution_count": 42,
   "metadata": {},
   "outputs": [
    {
     "name": "stdout",
     "output_type": "stream",
     "text": [
      "_________________________________________________________________\n",
      "Layer (type)                 Output Shape              Param #   \n",
      "=================================================================\n",
      "dense_1 (Dense)              (None, 6)                 18        \n",
      "_________________________________________________________________\n",
      "dense_2 (Dense)              (None, 2)                 14        \n",
      "=================================================================\n",
      "Total params: 32\n",
      "Trainable params: 32\n",
      "Non-trainable params: 0\n",
      "_________________________________________________________________\n"
     ]
    }
   ],
   "source": [
    "model.summary()"
   ]
  },
  {
   "cell_type": "code",
   "execution_count": 43,
   "metadata": {},
   "outputs": [],
   "source": [
    "# Compile the model\n",
    "# YOUR CODE HERE"
   ]
  },
  {
   "cell_type": "code",
   "execution_count": 44,
   "metadata": {},
   "outputs": [],
   "source": [
    "# Fit the model to the training data\n",
    "# YOUR CODE HERE"
   ]
  },
  {
   "cell_type": "markdown",
   "metadata": {},
   "source": [
    "# Deep Learning\n",
    "For this network, we simply add an additional hidden layer of 6 nodes"
   ]
  },
  {
   "cell_type": "code",
   "execution_count": 46,
   "metadata": {},
   "outputs": [],
   "source": [
    "# Create a deep learning model with an extra hidden layer of 6 nodes called `deep_model`\n",
    "# YOUR CODE HERE"
   ]
  },
  {
   "cell_type": "code",
   "execution_count": 47,
   "metadata": {},
   "outputs": [
    {
     "name": "stdout",
     "output_type": "stream",
     "text": [
      "_________________________________________________________________\n",
      "Layer (type)                 Output Shape              Param #   \n",
      "=================================================================\n",
      "dense_3 (Dense)              (None, 6)                 18        \n",
      "_________________________________________________________________\n",
      "dense_4 (Dense)              (None, 6)                 42        \n",
      "_________________________________________________________________\n",
      "dense_5 (Dense)              (None, 2)                 14        \n",
      "=================================================================\n",
      "Total params: 74\n",
      "Trainable params: 74\n",
      "Non-trainable params: 0\n",
      "_________________________________________________________________\n"
     ]
    }
   ],
   "source": [
    "deep_model.summary()"
   ]
  },
  {
   "cell_type": "code",
   "execution_count": 48,
   "metadata": {},
   "outputs": [],
   "source": [
    "# Compile and fit the deep_model\n",
    "# YOUR CODE HERE"
   ]
  },
  {
   "cell_type": "markdown",
   "metadata": {},
   "source": [
    "# Compare the models below"
   ]
  },
  {
   "cell_type": "code",
   "execution_count": 50,
   "metadata": {},
   "outputs": [
    {
     "ename": "ValueError",
     "evalue": "Input arrays should have the same number of samples as target arrays. Found 50 input samples and 25 target samples.",
     "output_type": "error",
     "traceback": [
      "\u001b[1;31m---------------------------------------------------------------------------\u001b[0m",
      "\u001b[1;31mValueError\u001b[0m                                Traceback (most recent call last)",
      "\u001b[1;32m<ipython-input-50-bc1fadfd0232>\u001b[0m in \u001b[0;36m<module>\u001b[1;34m()\u001b[0m\n\u001b[0;32m      1\u001b[0m model_loss, model_accuracy = model.evaluate(\n\u001b[1;32m----> 2\u001b[1;33m     X_test_scaled, y_test_categorical, verbose=2)\n\u001b[0m\u001b[0;32m      3\u001b[0m print(\n\u001b[0;32m      4\u001b[0m     f\"Normal Neural Network - Loss: {model_loss}, Accuracy: {model_accuracy}\")\n",
      "\u001b[1;32m~\\Anaconda3\\lib\\site-packages\\keras\\engine\\training.py\u001b[0m in \u001b[0;36mevaluate\u001b[1;34m(self, x, y, batch_size, verbose, sample_weight, steps)\u001b[0m\n\u001b[0;32m   1098\u001b[0m             \u001b[0mx\u001b[0m\u001b[1;33m,\u001b[0m \u001b[0my\u001b[0m\u001b[1;33m,\u001b[0m\u001b[1;33m\u001b[0m\u001b[0m\n\u001b[0;32m   1099\u001b[0m             \u001b[0msample_weight\u001b[0m\u001b[1;33m=\u001b[0m\u001b[0msample_weight\u001b[0m\u001b[1;33m,\u001b[0m\u001b[1;33m\u001b[0m\u001b[0m\n\u001b[1;32m-> 1100\u001b[1;33m             batch_size=batch_size)\n\u001b[0m\u001b[0;32m   1101\u001b[0m         \u001b[1;31m# Prepare inputs, delegate logic to `test_loop`.\u001b[0m\u001b[1;33m\u001b[0m\u001b[1;33m\u001b[0m\u001b[0m\n\u001b[0;32m   1102\u001b[0m         \u001b[1;32mif\u001b[0m \u001b[0mself\u001b[0m\u001b[1;33m.\u001b[0m\u001b[0m_uses_dynamic_learning_phase\u001b[0m\u001b[1;33m(\u001b[0m\u001b[1;33m)\u001b[0m\u001b[1;33m:\u001b[0m\u001b[1;33m\u001b[0m\u001b[0m\n",
      "\u001b[1;32m~\\Anaconda3\\lib\\site-packages\\keras\\engine\\training.py\u001b[0m in \u001b[0;36m_standardize_user_data\u001b[1;34m(self, x, y, sample_weight, class_weight, check_array_lengths, batch_size)\u001b[0m\n\u001b[0;32m    800\u001b[0m             ]\n\u001b[0;32m    801\u001b[0m             \u001b[1;31m# Check that all arrays have the same length.\u001b[0m\u001b[1;33m\u001b[0m\u001b[1;33m\u001b[0m\u001b[0m\n\u001b[1;32m--> 802\u001b[1;33m             \u001b[0mcheck_array_length_consistency\u001b[0m\u001b[1;33m(\u001b[0m\u001b[0mx\u001b[0m\u001b[1;33m,\u001b[0m \u001b[0my\u001b[0m\u001b[1;33m,\u001b[0m \u001b[0msample_weights\u001b[0m\u001b[1;33m)\u001b[0m\u001b[1;33m\u001b[0m\u001b[0m\n\u001b[0m\u001b[0;32m    803\u001b[0m             \u001b[1;32mif\u001b[0m \u001b[0mself\u001b[0m\u001b[1;33m.\u001b[0m\u001b[0m_is_graph_network\u001b[0m\u001b[1;33m:\u001b[0m\u001b[1;33m\u001b[0m\u001b[0m\n\u001b[0;32m    804\u001b[0m                 \u001b[1;31m# Additional checks to avoid users mistakenly\u001b[0m\u001b[1;33m\u001b[0m\u001b[1;33m\u001b[0m\u001b[0m\n",
      "\u001b[1;32m~\\Anaconda3\\lib\\site-packages\\keras\\engine\\training_utils.py\u001b[0m in \u001b[0;36mcheck_array_length_consistency\u001b[1;34m(inputs, targets, weights)\u001b[0m\n\u001b[0;32m    234\u001b[0m                          \u001b[1;34m'the same number of samples as target arrays. '\u001b[0m\u001b[1;33m\u001b[0m\u001b[0m\n\u001b[0;32m    235\u001b[0m                          \u001b[1;34m'Found '\u001b[0m \u001b[1;33m+\u001b[0m \u001b[0mstr\u001b[0m\u001b[1;33m(\u001b[0m\u001b[0mlist\u001b[0m\u001b[1;33m(\u001b[0m\u001b[0mset_x\u001b[0m\u001b[1;33m)\u001b[0m\u001b[1;33m[\u001b[0m\u001b[1;36m0\u001b[0m\u001b[1;33m]\u001b[0m\u001b[1;33m)\u001b[0m \u001b[1;33m+\u001b[0m \u001b[1;34m' input samples '\u001b[0m\u001b[1;33m\u001b[0m\u001b[0m\n\u001b[1;32m--> 236\u001b[1;33m                          'and ' + str(list(set_y)[0]) + ' target samples.')\n\u001b[0m\u001b[0;32m    237\u001b[0m     \u001b[1;32mif\u001b[0m \u001b[0mlen\u001b[0m\u001b[1;33m(\u001b[0m\u001b[0mset_w\u001b[0m\u001b[1;33m)\u001b[0m \u001b[1;33m>\u001b[0m \u001b[1;36m1\u001b[0m\u001b[1;33m:\u001b[0m\u001b[1;33m\u001b[0m\u001b[0m\n\u001b[0;32m    238\u001b[0m         raise ValueError('All sample_weight arrays should have '\n",
      "\u001b[1;31mValueError\u001b[0m: Input arrays should have the same number of samples as target arrays. Found 50 input samples and 25 target samples."
     ]
    }
   ],
   "source": [
    "model_loss, model_accuracy = model.evaluate(\n",
    "    X_test_scaled, y_test_categorical, verbose=2)\n",
    "print(\n",
    "    f\"Normal Neural Network - Loss: {model_loss}, Accuracy: {model_accuracy}\")"
   ]
  },
  {
   "cell_type": "code",
   "execution_count": 51,
   "metadata": {},
   "outputs": [
    {
     "ename": "ValueError",
     "evalue": "Input arrays should have the same number of samples as target arrays. Found 50 input samples and 25 target samples.",
     "output_type": "error",
     "traceback": [
      "\u001b[1;31m---------------------------------------------------------------------------\u001b[0m",
      "\u001b[1;31mValueError\u001b[0m                                Traceback (most recent call last)",
      "\u001b[1;32m<ipython-input-51-113d6f0d4daf>\u001b[0m in \u001b[0;36m<module>\u001b[1;34m()\u001b[0m\n\u001b[0;32m      1\u001b[0m model_loss, model_accuracy = deep_model.evaluate(\n\u001b[1;32m----> 2\u001b[1;33m     X_test_scaled, y_test_categorical, verbose=2)\n\u001b[0m\u001b[0;32m      3\u001b[0m \u001b[0mprint\u001b[0m\u001b[1;33m(\u001b[0m\u001b[1;34mf\"Deep Neural Network - Loss: {model_loss}, Accuracy: {model_accuracy}\"\u001b[0m\u001b[1;33m)\u001b[0m\u001b[1;33m\u001b[0m\u001b[0m\n",
      "\u001b[1;32m~\\Anaconda3\\lib\\site-packages\\keras\\engine\\training.py\u001b[0m in \u001b[0;36mevaluate\u001b[1;34m(self, x, y, batch_size, verbose, sample_weight, steps)\u001b[0m\n\u001b[0;32m   1098\u001b[0m             \u001b[0mx\u001b[0m\u001b[1;33m,\u001b[0m \u001b[0my\u001b[0m\u001b[1;33m,\u001b[0m\u001b[1;33m\u001b[0m\u001b[0m\n\u001b[0;32m   1099\u001b[0m             \u001b[0msample_weight\u001b[0m\u001b[1;33m=\u001b[0m\u001b[0msample_weight\u001b[0m\u001b[1;33m,\u001b[0m\u001b[1;33m\u001b[0m\u001b[0m\n\u001b[1;32m-> 1100\u001b[1;33m             batch_size=batch_size)\n\u001b[0m\u001b[0;32m   1101\u001b[0m         \u001b[1;31m# Prepare inputs, delegate logic to `test_loop`.\u001b[0m\u001b[1;33m\u001b[0m\u001b[1;33m\u001b[0m\u001b[0m\n\u001b[0;32m   1102\u001b[0m         \u001b[1;32mif\u001b[0m \u001b[0mself\u001b[0m\u001b[1;33m.\u001b[0m\u001b[0m_uses_dynamic_learning_phase\u001b[0m\u001b[1;33m(\u001b[0m\u001b[1;33m)\u001b[0m\u001b[1;33m:\u001b[0m\u001b[1;33m\u001b[0m\u001b[0m\n",
      "\u001b[1;32m~\\Anaconda3\\lib\\site-packages\\keras\\engine\\training.py\u001b[0m in \u001b[0;36m_standardize_user_data\u001b[1;34m(self, x, y, sample_weight, class_weight, check_array_lengths, batch_size)\u001b[0m\n\u001b[0;32m    800\u001b[0m             ]\n\u001b[0;32m    801\u001b[0m             \u001b[1;31m# Check that all arrays have the same length.\u001b[0m\u001b[1;33m\u001b[0m\u001b[1;33m\u001b[0m\u001b[0m\n\u001b[1;32m--> 802\u001b[1;33m             \u001b[0mcheck_array_length_consistency\u001b[0m\u001b[1;33m(\u001b[0m\u001b[0mx\u001b[0m\u001b[1;33m,\u001b[0m \u001b[0my\u001b[0m\u001b[1;33m,\u001b[0m \u001b[0msample_weights\u001b[0m\u001b[1;33m)\u001b[0m\u001b[1;33m\u001b[0m\u001b[0m\n\u001b[0m\u001b[0;32m    803\u001b[0m             \u001b[1;32mif\u001b[0m \u001b[0mself\u001b[0m\u001b[1;33m.\u001b[0m\u001b[0m_is_graph_network\u001b[0m\u001b[1;33m:\u001b[0m\u001b[1;33m\u001b[0m\u001b[0m\n\u001b[0;32m    804\u001b[0m                 \u001b[1;31m# Additional checks to avoid users mistakenly\u001b[0m\u001b[1;33m\u001b[0m\u001b[1;33m\u001b[0m\u001b[0m\n",
      "\u001b[1;32m~\\Anaconda3\\lib\\site-packages\\keras\\engine\\training_utils.py\u001b[0m in \u001b[0;36mcheck_array_length_consistency\u001b[1;34m(inputs, targets, weights)\u001b[0m\n\u001b[0;32m    234\u001b[0m                          \u001b[1;34m'the same number of samples as target arrays. '\u001b[0m\u001b[1;33m\u001b[0m\u001b[0m\n\u001b[0;32m    235\u001b[0m                          \u001b[1;34m'Found '\u001b[0m \u001b[1;33m+\u001b[0m \u001b[0mstr\u001b[0m\u001b[1;33m(\u001b[0m\u001b[0mlist\u001b[0m\u001b[1;33m(\u001b[0m\u001b[0mset_x\u001b[0m\u001b[1;33m)\u001b[0m\u001b[1;33m[\u001b[0m\u001b[1;36m0\u001b[0m\u001b[1;33m]\u001b[0m\u001b[1;33m)\u001b[0m \u001b[1;33m+\u001b[0m \u001b[1;34m' input samples '\u001b[0m\u001b[1;33m\u001b[0m\u001b[0m\n\u001b[1;32m--> 236\u001b[1;33m                          'and ' + str(list(set_y)[0]) + ' target samples.')\n\u001b[0m\u001b[0;32m    237\u001b[0m     \u001b[1;32mif\u001b[0m \u001b[0mlen\u001b[0m\u001b[1;33m(\u001b[0m\u001b[0mset_w\u001b[0m\u001b[1;33m)\u001b[0m \u001b[1;33m>\u001b[0m \u001b[1;36m1\u001b[0m\u001b[1;33m:\u001b[0m\u001b[1;33m\u001b[0m\u001b[0m\n\u001b[0;32m    238\u001b[0m         raise ValueError('All sample_weight arrays should have '\n",
      "\u001b[1;31mValueError\u001b[0m: Input arrays should have the same number of samples as target arrays. Found 50 input samples and 25 target samples."
     ]
    }
   ],
   "source": [
    "model_loss, model_accuracy = deep_model.evaluate(\n",
    "    X_test_scaled, y_test_categorical, verbose=2)\n",
    "print(f\"Deep Neural Network - Loss: {model_loss}, Accuracy: {model_accuracy}\")"
   ]
  },
  {
   "cell_type": "markdown",
   "metadata": {},
   "source": [
    "# Instructor Turn Activity 6\n"
   ]
  },
  {
   "cell_type": "code",
   "execution_count": 53,
   "metadata": {},
   "outputs": [],
   "source": [
    "import numpy as np\n",
    "import pandas as pd\n",
    "\n",
    "import warnings\n",
    "warnings.simplefilter('ignore', FutureWarning)"
   ]
  },
  {
   "cell_type": "code",
   "execution_count": 54,
   "metadata": {},
   "outputs": [
    {
     "name": "stdout",
     "output_type": "stream",
     "text": [
      "(3168, 20) (3168,)\n"
     ]
    }
   ],
   "source": [
    "voice = pd.read_csv('Resources/voice.csv')\n",
    "\n",
    "X = voice.drop(\"label\", axis=1)\n",
    "y = voice[\"label\"]\n",
    "print(X.shape, y.shape)\n",
    "\n",
    "from sklearn.model_selection import train_test_split\n",
    "from sklearn.preprocessing import LabelEncoder, StandardScaler\n",
    "from keras.utils import to_categorical\n",
    "\n",
    "X_train, X_test, y_train, y_test = train_test_split(\n",
    "    X, y, random_state=1, stratify=y)\n",
    "X_scaler = StandardScaler().fit(X_train)\n",
    "X_train_scaled = X_scaler.transform(X_train)\n",
    "X_test_scaled = X_scaler.transform(X_test)\n",
    "\n",
    "\n",
    "# Step 1: Label-encode data set\n",
    "label_encoder = LabelEncoder()\n",
    "label_encoder.fit(y_train)\n",
    "encoded_y_train = label_encoder.transform(y_train)\n",
    "encoded_y_test = label_encoder.transform(y_test)\n",
    "\n",
    "# Step 2: Convert encoded labels to one-hot-encoding\n",
    "y_train_categorical = to_categorical(encoded_y_train)\n",
    "y_test_categorical = to_categorical(encoded_y_test)"
   ]
  },
  {
   "cell_type": "code",
   "execution_count": 55,
   "metadata": {},
   "outputs": [],
   "source": [
    "# Create a Deep Learning Model"
   ]
  },
  {
   "cell_type": "code",
   "execution_count": 56,
   "metadata": {},
   "outputs": [],
   "source": [
    "from keras.models import Sequential\n",
    "from keras.layers import Dense\n",
    "\n",
    "model = Sequential()\n",
    "model.add(Dense(units=100, activation='relu', input_dim=20))\n",
    "model.add(Dense(units=100, activation='relu'))\n",
    "model.add(Dense(units=2, activation='softmax'))"
   ]
  },
  {
   "cell_type": "code",
   "execution_count": 57,
   "metadata": {},
   "outputs": [
    {
     "data": {
      "text/plain": [
       "<keras.callbacks.History at 0x1e8d7e0c400>"
      ]
     },
     "execution_count": 57,
     "metadata": {},
     "output_type": "execute_result"
    }
   ],
   "source": [
    "model.compile(optimizer='adam',\n",
    "              loss='categorical_crossentropy',\n",
    "              metrics=['accuracy'])\n",
    "model.fit(\n",
    "    X_train_scaled,\n",
    "    y_train_categorical,\n",
    "    epochs=60,\n",
    "    shuffle=True,\n",
    "    verbose=0\n",
    ")"
   ]
  },
  {
   "cell_type": "code",
   "execution_count": 58,
   "metadata": {},
   "outputs": [],
   "source": [
    "## Quantify our Trained Model"
   ]
  },
  {
   "cell_type": "code",
   "execution_count": 59,
   "metadata": {},
   "outputs": [
    {
     "name": "stdout",
     "output_type": "stream",
     "text": [
      "Normal Neural Network - Loss: 0.0482577623567862, Accuracy: 0.9848484848484849\n"
     ]
    }
   ],
   "source": [
    "model_loss, model_accuracy = model.evaluate(\n",
    "    X_test_scaled, y_test_categorical, verbose=2)\n",
    "print(\n",
    "    f\"Normal Neural Network - Loss: {model_loss}, Accuracy: {model_accuracy}\")"
   ]
  },
  {
   "cell_type": "markdown",
   "metadata": {},
   "source": [
    "# Saving a Trained Model\n",
    "We can save our trained models using the HDF5 binary format with the extension `.h5`"
   ]
  },
  {
   "cell_type": "code",
   "execution_count": 61,
   "metadata": {},
   "outputs": [],
   "source": [
    "# Save the model\n",
    "model.save(\"voice_model_trained.h5\")"
   ]
  },
  {
   "cell_type": "markdown",
   "metadata": {},
   "source": [
    "# Loading a Model"
   ]
  },
  {
   "cell_type": "code",
   "execution_count": 62,
   "metadata": {},
   "outputs": [],
   "source": [
    "# Load the model\n",
    "from keras.models import load_model\n",
    "voice_model = load_model(\"voice_model_trained.h5\")"
   ]
  },
  {
   "cell_type": "markdown",
   "metadata": {},
   "source": [
    "## Evaluating the loaded model"
   ]
  },
  {
   "cell_type": "code",
   "execution_count": 63,
   "metadata": {},
   "outputs": [
    {
     "name": "stdout",
     "output_type": "stream",
     "text": [
      "Normal Neural Network - Loss: 0.0482577623567862, Accuracy: 0.9848484848484849\n"
     ]
    }
   ],
   "source": [
    "model_loss, model_accuracy = voice_model.evaluate(\n",
    "    X_test_scaled, y_test_categorical, verbose=2)\n",
    "print(\n",
    "    f\"Normal Neural Network - Loss: {model_loss}, Accuracy: {model_accuracy}\")"
   ]
  },
  {
   "cell_type": "markdown",
   "metadata": {},
   "source": [
    "# Students Turn Activity 7 \n",
    "# Smart Phone Activity Detector\n",
    "\n",
    "## Instructions\n",
    "\n",
    "* Follow the comments in the provided starter file to:\n",
    "\n",
    "  * Encode necessary labels.\n",
    "\n",
    "  * Build and train a deep learning model.\n",
    "\n",
    "  * Save the model.\n",
    "\n",
    "  * Load to model.\n",
    "\n",
    "  * Use the loaded model to predict the activity of a smartphone user based one data point from the test set.\n"
   ]
  },
  {
   "cell_type": "markdown",
   "metadata": {},
   "source": [
    "# Deep Learning Smartphone Activity Detector\n",
    "\n",
    "http://archive.ics.uci.edu/ml/datasets/Smartphone-Based+Recognition+of+Human+Activities+and+Postural+Transitions"
   ]
  },
  {
   "cell_type": "markdown",
   "metadata": {},
   "source": [
    "# Objective\n",
    "\n",
    "Predict human activity using smartphone sensor data"
   ]
  },
  {
   "cell_type": "markdown",
   "metadata": {},
   "source": [
    "# Data Pre-Processing\n",
    "Note: This dataset has already been scaled"
   ]
  },
  {
   "cell_type": "code",
   "execution_count": 65,
   "metadata": {},
   "outputs": [],
   "source": [
    "import os\n",
    "import tensorflow as tf\n",
    "from keras.models import Sequential\n",
    "from keras.utils import to_categorical\n",
    "from keras.layers import Dense"
   ]
  },
  {
   "cell_type": "code",
   "execution_count": 66,
   "metadata": {},
   "outputs": [],
   "source": [
    "import numpy as np\n",
    "import pandas as pd"
   ]
  },
  {
   "cell_type": "code",
   "execution_count": 68,
   "metadata": {},
   "outputs": [],
   "source": [
    "# Training Data Paths\n",
    "X_training_data = os.path.join(\"Resources\", \"Train\", \"X_train.txt\")\n",
    "y_training_data = os.path.join(\"Resources\", \"Train\", \"y_train.txt\")"
   ]
  },
  {
   "cell_type": "code",
   "execution_count": 70,
   "metadata": {},
   "outputs": [],
   "source": [
    "# Testing Data Paths\n",
    "X_testing_data = os.path.join(\"Resources\", \"Test\", \"X_test.txt\")\n",
    "y_testing_data = os.path.join(\"Resources\", \"Test\", \"y_test.txt\")"
   ]
  },
  {
   "cell_type": "code",
   "execution_count": 71,
   "metadata": {},
   "outputs": [
    {
     "data": {
      "text/html": [
       "<div>\n",
       "<style scoped>\n",
       "    .dataframe tbody tr th:only-of-type {\n",
       "        vertical-align: middle;\n",
       "    }\n",
       "\n",
       "    .dataframe tbody tr th {\n",
       "        vertical-align: top;\n",
       "    }\n",
       "\n",
       "    .dataframe thead th {\n",
       "        text-align: right;\n",
       "    }\n",
       "</style>\n",
       "<table border=\"1\" cl